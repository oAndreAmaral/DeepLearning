{
 "cells": [
  {
   "cell_type": "code",
   "execution_count": 1,
   "metadata": {},
   "outputs": [],
   "source": [
    "import torch\n",
    "import torch.nn as nn\n",
    "\n",
    "import numpy as np\n",
    "import pandas as pd\n",
    "import matplotlib.pyplot as plt\n",
    "from sklearn.utils import shuffle\n",
    "import torch.nn.functional as F\n",
    "from sklearn.model_selection import train_test_split\n",
    "%matplotlib inline\n",
    "\n",
    "df = pd.read_csv('data.csv')"
   ]
  },
  {
   "cell_type": "code",
   "execution_count": 2,
   "metadata": {},
   "outputs": [],
   "source": [
    "df = df.drop('Unnamed: 32', axis=1)"
   ]
  },
  {
   "cell_type": "code",
   "execution_count": 3,
   "metadata": {},
   "outputs": [],
   "source": [
    "df = df.drop('id', axis = 1)"
   ]
  },
  {
   "cell_type": "code",
   "execution_count": 4,
   "metadata": {},
   "outputs": [],
   "source": [
    "df['diagnosis'] = df['diagnosis'].replace(['M', 'B'], [1,0])"
   ]
  },
  {
   "cell_type": "code",
   "execution_count": 5,
   "metadata": {},
   "outputs": [],
   "source": [
    "class Model(nn.Module):\n",
    "    def __init__(self, in_features=30, h1=13, h2=15, h3 = 10, out_features=2):\n",
    "        super().__init__()\n",
    "        \n",
    "        # input layer -> 1 hidden -> 2 hidden -> output \n",
    "        self.fc1 = nn.Linear(in_features,h1)    # input layer\n",
    "        self.fc2 = nn.Linear(h1, h2)            # hidden layer\n",
    "        self.fc3 = nn.Linear(h2, h3)            # hidden layer\n",
    "        self.out = nn.Linear(h3, out_features)  # output layer\n",
    "        \n",
    "    def forward(self, x):\n",
    "        # Pass the neuron input through its activation function to obtain the output of the neuron\n",
    "        x = F.relu(self.fc1(x))\n",
    "        x = F.relu(self.fc2(x))\n",
    "        x = F.relu(self.fc3(x))\n",
    "        x = self.out(x)\n",
    "        return x"
   ]
  },
  {
   "cell_type": "code",
   "execution_count": 6,
   "metadata": {},
   "outputs": [],
   "source": [
    "X = df.drop('diagnosis',axis=1).values\n",
    "y = df['diagnosis'].values\n",
    "\n",
    "X_train, X_test, y_train, y_test = train_test_split(X,y,test_size=0.2,random_state=33)\n",
    "\n",
    "X_train = torch.FloatTensor(X_train)\n",
    "X_test = torch.FloatTensor(X_test)\n",
    "# y_train = F.one_hot(torch.LongTensor(y_train))  # not needed with Cross Entropy Loss\n",
    "# y_test = F.one_hot(torch.LongTensor(y_test))\n",
    "y_train = torch.LongTensor(y_train)\n",
    "y_test = torch.LongTensor(y_test)"
   ]
  },
  {
   "cell_type": "code",
   "execution_count": 7,
   "metadata": {},
   "outputs": [],
   "source": [
    "model = Model()"
   ]
  },
  {
   "cell_type": "code",
   "execution_count": 8,
   "metadata": {},
   "outputs": [],
   "source": [
    "criterion = nn.CrossEntropyLoss() # CrossEntropy does not need one hot encoding\n",
    "optimizer = torch.optim.Adam(model.parameters(), lr=0.01)"
   ]
  },
  {
   "cell_type": "code",
   "execution_count": 9,
   "metadata": {},
   "outputs": [
    {
     "name": "stdout",
     "output_type": "stream",
     "text": [
      "epoch:  1  loss: 2.20097756\n",
      "epoch: 11  loss: 0.46095777\n",
      "epoch: 21  loss: 0.25409105\n",
      "epoch: 31  loss: 0.20364757\n",
      "epoch: 41  loss: 0.19536978\n",
      "epoch: 51  loss: 0.18292333\n",
      "epoch: 61  loss: 0.17422704\n",
      "epoch: 71  loss: 0.20319961\n",
      "epoch: 81  loss: 0.17763655\n",
      "epoch: 91  loss: 0.15645792\n"
     ]
    }
   ],
   "source": [
    "epochs = 100 # number of runs through the training data\n",
    "losses = []\n",
    "\n",
    "for i in range(epochs):\n",
    "    i+=1\n",
    "    y_pred = model.forward(X_train)\n",
    "    loss = criterion(y_pred, y_train)\n",
    "    losses.append(loss)\n",
    "    \n",
    "    # a neat trick to save screen space:\n",
    "    if i%10 == 1:\n",
    "        print(f'epoch: {i:2}  loss: {loss.item():10.8f}')\n",
    "\n",
    "    optimizer.zero_grad() #zero-grad to not accomulate the gradient over the epochs\n",
    "    loss.backward()\n",
    "    optimizer.step()"
   ]
  },
  {
   "cell_type": "code",
   "execution_count": 10,
   "metadata": {},
   "outputs": [
    {
     "name": "stdout",
     "output_type": "stream",
     "text": [
      "tensor(0.1520, grad_fn=<NllLossBackward>)\n"
     ]
    },
    {
     "data": {
      "image/png": "[encoded data removed]",
      "text/plain": [
       "<Figure size 432x288 with 1 Axes>"
      ]
     },
     "metadata": {
      "needs_background": "light"
     },
     "output_type": "display_data"
    }
   ],
   "source": [
    "plt.plot(range(epochs), losses)\n",
    "plt.ylabel('Loss')\n",
    "plt.xlabel('epoch');\n",
    "print(losses[-1])"
   ]
  },
  {
   "cell_type": "code",
   "execution_count": 11,
   "metadata": {},
   "outputs": [
    {
     "name": "stdout",
     "output_type": "stream",
     "text": [
      "0.21600157\n"
     ]
    }
   ],
   "source": [
    "# TO EVALUATE THE ENTIRE TEST SET\n",
    "with torch.no_grad():\n",
    "    y_val = model.forward(X_test)\n",
    "    loss = criterion(y_val, y_test)\n",
    "print(f'{loss:.8f}')"
   ]
  },
  {
   "cell_type": "code",
   "execution_count": 12,
   "metadata": {},
   "outputs": [
    {
     "name": "stdout",
     "output_type": "stream",
     "text": [
      " 1. tensor([-7.8742, -1.2721])              1\n",
      " 2. tensor([-1.3130, -4.6582])              0\n",
      " 3. tensor([-1.0213, -4.9825])              0\n",
      " 4. tensor([-2.9558, -5.5949])              0\n",
      " 5. tensor([-3.9474, -3.5512])              0\n",
      " 6. tensor([-4.0169, -3.9932])              0\n",
      " 7. tensor([-1.0438, -6.3037])              0\n",
      " 8. tensor([-0.8091, -5.7496])              0\n",
      " 9. tensor([-1.0149, -6.5501])              0\n",
      "10. tensor([-0.1179, -4.7702])              0\n",
      "11. tensor([-0.4787, -4.7233])              0\n",
      "12. tensor([-4.7310,  1.2649])              1\n",
      "13. tensor([-0.1160, -5.1227])              0\n",
      "14. tensor([-2.9937, -3.1223])              1\n",
      "15. tensor([-1.6158, -4.4075])              0\n",
      "16. tensor([-5.5938, -1.0443])              1\n",
      "17. tensor([-2.0081, -4.8242])              0\n",
      "18. tensor([-1.6239, -5.9195])              0\n",
      "19. tensor([-0.3896, -4.4534])              0\n",
      "20. tensor([-3.1768, -5.3305])              0\n",
      "21. tensor([-3.2055, -1.8226])              1\n",
      "22. tensor([-0.0618, -4.4015])              0\n",
      "23. tensor([-0.2269, -5.0390])              0\n",
      "24. tensor([-1.6044, -4.4876])              0\n",
      "25. tensor([-12.8737,   8.1815])            1\n",
      "26. tensor([-9.7501,  3.2209])              1\n",
      "27. tensor([-4.7478,  2.1822])              1\n",
      "28. tensor([-3.6482, -3.7988])              0\n",
      "29. tensor([-3.9677, -1.5852])              1\n",
      "30. tensor([-0.8007, -5.7381])              0\n",
      "31. tensor([-3.4881, -4.0569])              0\n",
      "32. tensor([-1.9342, -6.3366])              0\n",
      "33. tensor([-3.5075, -3.4542])              0\n",
      "34. tensor([-1.4837, -4.4949])              0\n",
      "35. tensor([-0.4720, -5.2714])              0\n",
      "36. tensor([-6.3289, -2.0333])              1\n",
      "37. tensor([-11.6447,   4.3232])            1\n",
      "38. tensor([-1.3880, -5.8266])              0\n",
      "39. tensor([-1.1731, -5.1566])              0\n",
      "40. tensor([-0.8561, -5.3245])              0\n",
      "41. tensor([-2.9195, -4.0931])              1\n",
      "42. tensor([-0.9913, -6.2980])              0\n",
      "43. tensor([-1.6493, -5.6306])              0\n",
      "44. tensor([-2.8757, -5.9000])              0\n",
      "45. tensor([-1.1259, -5.2115])              0\n",
      "46. tensor([-2.1557, -3.8599])              0\n",
      "47. tensor([-3.9330, -5.3790])              0\n",
      "48. tensor([-2.6507, -3.1113])              0\n",
      "49. tensor([-2.3567, -5.1822])              0\n",
      "50. tensor([-2.5735, -6.4759])              0\n",
      "51. tensor([-0.8525, -5.7960])              0\n",
      "52. tensor([-6.7323, -2.3929])              1\n",
      "53. tensor([-0.3945, -5.5888])              0\n",
      "54. tensor([-3.0746, -5.0470])              0\n",
      "55. tensor([-1.4361, -5.4532])              0\n",
      "56. tensor([-0.7045, -3.8128])              0\n",
      "57. tensor([-1.6532, -4.8987])              0\n",
      "58. tensor([-21.2612,  18.5997])            1\n",
      "59. tensor([-0.8264, -5.0247])              0\n",
      "60. tensor([-0.9496, -6.1873])              0\n",
      "61. tensor([-9.9520,  3.1476])              1\n",
      "62. tensor([-3.8529, -5.9219])              1\n",
      "63. tensor([-2.9287, -5.7798])              0\n",
      "64. tensor([-12.6946,  -1.2975])            1\n",
      "65. tensor([-2.1690, -4.7104])              0\n",
      "66. tensor([-0.7858, -5.8313])              0\n",
      "67. tensor([-2.7758, -4.6671])              0\n",
      "68. tensor([-3.3194, -4.7229])              0\n",
      "69. tensor([-2.4779, -7.1310])              1\n",
      "70. tensor([-10.8123,   2.7663])            1\n",
      "71. tensor([-1.2934, -5.8468])              0\n",
      "72. tensor([-2.0782, -6.7387])              0\n",
      "73. tensor([-0.1043, -4.9670])              0\n",
      "74. tensor([-12.4534,   6.2999])            1\n",
      "75. tensor([-8.2316,  0.8118])              1\n",
      "76. tensor([-3.5955, -2.7848])              1\n",
      "77. tensor([-9.9150,  2.8491])              1\n",
      "78. tensor([-4.4430, -2.1379])              1\n",
      "79. tensor([-11.2024,   8.8117])            1\n",
      "80. tensor([-1.4626, -7.1066])              0\n",
      "81. tensor([-7.7369, -2.9715])              1\n",
      "82. tensor([-1.3375, -5.1381])              0\n",
      "83. tensor([-2.6908, -5.6320])              0\n",
      "84. tensor([-3.1704, -5.3898])              1\n",
      "85. tensor([-1.5625, -4.5022])              0\n",
      "86. tensor([-8.6836, -2.7204])              1\n",
      "87. tensor([-3.3671, -4.2198])              1\n",
      "88. tensor([-6.5974, -4.7894])              1\n",
      "89. tensor([-4.7083, -2.1711])              1\n",
      "90. tensor([-0.7948, -5.0070])              0\n",
      "91. tensor([-0.3058, -3.0939])              0\n",
      "92. tensor([-9.2971,  2.1679])              1\n",
      "93. tensor([-5.6498,  1.0362])              1\n",
      "94. tensor([-2.3548, -5.2132])              0\n",
      "95. tensor([-3.9527, -1.4564])              1\n",
      "96. tensor([-4.5786, -2.5522])              1\n",
      "97. tensor([-2.5650, -4.4657])              0\n",
      "98. tensor([-10.9481,   8.1311])            1\n",
      "99. tensor([-2.4590, -3.8246])              0\n",
      "100. tensor([-1.3603, -5.6692])              0\n",
      "101. tensor([-4.2894, -5.1282])              1\n",
      "102. tensor([-1.4003, -6.4016])              0\n",
      "103. tensor([-1.7724, -4.2421])              1\n",
      "104. tensor([-0.2695, -6.2292])              0\n",
      "105. tensor([-1.0943, -4.6959])              0\n",
      "106. tensor([-19.8345,  16.1932])            1\n",
      "107. tensor([-1.8509, -4.1810])              0\n",
      "108. tensor([-7.1787, -0.6074])              1\n",
      "109. tensor([-2.2489, -3.6471])              0\n",
      "110. tensor([-13.8559,  13.1427])            1\n",
      "111. tensor([-2.5181, -4.2371])              0\n",
      "112. tensor([-13.1471,   6.1200])            1\n",
      "113. tensor([-3.0531, -6.5639])              0\n",
      "114. tensor([-8.7213,  1.7543])              1\n",
      "\n",
      "103 out of 114 = 90.35% correct\n"
     ]
    }
   ],
   "source": [
    "correct = 0\n",
    "with torch.no_grad():\n",
    "    for i,data in enumerate(X_test):\n",
    "        y_val = model.forward(data)\n",
    "        print(f'{i+1:2}. {str(y_val):38}  {y_test[i]}')\n",
    "        if y_val.argmax().item() == y_test[i]:\n",
    "            correct += 1\n",
    "print(f'\\n{correct} out of {len(y_test)} = {100*correct/len(y_test):.2f}% correct')"
   ]
  },
  {
   "cell_type": "code",
   "execution_count": null,
   "metadata": {},
   "outputs": [],
   "source": []
  }
 ],
 "metadata": {
  "kernelspec": {
   "display_name": "Python 3 (ipykernel)",
   "language": "python",
   "name": "python3"
  },
  "language_info": {
   "codemirror_mode": {
    "name": "ipython",
    "version": 3
   },
   "file_extension": ".py",
   "mimetype": "text/x-python",
   "name": "python",
   "nbconvert_exporter": "python",
   "pygments_lexer": "ipython3",
   "version": "3.7.3"
  }
 },
 "nbformat": 4,
 "nbformat_minor": 4
}
