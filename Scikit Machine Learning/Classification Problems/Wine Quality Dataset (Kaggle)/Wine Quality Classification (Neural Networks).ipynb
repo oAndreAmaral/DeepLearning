{
 "cells": [
  {
   "cell_type": "markdown",
   "metadata": {},
   "source": [
    "# Wine Quality Using Multi-Layer Perceptron"
   ]
  },
  {
   "cell_type": "markdown",
   "metadata": {},
   "source": [
    "Input variables (based on physicochemical tests):\n",
    "    \n",
    "1 - fixed acidity\n",
    "\n",
    "2 - volatile acidity\n",
    "\n",
    "3 - citric acid\n",
    "\n",
    "4 - residual sugar\n",
    "\n",
    "5 - chlorides\n",
    "\n",
    "6 - free sulfur dioxide\n",
    "\n",
    "7 - total sulfur dioxide\n",
    "\n",
    "8 - density\n",
    "\n",
    "9 - pH\n",
    "\n",
    "10 - sulfates\n",
    "\n",
    "11 - alcohol\n",
    "\n",
    "Output variable (based on sensory data):\n",
    "12 - quality (score between 0 and 10)"
   ]
  },
  {
   "cell_type": "code",
   "execution_count": 1,
   "metadata": {},
   "outputs": [],
   "source": [
    "import pandas as pd\n",
    "import numpy as np\n",
    "import tensorflow as tf\n",
    "import seaborn as sns\n",
    "import matplotlib.pyplot as plt\n",
    "%matplotlib inline"
   ]
  },
  {
   "cell_type": "code",
   "execution_count": 2,
   "metadata": {},
   "outputs": [],
   "source": [
    "df = pd.read_csv('winequalityN.csv')"
   ]
  },
  {
   "cell_type": "code",
   "execution_count": 3,
   "metadata": {},
   "outputs": [
    {
     "data": {
      "text/html": [
       "<div>\n",
       "<style scoped>\n",
       "    .dataframe tbody tr th:only-of-type {\n",
       "        vertical-align: middle;\n",
       "    }\n",
       "\n",
       "    .dataframe tbody tr th {\n",
       "        vertical-align: top;\n",
       "    }\n",
       "\n",
       "    .dataframe thead th {\n",
       "        text-align: right;\n",
       "    }\n",
       "</style>\n",
       "<table border=\"1\" class=\"dataframe\">\n",
       "  <thead>\n",
       "    <tr style=\"text-align: right;\">\n",
       "      <th></th>\n",
       "      <th>type</th>\n",
       "      <th>fixed acidity</th>\n",
       "      <th>volatile acidity</th>\n",
       "      <th>citric acid</th>\n",
       "      <th>residual sugar</th>\n",
       "      <th>chlorides</th>\n",
       "      <th>free sulfur dioxide</th>\n",
       "      <th>total sulfur dioxide</th>\n",
       "      <th>density</th>\n",
       "      <th>pH</th>\n",
       "      <th>sulphates</th>\n",
       "      <th>alcohol</th>\n",
       "      <th>quality</th>\n",
       "    </tr>\n",
       "  </thead>\n",
       "  <tbody>\n",
       "    <tr>\n",
       "      <th>0</th>\n",
       "      <td>white</td>\n",
       "      <td>7.0</td>\n",
       "      <td>0.27</td>\n",
       "      <td>0.36</td>\n",
       "      <td>20.7</td>\n",
       "      <td>0.045</td>\n",
       "      <td>45.0</td>\n",
       "      <td>170.0</td>\n",
       "      <td>1.0010</td>\n",
       "      <td>3.00</td>\n",
       "      <td>0.45</td>\n",
       "      <td>8.8</td>\n",
       "      <td>6</td>\n",
       "    </tr>\n",
       "    <tr>\n",
       "      <th>1</th>\n",
       "      <td>white</td>\n",
       "      <td>6.3</td>\n",
       "      <td>0.30</td>\n",
       "      <td>0.34</td>\n",
       "      <td>1.6</td>\n",
       "      <td>0.049</td>\n",
       "      <td>14.0</td>\n",
       "      <td>132.0</td>\n",
       "      <td>0.9940</td>\n",
       "      <td>3.30</td>\n",
       "      <td>0.49</td>\n",
       "      <td>9.5</td>\n",
       "      <td>6</td>\n",
       "    </tr>\n",
       "    <tr>\n",
       "      <th>2</th>\n",
       "      <td>white</td>\n",
       "      <td>8.1</td>\n",
       "      <td>0.28</td>\n",
       "      <td>0.40</td>\n",
       "      <td>6.9</td>\n",
       "      <td>0.050</td>\n",
       "      <td>30.0</td>\n",
       "      <td>97.0</td>\n",
       "      <td>0.9951</td>\n",
       "      <td>3.26</td>\n",
       "      <td>0.44</td>\n",
       "      <td>10.1</td>\n",
       "      <td>6</td>\n",
       "    </tr>\n",
       "    <tr>\n",
       "      <th>3</th>\n",
       "      <td>white</td>\n",
       "      <td>7.2</td>\n",
       "      <td>0.23</td>\n",
       "      <td>0.32</td>\n",
       "      <td>8.5</td>\n",
       "      <td>0.058</td>\n",
       "      <td>47.0</td>\n",
       "      <td>186.0</td>\n",
       "      <td>0.9956</td>\n",
       "      <td>3.19</td>\n",
       "      <td>0.40</td>\n",
       "      <td>9.9</td>\n",
       "      <td>6</td>\n",
       "    </tr>\n",
       "    <tr>\n",
       "      <th>4</th>\n",
       "      <td>white</td>\n",
       "      <td>7.2</td>\n",
       "      <td>0.23</td>\n",
       "      <td>0.32</td>\n",
       "      <td>8.5</td>\n",
       "      <td>0.058</td>\n",
       "      <td>47.0</td>\n",
       "      <td>186.0</td>\n",
       "      <td>0.9956</td>\n",
       "      <td>3.19</td>\n",
       "      <td>0.40</td>\n",
       "      <td>9.9</td>\n",
       "      <td>6</td>\n",
       "    </tr>\n",
       "  </tbody>\n",
       "</table>\n",
       "</div>"
      ],
      "text/plain": [
       "    type  fixed acidity  volatile acidity  citric acid  residual sugar  \\\n",
       "0  white            7.0              0.27         0.36            20.7   \n",
       "1  white            6.3              0.30         0.34             1.6   \n",
       "2  white            8.1              0.28         0.40             6.9   \n",
       "3  white            7.2              0.23         0.32             8.5   \n",
       "4  white            7.2              0.23         0.32             8.5   \n",
       "\n",
       "   chlorides  free sulfur dioxide  total sulfur dioxide  density    pH  \\\n",
       "0      0.045                 45.0                 170.0   1.0010  3.00   \n",
       "1      0.049                 14.0                 132.0   0.9940  3.30   \n",
       "2      0.050                 30.0                  97.0   0.9951  3.26   \n",
       "3      0.058                 47.0                 186.0   0.9956  3.19   \n",
       "4      0.058                 47.0                 186.0   0.9956  3.19   \n",
       "\n",
       "   sulphates  alcohol  quality  \n",
       "0       0.45      8.8        6  \n",
       "1       0.49      9.5        6  \n",
       "2       0.44     10.1        6  \n",
       "3       0.40      9.9        6  \n",
       "4       0.40      9.9        6  "
      ]
     },
     "execution_count": 3,
     "metadata": {},
     "output_type": "execute_result"
    }
   ],
   "source": [
    "df.head()"
   ]
  },
  {
   "cell_type": "markdown",
   "metadata": {},
   "source": [
    "# EDA"
   ]
  },
  {
   "cell_type": "code",
   "execution_count": 4,
   "metadata": {},
   "outputs": [
    {
     "name": "stdout",
     "output_type": "stream",
     "text": [
      "<class 'pandas.core.frame.DataFrame'>\n",
      "RangeIndex: 6497 entries, 0 to 6496\n",
      "Data columns (total 13 columns):\n",
      " #   Column                Non-Null Count  Dtype  \n",
      "---  ------                --------------  -----  \n",
      " 0   type                  6497 non-null   object \n",
      " 1   fixed acidity         6487 non-null   float64\n",
      " 2   volatile acidity      6489 non-null   float64\n",
      " 3   citric acid           6494 non-null   float64\n",
      " 4   residual sugar        6495 non-null   float64\n",
      " 5   chlorides             6495 non-null   float64\n",
      " 6   free sulfur dioxide   6497 non-null   float64\n",
      " 7   total sulfur dioxide  6497 non-null   float64\n",
      " 8   density               6497 non-null   float64\n",
      " 9   pH                    6488 non-null   float64\n",
      " 10  sulphates             6493 non-null   float64\n",
      " 11  alcohol               6497 non-null   float64\n",
      " 12  quality               6497 non-null   int64  \n",
      "dtypes: float64(11), int64(1), object(1)\n",
      "memory usage: 660.0+ KB\n"
     ]
    }
   ],
   "source": [
    "df.info()"
   ]
  },
  {
   "cell_type": "code",
   "execution_count": 5,
   "metadata": {},
   "outputs": [
    {
     "data": {
      "text/plain": [
       "6    2836\n",
       "5    2138\n",
       "7    1079\n",
       "4     216\n",
       "8     193\n",
       "3      30\n",
       "9       5\n",
       "Name: quality, dtype: int64"
      ]
     },
     "execution_count": 5,
     "metadata": {},
     "output_type": "execute_result"
    }
   ],
   "source": [
    "df['quality'].value_counts()"
   ]
  },
  {
   "cell_type": "code",
   "execution_count": 6,
   "metadata": {},
   "outputs": [
    {
     "data": {
      "text/plain": [
       "type                     0\n",
       "fixed acidity           10\n",
       "volatile acidity         8\n",
       "citric acid              3\n",
       "residual sugar           2\n",
       "chlorides                2\n",
       "free sulfur dioxide      0\n",
       "total sulfur dioxide     0\n",
       "density                  0\n",
       "pH                       9\n",
       "sulphates                4\n",
       "alcohol                  0\n",
       "quality                  0\n",
       "dtype: int64"
      ]
     },
     "execution_count": 6,
     "metadata": {},
     "output_type": "execute_result"
    }
   ],
   "source": [
    "df.isnull().sum()"
   ]
  },
  {
   "cell_type": "markdown",
   "metadata": {},
   "source": [
    "As we can see there are some null values along the dataset, lets add to the unknown values its mean."
   ]
  },
  {
   "cell_type": "code",
   "execution_count": 7,
   "metadata": {},
   "outputs": [],
   "source": [
    "df.update(df.fillna(df.mean()))"
   ]
  },
  {
   "cell_type": "markdown",
   "metadata": {},
   "source": [
    "Lets now explore some features!"
   ]
  },
  {
   "cell_type": "code",
   "execution_count": 8,
   "metadata": {},
   "outputs": [
    {
     "data": {
      "text/plain": [
       "<matplotlib.axes._subplots.AxesSubplot at 0x20500edcee0>"
      ]
     },
     "execution_count": 8,
     "metadata": {},
     "output_type": "execute_result"
    },
    {
     "data": {
      "image/png": "[encoded data removed]",
      "text/plain": [
       "<Figure size 432x288 with 1 Axes>"
      ]
     },
     "metadata": {
      "needs_background": "light"
     },
     "output_type": "display_data"
    }
   ],
   "source": [
    "sns.distplot(df['fixed acidity'])"
   ]
  },
  {
   "cell_type": "code",
   "execution_count": 9,
   "metadata": {},
   "outputs": [
    {
     "data": {
      "text/plain": [
       "6.80     354\n",
       "6.60     326\n",
       "6.40     305\n",
       "7.00     282\n",
       "6.90     279\n",
       "        ... \n",
       "6.45       1\n",
       "3.90       1\n",
       "13.40      1\n",
       "3.80       1\n",
       "14.30      1\n",
       "Name: fixed acidity, Length: 107, dtype: int64"
      ]
     },
     "execution_count": 9,
     "metadata": {},
     "output_type": "execute_result"
    }
   ],
   "source": [
    "df['fixed acidity'].value_counts()"
   ]
  },
  {
   "cell_type": "markdown",
   "metadata": {},
   "source": [
    "As the distribution plot and the value_counts prove, we have data above the 15 acidity that has low representation in the dataset so we can remove it"
   ]
  },
  {
   "cell_type": "code",
   "execution_count": 10,
   "metadata": {},
   "outputs": [
    {
     "data": {
      "text/plain": [
       "32.485"
      ]
     },
     "execution_count": 10,
     "metadata": {},
     "output_type": "execute_result"
    }
   ],
   "source": [
    "len(df['fixed acidity'])*(0.005)"
   ]
  },
  {
   "cell_type": "code",
   "execution_count": 11,
   "metadata": {},
   "outputs": [],
   "source": [
    "df = df.sort_values('fixed acidity',ascending=False).iloc[32:] "
   ]
  },
  {
   "cell_type": "code",
   "execution_count": 12,
   "metadata": {},
   "outputs": [
    {
     "data": {
      "text/plain": [
       "<matplotlib.axes._subplots.AxesSubplot at 0x2056db42760>"
      ]
     },
     "execution_count": 12,
     "metadata": {},
     "output_type": "execute_result"
    },
    {
     "data": {
      "image/png": "[encoded data removed]",
      "text/plain": [
       "<Figure size 432x288 with 1 Axes>"
      ]
     },
     "metadata": {
      "needs_background": "light"
     },
     "output_type": "display_data"
    }
   ],
   "source": [
    "sns.distplot(df['fixed acidity'])"
   ]
  },
  {
   "cell_type": "markdown",
   "metadata": {},
   "source": [
    "As we can see the type is not a number variable so we can transforme it!"
   ]
  },
  {
   "cell_type": "code",
   "execution_count": 13,
   "metadata": {},
   "outputs": [],
   "source": [
    "df['type'] = df['type'].replace(to_replace=['white', 'red'], value=[1, 0])   "
   ]
  },
  {
   "cell_type": "markdown",
   "metadata": {},
   "source": [
    "Lets consider that a quality above 5 is good and less is bad, so we can create a new feature according that."
   ]
  },
  {
   "cell_type": "code",
   "execution_count": 14,
   "metadata": {},
   "outputs": [],
   "source": [
    "df['Good Quality']=[1 if x>5 else 0 for x in df.quality]"
   ]
  },
  {
   "cell_type": "markdown",
   "metadata": {},
   "source": [
    "Than we can drop the quality column since it won't be necessary"
   ]
  },
  {
   "cell_type": "code",
   "execution_count": 15,
   "metadata": {},
   "outputs": [],
   "source": [
    "df = df.drop('quality', axis = 1)"
   ]
  },
  {
   "cell_type": "markdown",
   "metadata": {},
   "source": [
    "Lets analyze the correlation between the features."
   ]
  },
  {
   "cell_type": "code",
   "execution_count": 16,
   "metadata": {},
   "outputs": [
    {
     "data": {
      "text/plain": [
       "<matplotlib.axes._subplots.AxesSubplot at 0x2056dd81130>"
      ]
     },
     "execution_count": 16,
     "metadata": {},
     "output_type": "execute_result"
    },
    {
     "data": {
      "image/png": "[encoded data removed]",
      "text/plain": [
       "<Figure size 864x720 with 2 Axes>"
      ]
     },
     "metadata": {
      "needs_background": "light"
     },
     "output_type": "display_data"
    }
   ],
   "source": [
    "plt.figure(figsize=(12,10))\n",
    "sns.heatmap(df.corr(), annot = True)"
   ]
  },
  {
   "cell_type": "code",
   "execution_count": 17,
   "metadata": {},
   "outputs": [],
   "source": [
    "X = df.drop('Good Quality', axis = 1).values\n",
    "Y = df['Good Quality'].values"
   ]
  },
  {
   "cell_type": "markdown",
   "metadata": {},
   "source": [
    "# <font color='green'><b> Nerual Network (MLP) </b></font>"
   ]
  },
  {
   "cell_type": "markdown",
   "metadata": {},
   "source": [
    "### Train Test Split"
   ]
  },
  {
   "cell_type": "code",
   "execution_count": 18,
   "metadata": {},
   "outputs": [],
   "source": [
    "from sklearn.model_selection import train_test_split\n",
    "X_train, X_test, Y_train, Y_test = train_test_split(X,Y,test_size=0.25,random_state=101)"
   ]
  },
  {
   "cell_type": "markdown",
   "metadata": {},
   "source": [
    "### Scaling Data"
   ]
  },
  {
   "cell_type": "code",
   "execution_count": 19,
   "metadata": {},
   "outputs": [],
   "source": [
    "from sklearn.preprocessing import MinMaxScaler\n",
    "scaler = MinMaxScaler()"
   ]
  },
  {
   "cell_type": "code",
   "execution_count": 20,
   "metadata": {},
   "outputs": [],
   "source": [
    "X_train_scaled = scaler.fit_transform(X_train)\n",
    "X_test_scaled = scaler.transform(X_test)"
   ]
  },
  {
   "cell_type": "markdown",
   "metadata": {},
   "source": [
    "### Creating The Model"
   ]
  },
  {
   "cell_type": "code",
   "execution_count": 21,
   "metadata": {},
   "outputs": [],
   "source": [
    "from tensorflow.keras.models import Sequential\n",
    "from tensorflow.keras.layers import Dense, Activation,Dropout"
   ]
  },
  {
   "cell_type": "code",
   "execution_count": 22,
   "metadata": {},
   "outputs": [
    {
     "data": {
      "text/plain": [
       "(4848, 12)"
      ]
     },
     "execution_count": 22,
     "metadata": {},
     "output_type": "execute_result"
    }
   ],
   "source": [
    "X_train.shape"
   ]
  },
  {
   "cell_type": "code",
   "execution_count": 23,
   "metadata": {},
   "outputs": [],
   "source": [
    "model = Sequential()\n",
    "\n",
    "model.add(Dense(units=30,activation='relu'))\n",
    "model.add(Dropout(0.2))\n",
    "model.add(Dense(units=20,activation='relu'))\n",
    "model.add(Dropout(0.2))\n",
    "model.add(Dense(units=10,activation='relu'))\n",
    "model.add(Dropout(0.2))\n",
    "\n",
    "model.add(Dense(units=1,activation='sigmoid'))\n",
    "\n",
    "# For a binary classification problem\n",
    "model.compile(loss='binary_crossentropy', optimizer='adam')"
   ]
  },
  {
   "cell_type": "code",
   "execution_count": 24,
   "metadata": {},
   "outputs": [],
   "source": [
    "from tensorflow.keras.callbacks import EarlyStopping\n",
    "cb = EarlyStopping(monitor='val_loss', mode='min', verbose=1, patience=10)"
   ]
  },
  {
   "cell_type": "markdown",
   "metadata": {},
   "source": [
    "### Training The Model"
   ]
  },
  {
   "cell_type": "code",
   "execution_count": 25,
   "metadata": {},
   "outputs": [
    {
     "name": "stdout",
     "output_type": "stream",
     "text": [
      "Epoch 1/600\n",
      "11/11 [==============================] - 1s 32ms/step - loss: 0.6853 - val_loss: 0.6731\n",
      "Epoch 2/600\n",
      "11/11 [==============================] - 0s 4ms/step - loss: 0.6710 - val_loss: 0.6618\n",
      "Epoch 3/600\n",
      "11/11 [==============================] - 0s 4ms/step - loss: 0.6601 - val_loss: 0.6493\n",
      "Epoch 4/600\n",
      "11/11 [==============================] - 0s 4ms/step - loss: 0.6571 - val_loss: 0.6400\n",
      "Epoch 5/600\n",
      "11/11 [==============================] - 0s 4ms/step - loss: 0.6492 - val_loss: 0.6341\n",
      "Epoch 6/600\n",
      "11/11 [==============================] - 0s 4ms/step - loss: 0.6444 - val_loss: 0.6285\n",
      "Epoch 7/600\n",
      "11/11 [==============================] - 0s 4ms/step - loss: 0.6400 - val_loss: 0.6184\n",
      "Epoch 8/600\n",
      "11/11 [==============================] - 0s 4ms/step - loss: 0.6287 - val_loss: 0.6028\n",
      "Epoch 9/600\n",
      "11/11 [==============================] - 0s 4ms/step - loss: 0.6209 - val_loss: 0.5878\n",
      "Epoch 10/600\n",
      "11/11 [==============================] - 0s 4ms/step - loss: 0.6067 - val_loss: 0.5788\n",
      "Epoch 11/600\n",
      "11/11 [==============================] - 0s 4ms/step - loss: 0.5959 - val_loss: 0.5645\n",
      "Epoch 12/600\n",
      "11/11 [==============================] - 0s 4ms/step - loss: 0.5842 - val_loss: 0.5646\n",
      "Epoch 13/600\n",
      "11/11 [==============================] - 0s 4ms/step - loss: 0.5802 - val_loss: 0.5517\n",
      "Epoch 14/600\n",
      "11/11 [==============================] - 0s 4ms/step - loss: 0.5755 - val_loss: 0.5506\n",
      "Epoch 15/600\n",
      "11/11 [==============================] - 0s 4ms/step - loss: 0.5677 - val_loss: 0.5440\n",
      "Epoch 16/600\n",
      "11/11 [==============================] - 0s 4ms/step - loss: 0.5690 - val_loss: 0.5400\n",
      "Epoch 17/600\n",
      "11/11 [==============================] - 0s 4ms/step - loss: 0.5679 - val_loss: 0.5365\n",
      "Epoch 18/600\n",
      "11/11 [==============================] - 0s 4ms/step - loss: 0.5622 - val_loss: 0.5334\n",
      "Epoch 19/600\n",
      "11/11 [==============================] - 0s 4ms/step - loss: 0.5569 - val_loss: 0.5300\n",
      "Epoch 20/600\n",
      "11/11 [==============================] - 0s 4ms/step - loss: 0.5539 - val_loss: 0.5278\n",
      "Epoch 21/600\n",
      "11/11 [==============================] - 0s 4ms/step - loss: 0.5512 - val_loss: 0.5272\n",
      "Epoch 22/600\n",
      "11/11 [==============================] - 0s 4ms/step - loss: 0.5489 - val_loss: 0.5244\n",
      "Epoch 23/600\n",
      "11/11 [==============================] - 0s 4ms/step - loss: 0.5449 - val_loss: 0.5215\n",
      "Epoch 24/600\n",
      "11/11 [==============================] - 0s 4ms/step - loss: 0.5472 - val_loss: 0.5210\n",
      "Epoch 25/600\n",
      "11/11 [==============================] - 0s 4ms/step - loss: 0.5460 - val_loss: 0.5198\n",
      "Epoch 26/600\n",
      "11/11 [==============================] - 0s 4ms/step - loss: 0.5428 - val_loss: 0.5173\n",
      "Epoch 27/600\n",
      "11/11 [==============================] - 0s 4ms/step - loss: 0.5431 - val_loss: 0.5167\n",
      "Epoch 28/600\n",
      "11/11 [==============================] - 0s 4ms/step - loss: 0.5377 - val_loss: 0.5145\n",
      "Epoch 29/600\n",
      "11/11 [==============================] - 0s 4ms/step - loss: 0.5352 - val_loss: 0.5152\n",
      "Epoch 30/600\n",
      "11/11 [==============================] - 0s 4ms/step - loss: 0.5355 - val_loss: 0.5118\n",
      "Epoch 31/600\n",
      "11/11 [==============================] - 0s 4ms/step - loss: 0.5365 - val_loss: 0.5128\n",
      "Epoch 32/600\n",
      "11/11 [==============================] - 0s 4ms/step - loss: 0.5304 - val_loss: 0.5101\n",
      "Epoch 33/600\n",
      "11/11 [==============================] - 0s 4ms/step - loss: 0.5267 - val_loss: 0.5079\n",
      "Epoch 34/600\n",
      "11/11 [==============================] - 0s 4ms/step - loss: 0.5340 - val_loss: 0.5093\n",
      "Epoch 35/600\n",
      "11/11 [==============================] - 0s 4ms/step - loss: 0.5299 - val_loss: 0.5057\n",
      "Epoch 36/600\n",
      "11/11 [==============================] - 0s 4ms/step - loss: 0.5245 - val_loss: 0.5075\n",
      "Epoch 37/600\n",
      "11/11 [==============================] - 0s 4ms/step - loss: 0.5248 - val_loss: 0.5029\n",
      "Epoch 38/600\n",
      "11/11 [==============================] - 0s 4ms/step - loss: 0.5261 - val_loss: 0.5039\n",
      "Epoch 39/600\n",
      "11/11 [==============================] - 0s 4ms/step - loss: 0.5292 - val_loss: 0.5079\n",
      "Epoch 40/600\n",
      "11/11 [==============================] - 0s 4ms/step - loss: 0.5246 - val_loss: 0.5033\n",
      "Epoch 41/600\n",
      "11/11 [==============================] - 0s 6ms/step - loss: 0.5235 - val_loss: 0.5024\n",
      "Epoch 42/600\n",
      "11/11 [==============================] - 0s 4ms/step - loss: 0.5172 - val_loss: 0.5023\n",
      "Epoch 43/600\n",
      "11/11 [==============================] - 0s 4ms/step - loss: 0.5193 - val_loss: 0.5012\n",
      "Epoch 44/600\n",
      "11/11 [==============================] - 0s 4ms/step - loss: 0.5154 - val_loss: 0.4995\n",
      "Epoch 45/600\n",
      "11/11 [==============================] - 0s 4ms/step - loss: 0.5141 - val_loss: 0.5001\n",
      "Epoch 46/600\n",
      "11/11 [==============================] - 0s 4ms/step - loss: 0.5174 - val_loss: 0.5020\n",
      "Epoch 47/600\n",
      "11/11 [==============================] - 0s 4ms/step - loss: 0.5145 - val_loss: 0.4992\n",
      "Epoch 48/600\n",
      "11/11 [==============================] - 0s 5ms/step - loss: 0.5165 - val_loss: 0.5001\n",
      "Epoch 49/600\n",
      "11/11 [==============================] - 0s 4ms/step - loss: 0.5142 - val_loss: 0.4987\n",
      "Epoch 50/600\n",
      "11/11 [==============================] - 0s 4ms/step - loss: 0.5127 - val_loss: 0.4989\n",
      "Epoch 51/600\n",
      "11/11 [==============================] - 0s 4ms/step - loss: 0.5123 - val_loss: 0.4988\n",
      "Epoch 52/600\n",
      "11/11 [==============================] - 0s 5ms/step - loss: 0.5151 - val_loss: 0.4979\n",
      "Epoch 53/600\n",
      "11/11 [==============================] - 0s 4ms/step - loss: 0.5190 - val_loss: 0.4993\n",
      "Epoch 54/600\n",
      "11/11 [==============================] - 0s 5ms/step - loss: 0.5117 - val_loss: 0.4999\n",
      "Epoch 55/600\n",
      "11/11 [==============================] - 0s 4ms/step - loss: 0.5119 - val_loss: 0.4980\n",
      "Epoch 56/600\n",
      "11/11 [==============================] - 0s 4ms/step - loss: 0.5103 - val_loss: 0.4980\n",
      "Epoch 57/600\n",
      "11/11 [==============================] - 0s 4ms/step - loss: 0.5101 - val_loss: 0.4973\n",
      "Epoch 58/600\n",
      "11/11 [==============================] - 0s 4ms/step - loss: 0.5083 - val_loss: 0.4978\n",
      "Epoch 59/600\n",
      "11/11 [==============================] - 0s 4ms/step - loss: 0.5104 - val_loss: 0.4973\n",
      "Epoch 60/600\n",
      "11/11 [==============================] - 0s 4ms/step - loss: 0.5111 - val_loss: 0.4972\n",
      "Epoch 61/600\n",
      "11/11 [==============================] - 0s 4ms/step - loss: 0.5042 - val_loss: 0.4987\n",
      "Epoch 62/600\n",
      "11/11 [==============================] - 0s 5ms/step - loss: 0.5129 - val_loss: 0.4963\n",
      "Epoch 63/600\n",
      "11/11 [==============================] - 0s 5ms/step - loss: 0.5127 - val_loss: 0.4972\n",
      "Epoch 64/600\n",
      "11/11 [==============================] - 0s 5ms/step - loss: 0.5108 - val_loss: 0.4978\n",
      "Epoch 65/600\n",
      "11/11 [==============================] - 0s 5ms/step - loss: 0.5101 - val_loss: 0.4980\n",
      "Epoch 66/600\n",
      "11/11 [==============================] - 0s 4ms/step - loss: 0.5030 - val_loss: 0.4968\n",
      "Epoch 67/600\n",
      "11/11 [==============================] - 0s 4ms/step - loss: 0.5053 - val_loss: 0.4968\n",
      "Epoch 68/600\n",
      "11/11 [==============================] - 0s 4ms/step - loss: 0.5106 - val_loss: 0.4979\n",
      "Epoch 69/600\n",
      "11/11 [==============================] - 0s 5ms/step - loss: 0.5139 - val_loss: 0.4979\n",
      "Epoch 70/600\n",
      "11/11 [==============================] - 0s 4ms/step - loss: 0.5076 - val_loss: 0.4962\n",
      "Epoch 71/600\n",
      "11/11 [==============================] - 0s 5ms/step - loss: 0.5043 - val_loss: 0.4973\n",
      "Epoch 72/600\n",
      "11/11 [==============================] - 0s 4ms/step - loss: 0.5046 - val_loss: 0.4958\n",
      "Epoch 73/600\n",
      "11/11 [==============================] - 0s 4ms/step - loss: 0.5022 - val_loss: 0.4964\n",
      "Epoch 74/600\n",
      "11/11 [==============================] - 0s 4ms/step - loss: 0.5040 - val_loss: 0.4957\n",
      "Epoch 75/600\n",
      "11/11 [==============================] - 0s 4ms/step - loss: 0.5053 - val_loss: 0.4974\n",
      "Epoch 76/600\n",
      "11/11 [==============================] - 0s 4ms/step - loss: 0.4993 - val_loss: 0.4953\n",
      "Epoch 77/600\n",
      "11/11 [==============================] - 0s 4ms/step - loss: 0.5080 - val_loss: 0.4963\n",
      "Epoch 78/600\n",
      "11/11 [==============================] - 0s 4ms/step - loss: 0.5016 - val_loss: 0.4944\n",
      "Epoch 79/600\n",
      "11/11 [==============================] - 0s 4ms/step - loss: 0.5038 - val_loss: 0.4971\n",
      "Epoch 80/600\n",
      "11/11 [==============================] - 0s 4ms/step - loss: 0.5014 - val_loss: 0.4951\n",
      "Epoch 81/600\n",
      "11/11 [==============================] - 0s 4ms/step - loss: 0.5009 - val_loss: 0.4959\n",
      "Epoch 82/600\n",
      "11/11 [==============================] - 0s 4ms/step - loss: 0.5066 - val_loss: 0.4959\n",
      "Epoch 83/600\n"
     ]
    },
    {
     "name": "stdout",
     "output_type": "stream",
     "text": [
      "11/11 [==============================] - 0s 4ms/step - loss: 0.5018 - val_loss: 0.4949\n",
      "Epoch 84/600\n",
      "11/11 [==============================] - 0s 4ms/step - loss: 0.5019 - val_loss: 0.4950\n",
      "Epoch 85/600\n",
      "11/11 [==============================] - 0s 4ms/step - loss: 0.5035 - val_loss: 0.4966\n",
      "Epoch 86/600\n",
      "11/11 [==============================] - 0s 4ms/step - loss: 0.5031 - val_loss: 0.4947\n",
      "Epoch 87/600\n",
      "11/11 [==============================] - 0s 4ms/step - loss: 0.5007 - val_loss: 0.4945\n",
      "Epoch 88/600\n",
      "11/11 [==============================] - 0s 4ms/step - loss: 0.5002 - val_loss: 0.4968\n",
      "Epoch 00088: early stopping\n"
     ]
    },
    {
     "data": {
      "text/plain": [
       "<keras.callbacks.History at 0x2057606ec70>"
      ]
     },
     "execution_count": 25,
     "metadata": {},
     "output_type": "execute_result"
    }
   ],
   "source": [
    "model.fit(x=X_train_scaled,y=Y_train, validation_data=(X_test_scaled, Y_test), batch_size=450, epochs=600, callbacks=[cb])"
   ]
  },
  {
   "cell_type": "code",
   "execution_count": 26,
   "metadata": {},
   "outputs": [
    {
     "data": {
      "text/plain": [
       "<matplotlib.axes._subplots.AxesSubplot at 0x205784408b0>"
      ]
     },
     "execution_count": 26,
     "metadata": {},
     "output_type": "execute_result"
    },
    {
     "data": {
      "image/png": "[encoded data removed]",
      "text/plain": [
       "<Figure size 432x288 with 1 Axes>"
      ]
     },
     "metadata": {
      "needs_background": "light"
     },
     "output_type": "display_data"
    }
   ],
   "source": [
    "losses = pd.DataFrame(model.history.history)\n",
    "losses.plot()"
   ]
  },
  {
   "cell_type": "markdown",
   "metadata": {},
   "source": [
    "### Model Evaluation"
   ]
  },
  {
   "cell_type": "code",
   "execution_count": 27,
   "metadata": {},
   "outputs": [],
   "source": [
    "predictions = (model.predict(X_test_scaled) > 0.5).astype(\"int32\")"
   ]
  },
  {
   "cell_type": "code",
   "execution_count": 28,
   "metadata": {},
   "outputs": [],
   "source": [
    "from sklearn.metrics import classification_report,confusion_matrix, accuracy_score"
   ]
  },
  {
   "cell_type": "code",
   "execution_count": 29,
   "metadata": {},
   "outputs": [
    {
     "name": "stdout",
     "output_type": "stream",
     "text": [
      "[[395 187]\n",
      " [199 836]]\n"
     ]
    }
   ],
   "source": [
    "print(confusion_matrix(Y_test,predictions))"
   ]
  },
  {
   "cell_type": "code",
   "execution_count": 30,
   "metadata": {},
   "outputs": [
    {
     "name": "stdout",
     "output_type": "stream",
     "text": [
      "              precision    recall  f1-score   support\n",
      "\n",
      "           0       0.66      0.68      0.67       582\n",
      "           1       0.82      0.81      0.81      1035\n",
      "\n",
      "    accuracy                           0.76      1617\n",
      "   macro avg       0.74      0.74      0.74      1617\n",
      "weighted avg       0.76      0.76      0.76      1617\n",
      "\n"
     ]
    }
   ],
   "source": [
    "print(classification_report(Y_test,predictions))"
   ]
  },
  {
   "cell_type": "code",
   "execution_count": 31,
   "metadata": {},
   "outputs": [
    {
     "name": "stdout",
     "output_type": "stream",
     "text": [
      "0.7612863327149041\n"
     ]
    }
   ],
   "source": [
    "print(accuracy_score(Y_test,predictions))"
   ]
  },
  {
   "cell_type": "code",
   "execution_count": null,
   "metadata": {},
   "outputs": [],
   "source": []
  }
 ],
 "metadata": {
  "kernelspec": {
   "display_name": "Python 3",
   "language": "python",
   "name": "python3"
  },
  "language_info": {
   "codemirror_mode": {
    "name": "ipython",
    "version": 3
   },
   "file_extension": ".py",
   "mimetype": "text/x-python",
   "name": "python",
   "nbconvert_exporter": "python",
   "pygments_lexer": "ipython3",
   "version": "3.8.3"
  }
 },
 "nbformat": 4,
 "nbformat_minor": 4
}
