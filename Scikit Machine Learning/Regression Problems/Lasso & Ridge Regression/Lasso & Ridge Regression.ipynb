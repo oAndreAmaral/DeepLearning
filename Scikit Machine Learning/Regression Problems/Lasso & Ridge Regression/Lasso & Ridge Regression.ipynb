{
 "cells": [
  {
   "cell_type": "markdown",
   "metadata": {},
   "source": [
    "# Lasso & Ridge Regression"
   ]
  },
  {
   "cell_type": "markdown",
   "metadata": {},
   "source": [
    "O principal objetivo da regularização é obter um modelo que se ajusta à relação entre o x e y, e que possua coeficientes de pesos baixos."
   ]
  },
  {
   "cell_type": "code",
   "execution_count": 1,
   "metadata": {},
   "outputs": [],
   "source": [
    "import tensorflow as tf\n",
    "import pandas as pd\n",
    "import numpy as np\n",
    "import seaborn as sns\n",
    "import matplotlib.pyplot as plt\n",
    "import sklearn.linear_model as linear\n",
    "import scipy.io\n",
    "%matplotlib inline"
   ]
  },
  {
   "cell_type": "markdown",
   "metadata": {},
   "source": [
    "### Informação Teórica Acerca dos Métodos"
   ]
  },
  {
   "cell_type": "markdown",
   "metadata": {},
   "source": [
    "##### <i> Ridge </i>"
   ]
  },
  {
   "cell_type": "markdown",
   "metadata": {},
   "source": [
    "Introduz um novo termo de regularização (lambda*||B||_2^2,) que contem a norma l2 ao quadrado. Este termo é uma constrain que irá penalizar o uso de coeficientes de pesos elevados. Nesta regularização os coeficientes tendem em diminuir mais lentamente logo um lambda mais elevado pode ajudar a visualizar o resultado.\n",
    "\n",
    "B_ridge = arg min (||y-XB||_2)^2 + lambda*||B||_2^2"
   ]
  },
  {
   "cell_type": "markdown",
   "metadata": {},
   "source": [
    "##### <i> Lasso </i>"
   ]
  },
  {
   "cell_type": "markdown",
   "metadata": {},
   "source": [
    "O termo de regularização em tudo é idêntico ao do método de Ridge contudo a norma é a norma 1. Nesta regulariazação o vetor dos coeficientes é esparso, uma vez que os coeficientes menos importantes serão nulos. Deste modo reduz a complexidade do problema permitindo que seja mais rapido e obtenha melhores estimativas nos coeficientes que realmente importam.\n",
    "\n",
    "B_lasso = arg min (||y-XB||_2)^2 + lambda*||B||_1^2"
   ]
  },
  {
   "cell_type": "markdown",
   "metadata": {},
   "source": [
    "### Importar dados X e Y"
   ]
  },
  {
   "cell_type": "code",
   "execution_count": 2,
   "metadata": {},
   "outputs": [],
   "source": [
    "x_data = np.load('data3_x.npy')\n",
    "y_data = np.load('data3_y.npy')\n",
    "\n",
    "scipy.io.savemat('test_andre.mat', dict(x=x_data, y=y_data))\n",
    "# Ler files .mat --> scipy.io.loadmat"
   ]
  },
  {
   "cell_type": "code",
   "execution_count": 3,
   "metadata": {},
   "outputs": [],
   "source": [
    "x_data = pd.DataFrame(x_data)\n",
    "y_data = pd.DataFrame(y_data)"
   ]
  },
  {
   "cell_type": "code",
   "execution_count": 4,
   "metadata": {},
   "outputs": [
    {
     "data": {
      "text/html": [
       "<div>\n",
       "<style scoped>\n",
       "    .dataframe tbody tr th:only-of-type {\n",
       "        vertical-align: middle;\n",
       "    }\n",
       "\n",
       "    .dataframe tbody tr th {\n",
       "        vertical-align: top;\n",
       "    }\n",
       "\n",
       "    .dataframe thead th {\n",
       "        text-align: right;\n",
       "    }\n",
       "</style>\n",
       "<table border=\"1\" class=\"dataframe\">\n",
       "  <thead>\n",
       "    <tr style=\"text-align: right;\">\n",
       "      <th></th>\n",
       "      <th>0</th>\n",
       "      <th>1</th>\n",
       "      <th>2</th>\n",
       "    </tr>\n",
       "  </thead>\n",
       "  <tbody>\n",
       "    <tr>\n",
       "      <th>0</th>\n",
       "      <td>-0.525793</td>\n",
       "      <td>0.589945</td>\n",
       "      <td>1.385769</td>\n",
       "    </tr>\n",
       "    <tr>\n",
       "      <th>1</th>\n",
       "      <td>0.587630</td>\n",
       "      <td>-0.472987</td>\n",
       "      <td>-0.184388</td>\n",
       "    </tr>\n",
       "    <tr>\n",
       "      <th>2</th>\n",
       "      <td>0.127617</td>\n",
       "      <td>0.725941</td>\n",
       "      <td>0.974332</td>\n",
       "    </tr>\n",
       "    <tr>\n",
       "      <th>3</th>\n",
       "      <td>1.488531</td>\n",
       "      <td>2.065563</td>\n",
       "      <td>0.970519</td>\n",
       "    </tr>\n",
       "    <tr>\n",
       "      <th>4</th>\n",
       "      <td>1.311613</td>\n",
       "      <td>-0.410078</td>\n",
       "      <td>1.433540</td>\n",
       "    </tr>\n",
       "  </tbody>\n",
       "</table>\n",
       "</div>"
      ],
      "text/plain": [
       "          0         1         2\n",
       "0 -0.525793  0.589945  1.385769\n",
       "1  0.587630 -0.472987 -0.184388\n",
       "2  0.127617  0.725941  0.974332\n",
       "3  1.488531  2.065563  0.970519\n",
       "4  1.311613 -0.410078  1.433540"
      ]
     },
     "execution_count": 4,
     "metadata": {},
     "output_type": "execute_result"
    }
   ],
   "source": [
    "x_data.head()"
   ]
  },
  {
   "cell_type": "code",
   "execution_count": 5,
   "metadata": {},
   "outputs": [
    {
     "name": "stdout",
     "output_type": "stream",
     "text": [
      "<class 'pandas.core.frame.DataFrame'>\n",
      "RangeIndex: 50 entries, 0 to 49\n",
      "Data columns (total 3 columns):\n",
      " #   Column  Non-Null Count  Dtype  \n",
      "---  ------  --------------  -----  \n",
      " 0   0       50 non-null     float64\n",
      " 1   1       50 non-null     float64\n",
      " 2   2       50 non-null     float64\n",
      "dtypes: float64(3)\n",
      "memory usage: 1.3 KB\n"
     ]
    }
   ],
   "source": [
    "x_data.info()"
   ]
  },
  {
   "cell_type": "code",
   "execution_count": 6,
   "metadata": {},
   "outputs": [
    {
     "data": {
      "text/html": [
       "<div>\n",
       "<style scoped>\n",
       "    .dataframe tbody tr th:only-of-type {\n",
       "        vertical-align: middle;\n",
       "    }\n",
       "\n",
       "    .dataframe tbody tr th {\n",
       "        vertical-align: top;\n",
       "    }\n",
       "\n",
       "    .dataframe thead th {\n",
       "        text-align: right;\n",
       "    }\n",
       "</style>\n",
       "<table border=\"1\" class=\"dataframe\">\n",
       "  <thead>\n",
       "    <tr style=\"text-align: right;\">\n",
       "      <th></th>\n",
       "      <th>0</th>\n",
       "      <th>1</th>\n",
       "      <th>2</th>\n",
       "    </tr>\n",
       "  </thead>\n",
       "  <tbody>\n",
       "    <tr>\n",
       "      <th>0</th>\n",
       "      <td>1.000000</td>\n",
       "      <td>-0.090791</td>\n",
       "      <td>-0.076234</td>\n",
       "    </tr>\n",
       "    <tr>\n",
       "      <th>1</th>\n",
       "      <td>-0.090791</td>\n",
       "      <td>1.000000</td>\n",
       "      <td>0.082278</td>\n",
       "    </tr>\n",
       "    <tr>\n",
       "      <th>2</th>\n",
       "      <td>-0.076234</td>\n",
       "      <td>0.082278</td>\n",
       "      <td>1.000000</td>\n",
       "    </tr>\n",
       "  </tbody>\n",
       "</table>\n",
       "</div>"
      ],
      "text/plain": [
       "          0         1         2\n",
       "0  1.000000 -0.090791 -0.076234\n",
       "1 -0.090791  1.000000  0.082278\n",
       "2 -0.076234  0.082278  1.000000"
      ]
     },
     "execution_count": 6,
     "metadata": {},
     "output_type": "execute_result"
    }
   ],
   "source": [
    "x_data.corr()"
   ]
  },
  {
   "cell_type": "markdown",
   "metadata": {},
   "source": [
    "### Instanciar o Modelo Ridge"
   ]
  },
  {
   "cell_type": "markdown",
   "metadata": {},
   "source": [
    "Primeiro vamos definir alguns parâmetros para aplicar nos modelos:"
   ]
  },
  {
   "cell_type": "code",
   "execution_count": 7,
   "metadata": {},
   "outputs": [],
   "source": [
    "alpha_vector = np.arange(0.001,10,0.1) #ou Lambda\n",
    "num_iteracoes = 10000\n",
    "aux = 0 # usado no ciclo de treino para vários lambdas\n",
    "espaco = 0 # usado no ciclo de treino para vários lambdas"
   ]
  },
  {
   "cell_type": "markdown",
   "metadata": {},
   "source": [
    "Criar matriz de coeficientes uteis para a representação:"
   ]
  },
  {
   "cell_type": "code",
   "execution_count": 8,
   "metadata": {},
   "outputs": [],
   "source": [
    "Matriz_Ridge_Coef = np.ones((alpha_vector.size,3), dtype = float)\n",
    "Matriz_Ridge_Classic_Coef = np.ones((alpha_vector.size,3), dtype = float)"
   ]
  },
  {
   "cell_type": "markdown",
   "metadata": {},
   "source": [
    "### Treinar o Modelo Ridge para os vários Alfas (Lambdas)"
   ]
  },
  {
   "cell_type": "code",
   "execution_count": 9,
   "metadata": {},
   "outputs": [],
   "source": [
    "for aux in alpha_vector:\n",
    "    Ridge_Model_alpha = linear.Ridge(alpha = aux, max_iter=10000)\n",
    "    Ridge_Model_alpha.fit(x_data,y_data)\n",
    "    Matriz_Ridge_Coef[espaco,:] = Ridge_Model_alpha.coef_\n",
    "    espaco = espaco + 1 \n",
    "    #linhas -> para cada alfa\n",
    "    #colunas -> coeficientes"
   ]
  },
  {
   "cell_type": "markdown",
   "metadata": {},
   "source": [
    "### Instanciar o Modelo Lasso"
   ]
  },
  {
   "cell_type": "markdown",
   "metadata": {},
   "source": [
    "Criar matriz de coeficientes uteis para a representação:"
   ]
  },
  {
   "cell_type": "code",
   "execution_count": 10,
   "metadata": {},
   "outputs": [],
   "source": [
    "Matriz_Lasso_Coef = np.ones((alpha_vector.size,3), dtype = float)\n",
    "Matriz_Lasso_Classic_Coef = np.ones((alpha_vector.size,3), dtype = float)"
   ]
  },
  {
   "cell_type": "markdown",
   "metadata": {},
   "source": [
    "### Treinar o Modelo Lasso para os vários Alfas (Lambdas)"
   ]
  },
  {
   "cell_type": "code",
   "execution_count": 11,
   "metadata": {},
   "outputs": [],
   "source": [
    "aux = 0\n",
    "espaco = 0\n",
    "for aux in alpha_vector:\n",
    "    Lasso_Model_alpha = linear.Lasso(alpha = aux, max_iter=10000)\n",
    "    Lasso_Model_alpha.fit(x_data,y_data)\n",
    "    Matriz_Lasso_Coef[espaco,:] = Lasso_Model_alpha.coef_\n",
    "    espaco = espaco + 1"
   ]
  },
  {
   "cell_type": "markdown",
   "metadata": {},
   "source": [
    "### Gráficos"
   ]
  },
  {
   "cell_type": "markdown",
   "metadata": {},
   "source": [
    "#### <i> Gráficos Ridge Regression </i>"
   ]
  },
  {
   "cell_type": "code",
   "execution_count": 12,
   "metadata": {},
   "outputs": [
    {
     "data": {
      "text/plain": [
       "Text(0, 0.5, 'Coeficientes de Ridge')"
      ]
     },
     "execution_count": 12,
     "metadata": {},
     "output_type": "execute_result"
    },
    {
     "data": {
      "text/plain": [
       "<Figure size 432x288 with 0 Axes>"
      ]
     },
     "metadata": {},
     "output_type": "display_data"
    },
    {
     "data": {
      "image/png": "[encoded data removed]",
      "text/plain": [
       "<Figure size 576x432 with 1 Axes>"
      ]
     },
     "metadata": {
      "needs_background": "light"
     },
     "output_type": "display_data"
    }
   ],
   "source": [
    "plt.figure()\n",
    "plt.figure(figsize=(8,6))\n",
    "plt.plot(alpha_vector, Matriz_Ridge_Coef[:,0], label = 'coef 1 a variar')\n",
    "plt.plot(alpha_vector, Matriz_Ridge_Coef[:,1], label = 'coef 2 a variar')\n",
    "plt.plot(alpha_vector, Matriz_Ridge_Coef[:,2], label = 'coef 3 a variar')\n",
    "\n",
    "plt.xscale('log')\n",
    "plt.legend()\n",
    "plt.title('Progressão Coeficientes Ridge')\n",
    "plt.xlabel('Alphas')\n",
    "plt.ylabel('Coeficientes de Ridge')\n"
   ]
  },
  {
   "cell_type": "markdown",
   "metadata": {},
   "source": [
    "Olhado para o gráfico vemos que nenhum dos coeficientes chega a 0, logo não dá para concluir a feature inutil."
   ]
  },
  {
   "cell_type": "markdown",
   "metadata": {},
   "source": [
    "#### <i> Gráficos Lasso Regression </i>"
   ]
  },
  {
   "cell_type": "code",
   "execution_count": 13,
   "metadata": {},
   "outputs": [
    {
     "data": {
      "text/plain": [
       "Text(0, 0.5, 'Coeficientes de Lasso')"
      ]
     },
     "execution_count": 13,
     "metadata": {},
     "output_type": "execute_result"
    },
    {
     "data": {
      "text/plain": [
       "<Figure size 432x288 with 0 Axes>"
      ]
     },
     "metadata": {},
     "output_type": "display_data"
    },
    {
     "data": {
      "image/png": "[encoded data removed]",
      "text/plain": [
       "<Figure size 576x432 with 1 Axes>"
      ]
     },
     "metadata": {
      "needs_background": "light"
     },
     "output_type": "display_data"
    }
   ],
   "source": [
    "plt.figure()\n",
    "plt.figure(figsize=(8,6))\n",
    "plt.plot(alpha_vector, Matriz_Lasso_Coef[:,0], label = 'coef 1 a variar')\n",
    "plt.plot(alpha_vector, Matriz_Lasso_Coef[:,1], label = 'coef 2 a variar')\n",
    "plt.plot(alpha_vector, Matriz_Lasso_Coef[:,2], label = 'coef 3 a variar')\n",
    "\n",
    "plt.xscale('log')\n",
    "plt.legend()\n",
    "plt.title('Progressão Coeficientes Lasso')\n",
    "plt.xlabel('Alphas')\n",
    "plt.ylabel('Coeficientes de Lasso')"
   ]
  },
  {
   "cell_type": "markdown",
   "metadata": {},
   "source": [
    "Olhando para o gráfico vemos que o coeficiente 2 tende mais rapidamente para 0 que os outros coeficientes. Isto indica que a feature 2 é inutil."
   ]
  },
  {
   "cell_type": "markdown",
   "metadata": {},
   "source": [
    "### Comentário aos resultados obtidos"
   ]
  },
  {
   "cell_type": "markdown",
   "metadata": {},
   "source": [
    "Ambos os modelos fazem uma estimativa levando os coeficientes a tender para 0.\n",
    "O modelo Ridge, para os valores de alfa pequenos 10^-3 a 0.01, faz com que os coeficientes\n",
    "demorem mais a tender para 0. Já o modelo Lasso, para o mesmo intervalo de aplhas, faz com\n",
    "que os coeficientes tendam mais rapidamente para 0 levando a uma mais fácil identificação\n",
    "da caracteristica inútil (a que mais rapidamente tende para 0), neste caso será a caracteristia\n",
    "x2, pois o segundo coeficiente tende para 0 primeiro do que os outros."
   ]
  },
  {
   "cell_type": "markdown",
   "metadata": {},
   "source": [
    "### Treinar o modelo com o melhor alpha"
   ]
  },
  {
   "cell_type": "markdown",
   "metadata": {},
   "source": [
    "Observando o gráfico do modelo Lasso vemos que a feature 2 tende chega a 0 com um lambda a volta de 0.071. Vamos então treinar o modelo lasso para esse valor. Vamos assim obter a melhor estimativa."
   ]
  },
  {
   "cell_type": "code",
   "execution_count": 14,
   "metadata": {},
   "outputs": [],
   "source": [
    "alpha_critico = 0.071"
   ]
  },
  {
   "cell_type": "code",
   "execution_count": 15,
   "metadata": {},
   "outputs": [
    {
     "data": {
      "text/plain": [
       "Lasso(alpha=0.071, max_iter=10000)"
      ]
     },
     "execution_count": 15,
     "metadata": {},
     "output_type": "execute_result"
    }
   ],
   "source": [
    "Lasso_Modelo = linear.Lasso(alpha = 0.071, max_iter= num_iteracoes)\n",
    "Lasso_Modelo.fit(x_data,y_data)"
   ]
  },
  {
   "cell_type": "markdown",
   "metadata": {},
   "source": [
    "### Avaliar a Função de Custo"
   ]
  },
  {
   "cell_type": "markdown",
   "metadata": {},
   "source": [
    "No modelo Lasso o python fornece-nos o coeficiente de determinação ao quadrado seguindo a norma 2. Cabe nos a nós a essa secção (.score) retirar o quadrado."
   ]
  },
  {
   "cell_type": "code",
   "execution_count": 16,
   "metadata": {},
   "outputs": [],
   "source": [
    "SSE_alpha_certo = np.sqrt(Lasso_Modelo.score(x_data,y_data))"
   ]
  },
  {
   "cell_type": "code",
   "execution_count": 17,
   "metadata": {},
   "outputs": [
    {
     "name": "stdout",
     "output_type": "stream",
     "text": [
      "0.9855028631808352\n"
     ]
    }
   ],
   "source": [
    "print(SSE_alpha_certo)"
   ]
  },
  {
   "cell_type": "markdown",
   "metadata": {},
   "source": [
    "### Fazer Predictions Com o Modelo de Regressão Lasso"
   ]
  },
  {
   "cell_type": "code",
   "execution_count": 18,
   "metadata": {},
   "outputs": [],
   "source": [
    "predictions = Lasso_Modelo.predict(x_data)"
   ]
  },
  {
   "cell_type": "code",
   "execution_count": 19,
   "metadata": {},
   "outputs": [
    {
     "data": {
      "text/plain": [
       "Text(0, 0.5, 'Coeficientes de Lasso')"
      ]
     },
     "execution_count": 19,
     "metadata": {},
     "output_type": "execute_result"
    },
    {
     "data": {
      "image/png": "[encoded data removed]",
      "text/plain": [
       "<Figure size 432x288 with 1 Axes>"
      ]
     },
     "metadata": {
      "needs_background": "light"
     },
     "output_type": "display_data"
    }
   ],
   "source": [
    "plt.plot(y_data,'b', label = 'y Real')\n",
    "plt.plot(predictions, 'r', label = 'y Estimado')\n",
    "plt.legend()\n",
    "plt.title('Coeficientes Lasso para a = 0.071')\n",
    "plt.xlabel('Alphas')\n",
    "plt.ylabel('Coeficientes de Lasso')"
   ]
  }
 ],
 "metadata": {
  "kernelspec": {
   "display_name": "Python 3",
   "language": "python",
   "name": "python3"
  },
  "language_info": {
   "codemirror_mode": {
    "name": "ipython",
    "version": 3
   },
   "file_extension": ".py",
   "mimetype": "text/x-python",
   "name": "python",
   "nbconvert_exporter": "python",
   "pygments_lexer": "ipython3",
   "version": "3.8.3"
  }
 },
 "nbformat": 4,
 "nbformat_minor": 4
}
