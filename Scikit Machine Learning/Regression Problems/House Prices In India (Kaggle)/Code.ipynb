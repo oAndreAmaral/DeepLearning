{
 "cells": [
  {
   "cell_type": "markdown",
   "metadata": {},
   "source": [
    "# House Prices In India"
   ]
  },
  {
   "cell_type": "markdown",
   "metadata": {},
   "source": [
    "This data set was taken from: https://www.kaggle.com/anmolkumar/house-price-prediction-challenge"
   ]
  },
  {
   "cell_type": "markdown",
   "metadata": {},
   "source": [
    "Features Columns:\n",
    "\n",
    "POSTED_BY -\tCategory marking who has listed the property\n",
    "\n",
    "UNDER_CONSTRUCTION - Under Construction or Not\n",
    "\n",
    "RERA - Rera approved or Not\n",
    "\n",
    "BHK_NO - Number of Rooms\n",
    "\n",
    "BHK_OR_RK - Type of property\n",
    "\n",
    "SQUARE_FT - Total area of the house in square feet \n",
    "\n",
    "READYTOMOVE - Category marking Ready to move or Not\n",
    "\n",
    "RESALE - Category marking Resale or not\n",
    "\n",
    "ADDRESS - Address of the property\n",
    "\n",
    "LONGITUDE - Longitude of the property\n",
    "\n",
    "LATITUDE - Latitude of the property\n",
    "\n",
    "TARGET(PRICE_IN_LACS) - The price of the property\n",
    "\n",
    "In total we have 12 features"
   ]
  },
  {
   "cell_type": "code",
   "execution_count": 1,
   "metadata": {},
   "outputs": [],
   "source": [
    "import tensorflow as tf\n",
    "import numpy as np\n",
    "import pandas as pd\n",
    "import matplotlib.pyplot as plt\n",
    "import seaborn as sns\n",
    "%matplotlib inline"
   ]
  },
  {
   "cell_type": "code",
   "execution_count": 2,
   "metadata": {},
   "outputs": [],
   "source": [
    "train_data = pd.read_csv('train.csv')\n",
    "test_data = pd.read_csv('test.csv')"
   ]
  },
  {
   "cell_type": "code",
   "execution_count": 3,
   "metadata": {
    "scrolled": true
   },
   "outputs": [
    {
     "data": {
      "text/html": [
       "<div>\n",
       "<style scoped>\n",
       "    .dataframe tbody tr th:only-of-type {\n",
       "        vertical-align: middle;\n",
       "    }\n",
       "\n",
       "    .dataframe tbody tr th {\n",
       "        vertical-align: top;\n",
       "    }\n",
       "\n",
       "    .dataframe thead th {\n",
       "        text-align: right;\n",
       "    }\n",
       "</style>\n",
       "<table border=\"1\" class=\"dataframe\">\n",
       "  <thead>\n",
       "    <tr style=\"text-align: right;\">\n",
       "      <th></th>\n",
       "      <th>POSTED_BY</th>\n",
       "      <th>UNDER_CONSTRUCTION</th>\n",
       "      <th>RERA</th>\n",
       "      <th>BHK_NO.</th>\n",
       "      <th>BHK_OR_RK</th>\n",
       "      <th>SQUARE_FT</th>\n",
       "      <th>READY_TO_MOVE</th>\n",
       "      <th>RESALE</th>\n",
       "      <th>ADDRESS</th>\n",
       "      <th>LONGITUDE</th>\n",
       "      <th>LATITUDE</th>\n",
       "      <th>TARGET(PRICE_IN_LACS)</th>\n",
       "    </tr>\n",
       "  </thead>\n",
       "  <tbody>\n",
       "    <tr>\n",
       "      <th>0</th>\n",
       "      <td>Owner</td>\n",
       "      <td>0</td>\n",
       "      <td>0</td>\n",
       "      <td>2</td>\n",
       "      <td>BHK</td>\n",
       "      <td>1300.236407</td>\n",
       "      <td>1</td>\n",
       "      <td>1</td>\n",
       "      <td>Ksfc Layout,Bangalore</td>\n",
       "      <td>12.969910</td>\n",
       "      <td>77.597960</td>\n",
       "      <td>55.0</td>\n",
       "    </tr>\n",
       "    <tr>\n",
       "      <th>1</th>\n",
       "      <td>Dealer</td>\n",
       "      <td>0</td>\n",
       "      <td>0</td>\n",
       "      <td>2</td>\n",
       "      <td>BHK</td>\n",
       "      <td>1275.000000</td>\n",
       "      <td>1</td>\n",
       "      <td>1</td>\n",
       "      <td>Vishweshwara Nagar,Mysore</td>\n",
       "      <td>12.274538</td>\n",
       "      <td>76.644605</td>\n",
       "      <td>51.0</td>\n",
       "    </tr>\n",
       "    <tr>\n",
       "      <th>2</th>\n",
       "      <td>Owner</td>\n",
       "      <td>0</td>\n",
       "      <td>0</td>\n",
       "      <td>2</td>\n",
       "      <td>BHK</td>\n",
       "      <td>933.159722</td>\n",
       "      <td>1</td>\n",
       "      <td>1</td>\n",
       "      <td>Jigani,Bangalore</td>\n",
       "      <td>12.778033</td>\n",
       "      <td>77.632191</td>\n",
       "      <td>43.0</td>\n",
       "    </tr>\n",
       "    <tr>\n",
       "      <th>3</th>\n",
       "      <td>Owner</td>\n",
       "      <td>0</td>\n",
       "      <td>1</td>\n",
       "      <td>2</td>\n",
       "      <td>BHK</td>\n",
       "      <td>929.921143</td>\n",
       "      <td>1</td>\n",
       "      <td>1</td>\n",
       "      <td>Sector-1 Vaishali,Ghaziabad</td>\n",
       "      <td>28.642300</td>\n",
       "      <td>77.344500</td>\n",
       "      <td>62.5</td>\n",
       "    </tr>\n",
       "    <tr>\n",
       "      <th>4</th>\n",
       "      <td>Dealer</td>\n",
       "      <td>1</td>\n",
       "      <td>0</td>\n",
       "      <td>2</td>\n",
       "      <td>BHK</td>\n",
       "      <td>999.009247</td>\n",
       "      <td>0</td>\n",
       "      <td>1</td>\n",
       "      <td>New Town,Kolkata</td>\n",
       "      <td>22.592200</td>\n",
       "      <td>88.484911</td>\n",
       "      <td>60.5</td>\n",
       "    </tr>\n",
       "    <tr>\n",
       "      <th>5</th>\n",
       "      <td>Owner</td>\n",
       "      <td>0</td>\n",
       "      <td>0</td>\n",
       "      <td>3</td>\n",
       "      <td>BHK</td>\n",
       "      <td>1250.000000</td>\n",
       "      <td>1</td>\n",
       "      <td>1</td>\n",
       "      <td>South Chittoor,Kochi</td>\n",
       "      <td>10.033280</td>\n",
       "      <td>76.282571</td>\n",
       "      <td>42.0</td>\n",
       "    </tr>\n",
       "    <tr>\n",
       "      <th>6</th>\n",
       "      <td>Dealer</td>\n",
       "      <td>0</td>\n",
       "      <td>0</td>\n",
       "      <td>3</td>\n",
       "      <td>BHK</td>\n",
       "      <td>1495.053957</td>\n",
       "      <td>1</td>\n",
       "      <td>1</td>\n",
       "      <td>Sodala,Jaipur</td>\n",
       "      <td>26.916347</td>\n",
       "      <td>75.795600</td>\n",
       "      <td>66.5</td>\n",
       "    </tr>\n",
       "    <tr>\n",
       "      <th>7</th>\n",
       "      <td>Owner</td>\n",
       "      <td>0</td>\n",
       "      <td>1</td>\n",
       "      <td>3</td>\n",
       "      <td>BHK</td>\n",
       "      <td>1181.012946</td>\n",
       "      <td>1</td>\n",
       "      <td>1</td>\n",
       "      <td>Kharar,Mohali</td>\n",
       "      <td>30.740000</td>\n",
       "      <td>76.650000</td>\n",
       "      <td>52.0</td>\n",
       "    </tr>\n",
       "    <tr>\n",
       "      <th>8</th>\n",
       "      <td>Dealer</td>\n",
       "      <td>0</td>\n",
       "      <td>1</td>\n",
       "      <td>2</td>\n",
       "      <td>BHK</td>\n",
       "      <td>1040.000000</td>\n",
       "      <td>1</td>\n",
       "      <td>1</td>\n",
       "      <td>Bileshivale,Bangalore</td>\n",
       "      <td>13.054202</td>\n",
       "      <td>77.674002</td>\n",
       "      <td>41.6</td>\n",
       "    </tr>\n",
       "    <tr>\n",
       "      <th>9</th>\n",
       "      <td>Owner</td>\n",
       "      <td>0</td>\n",
       "      <td>1</td>\n",
       "      <td>2</td>\n",
       "      <td>BHK</td>\n",
       "      <td>879.120879</td>\n",
       "      <td>1</td>\n",
       "      <td>1</td>\n",
       "      <td>Chromepet,Chennai</td>\n",
       "      <td>12.951610</td>\n",
       "      <td>80.140970</td>\n",
       "      <td>36.0</td>\n",
       "    </tr>\n",
       "    <tr>\n",
       "      <th>10</th>\n",
       "      <td>Owner</td>\n",
       "      <td>0</td>\n",
       "      <td>0</td>\n",
       "      <td>3</td>\n",
       "      <td>BHK</td>\n",
       "      <td>1350.308642</td>\n",
       "      <td>1</td>\n",
       "      <td>1</td>\n",
       "      <td>Deshbandhu Para,Siliguri</td>\n",
       "      <td>26.724219</td>\n",
       "      <td>88.326357</td>\n",
       "      <td>35.0</td>\n",
       "    </tr>\n",
       "    <tr>\n",
       "      <th>11</th>\n",
       "      <td>Dealer</td>\n",
       "      <td>0</td>\n",
       "      <td>0</td>\n",
       "      <td>2</td>\n",
       "      <td>BHK</td>\n",
       "      <td>1333.010179</td>\n",
       "      <td>1</td>\n",
       "      <td>1</td>\n",
       "      <td>Hebbal,Bangalore</td>\n",
       "      <td>13.040340</td>\n",
       "      <td>77.591347</td>\n",
       "      <td>110.0</td>\n",
       "    </tr>\n",
       "  </tbody>\n",
       "</table>\n",
       "</div>"
      ],
      "text/plain": [
       "   POSTED_BY  UNDER_CONSTRUCTION  RERA  BHK_NO. BHK_OR_RK    SQUARE_FT  \\\n",
       "0      Owner                   0     0        2       BHK  1300.236407   \n",
       "1     Dealer                   0     0        2       BHK  1275.000000   \n",
       "2      Owner                   0     0        2       BHK   933.159722   \n",
       "3      Owner                   0     1        2       BHK   929.921143   \n",
       "4     Dealer                   1     0        2       BHK   999.009247   \n",
       "5      Owner                   0     0        3       BHK  1250.000000   \n",
       "6     Dealer                   0     0        3       BHK  1495.053957   \n",
       "7      Owner                   0     1        3       BHK  1181.012946   \n",
       "8     Dealer                   0     1        2       BHK  1040.000000   \n",
       "9      Owner                   0     1        2       BHK   879.120879   \n",
       "10     Owner                   0     0        3       BHK  1350.308642   \n",
       "11    Dealer                   0     0        2       BHK  1333.010179   \n",
       "\n",
       "    READY_TO_MOVE  RESALE                      ADDRESS  LONGITUDE   LATITUDE  \\\n",
       "0               1       1        Ksfc Layout,Bangalore  12.969910  77.597960   \n",
       "1               1       1    Vishweshwara Nagar,Mysore  12.274538  76.644605   \n",
       "2               1       1             Jigani,Bangalore  12.778033  77.632191   \n",
       "3               1       1  Sector-1 Vaishali,Ghaziabad  28.642300  77.344500   \n",
       "4               0       1             New Town,Kolkata  22.592200  88.484911   \n",
       "5               1       1         South Chittoor,Kochi  10.033280  76.282571   \n",
       "6               1       1                Sodala,Jaipur  26.916347  75.795600   \n",
       "7               1       1                Kharar,Mohali  30.740000  76.650000   \n",
       "8               1       1        Bileshivale,Bangalore  13.054202  77.674002   \n",
       "9               1       1            Chromepet,Chennai  12.951610  80.140970   \n",
       "10              1       1     Deshbandhu Para,Siliguri  26.724219  88.326357   \n",
       "11              1       1             Hebbal,Bangalore  13.040340  77.591347   \n",
       "\n",
       "    TARGET(PRICE_IN_LACS)  \n",
       "0                    55.0  \n",
       "1                    51.0  \n",
       "2                    43.0  \n",
       "3                    62.5  \n",
       "4                    60.5  \n",
       "5                    42.0  \n",
       "6                    66.5  \n",
       "7                    52.0  \n",
       "8                    41.6  \n",
       "9                    36.0  \n",
       "10                   35.0  \n",
       "11                  110.0  "
      ]
     },
     "execution_count": 3,
     "metadata": {},
     "output_type": "execute_result"
    }
   ],
   "source": [
    "train_data.head(12)"
   ]
  },
  {
   "cell_type": "markdown",
   "metadata": {},
   "source": [
    "# Feature Engeneering"
   ]
  },
  {
   "cell_type": "markdown",
   "metadata": {},
   "source": [
    "Here we will study the features and its importance to the prediction of the house price."
   ]
  },
  {
   "cell_type": "markdown",
   "metadata": {},
   "source": [
    "1) Null Values"
   ]
  },
  {
   "cell_type": "code",
   "execution_count": 4,
   "metadata": {},
   "outputs": [
    {
     "data": {
      "text/plain": [
       "POSTED_BY                0\n",
       "UNDER_CONSTRUCTION       0\n",
       "RERA                     0\n",
       "BHK_NO.                  0\n",
       "BHK_OR_RK                0\n",
       "SQUARE_FT                0\n",
       "READY_TO_MOVE            0\n",
       "RESALE                   0\n",
       "ADDRESS                  0\n",
       "LONGITUDE                0\n",
       "LATITUDE                 0\n",
       "TARGET(PRICE_IN_LACS)    0\n",
       "dtype: int64"
      ]
     },
     "execution_count": 4,
     "metadata": {},
     "output_type": "execute_result"
    }
   ],
   "source": [
    "train_data.isnull().sum()"
   ]
  },
  {
   "cell_type": "code",
   "execution_count": 5,
   "metadata": {},
   "outputs": [
    {
     "data": {
      "text/plain": [
       "POSTED_BY             0\n",
       "UNDER_CONSTRUCTION    0\n",
       "RERA                  0\n",
       "BHK_NO.               0\n",
       "BHK_OR_RK             0\n",
       "SQUARE_FT             0\n",
       "READY_TO_MOVE         0\n",
       "RESALE                0\n",
       "ADDRESS               0\n",
       "LONGITUDE             0\n",
       "LATITUDE              0\n",
       "dtype: int64"
      ]
     },
     "execution_count": 5,
     "metadata": {},
     "output_type": "execute_result"
    }
   ],
   "source": [
    "test_data.isnull().sum()"
   ]
  },
  {
   "cell_type": "markdown",
   "metadata": {},
   "source": [
    "2) Price Outliers"
   ]
  },
  {
   "cell_type": "code",
   "execution_count": 6,
   "metadata": {},
   "outputs": [
    {
     "data": {
      "text/plain": [
       "<matplotlib.axes._subplots.AxesSubplot at 0x1925a118f70>"
      ]
     },
     "execution_count": 6,
     "metadata": {},
     "output_type": "execute_result"
    },
    {
     "data": {
      "image/png": "[encoded data removed]",
      "text/plain": [
       "<Figure size 432x288 with 1 Axes>"
      ]
     },
     "metadata": {
      "needs_background": "light"
     },
     "output_type": "display_data"
    }
   ],
   "source": [
    "sns.distplot(train_data['TARGET(PRICE_IN_LACS)'])"
   ]
  },
  {
   "cell_type": "markdown",
   "metadata": {},
   "source": [
    "We can see outliers from 4000 to higher prices since we do not have much data on that so we can clean them.\n",
    "Lets start to clear 5% of the higher values of the price."
   ]
  },
  {
   "cell_type": "code",
   "execution_count": 7,
   "metadata": {},
   "outputs": [
    {
     "data": {
      "text/plain": [
       "110.0     795\n",
       "100.0     770\n",
       "120.0     652\n",
       "130.0     598\n",
       "45.0      583\n",
       "         ... \n",
       "96.6        1\n",
       "95.6        1\n",
       "8660.0      1\n",
       "94.3        1\n",
       "78.2        1\n",
       "Name: TARGET(PRICE_IN_LACS), Length: 1172, dtype: int64"
      ]
     },
     "execution_count": 7,
     "metadata": {},
     "output_type": "execute_result"
    }
   ],
   "source": [
    "train_data['TARGET(PRICE_IN_LACS)'].value_counts()"
   ]
  },
  {
   "cell_type": "code",
   "execution_count": 8,
   "metadata": {},
   "outputs": [
    {
     "data": {
      "text/plain": [
       "883.53"
      ]
     },
     "execution_count": 8,
     "metadata": {},
     "output_type": "execute_result"
    }
   ],
   "source": [
    "len(train_data)*(0.03)"
   ]
  },
  {
   "cell_type": "code",
   "execution_count": 9,
   "metadata": {},
   "outputs": [
    {
     "data": {
      "text/html": [
       "<div>\n",
       "<style scoped>\n",
       "    .dataframe tbody tr th:only-of-type {\n",
       "        vertical-align: middle;\n",
       "    }\n",
       "\n",
       "    .dataframe tbody tr th {\n",
       "        vertical-align: top;\n",
       "    }\n",
       "\n",
       "    .dataframe thead th {\n",
       "        text-align: right;\n",
       "    }\n",
       "</style>\n",
       "<table border=\"1\" class=\"dataframe\">\n",
       "  <thead>\n",
       "    <tr style=\"text-align: right;\">\n",
       "      <th></th>\n",
       "      <th>UNDER_CONSTRUCTION</th>\n",
       "      <th>RERA</th>\n",
       "      <th>BHK_NO.</th>\n",
       "      <th>SQUARE_FT</th>\n",
       "      <th>READY_TO_MOVE</th>\n",
       "      <th>RESALE</th>\n",
       "      <th>LONGITUDE</th>\n",
       "      <th>LATITUDE</th>\n",
       "      <th>TARGET(PRICE_IN_LACS)</th>\n",
       "    </tr>\n",
       "  </thead>\n",
       "  <tbody>\n",
       "    <tr>\n",
       "      <th>count</th>\n",
       "      <td>28567.000000</td>\n",
       "      <td>28567.000000</td>\n",
       "      <td>28567.000000</td>\n",
       "      <td>2.856700e+04</td>\n",
       "      <td>28567.000000</td>\n",
       "      <td>28567.000000</td>\n",
       "      <td>28567.000000</td>\n",
       "      <td>28567.000000</td>\n",
       "      <td>28567.000000</td>\n",
       "    </tr>\n",
       "    <tr>\n",
       "      <th>mean</th>\n",
       "      <td>0.179298</td>\n",
       "      <td>0.315924</td>\n",
       "      <td>2.353450</td>\n",
       "      <td>1.542744e+03</td>\n",
       "      <td>0.820702</td>\n",
       "      <td>0.933875</td>\n",
       "      <td>21.348115</td>\n",
       "      <td>76.926668</td>\n",
       "      <td>81.959182</td>\n",
       "    </tr>\n",
       "    <tr>\n",
       "      <th>std</th>\n",
       "      <td>0.383608</td>\n",
       "      <td>0.464891</td>\n",
       "      <td>0.825286</td>\n",
       "      <td>2.666530e+04</td>\n",
       "      <td>0.383608</td>\n",
       "      <td>0.248505</td>\n",
       "      <td>6.240020</td>\n",
       "      <td>10.457439</td>\n",
       "      <td>69.031482</td>\n",
       "    </tr>\n",
       "    <tr>\n",
       "      <th>min</th>\n",
       "      <td>0.000000</td>\n",
       "      <td>0.000000</td>\n",
       "      <td>1.000000</td>\n",
       "      <td>3.000000e+00</td>\n",
       "      <td>0.000000</td>\n",
       "      <td>0.000000</td>\n",
       "      <td>-37.713008</td>\n",
       "      <td>-121.761248</td>\n",
       "      <td>0.250000</td>\n",
       "    </tr>\n",
       "    <tr>\n",
       "      <th>25%</th>\n",
       "      <td>0.000000</td>\n",
       "      <td>0.000000</td>\n",
       "      <td>2.000000</td>\n",
       "      <td>8.908686e+02</td>\n",
       "      <td>1.000000</td>\n",
       "      <td>1.000000</td>\n",
       "      <td>18.438476</td>\n",
       "      <td>73.847780</td>\n",
       "      <td>37.000000</td>\n",
       "    </tr>\n",
       "    <tr>\n",
       "      <th>50%</th>\n",
       "      <td>0.000000</td>\n",
       "      <td>0.000000</td>\n",
       "      <td>2.000000</td>\n",
       "      <td>1.156154e+03</td>\n",
       "      <td>1.000000</td>\n",
       "      <td>1.000000</td>\n",
       "      <td>21.071623</td>\n",
       "      <td>77.338956</td>\n",
       "      <td>60.000000</td>\n",
       "    </tr>\n",
       "    <tr>\n",
       "      <th>75%</th>\n",
       "      <td>0.000000</td>\n",
       "      <td>1.000000</td>\n",
       "      <td>3.000000</td>\n",
       "      <td>1.505131e+03</td>\n",
       "      <td>1.000000</td>\n",
       "      <td>1.000000</td>\n",
       "      <td>26.900926</td>\n",
       "      <td>78.020000</td>\n",
       "      <td>100.000000</td>\n",
       "    </tr>\n",
       "    <tr>\n",
       "      <th>max</th>\n",
       "      <td>1.000000</td>\n",
       "      <td>1.000000</td>\n",
       "      <td>20.000000</td>\n",
       "      <td>4.300000e+06</td>\n",
       "      <td>1.000000</td>\n",
       "      <td>1.000000</td>\n",
       "      <td>59.912884</td>\n",
       "      <td>152.962676</td>\n",
       "      <td>420.000000</td>\n",
       "    </tr>\n",
       "  </tbody>\n",
       "</table>\n",
       "</div>"
      ],
      "text/plain": [
       "       UNDER_CONSTRUCTION          RERA       BHK_NO.     SQUARE_FT  \\\n",
       "count        28567.000000  28567.000000  28567.000000  2.856700e+04   \n",
       "mean             0.179298      0.315924      2.353450  1.542744e+03   \n",
       "std              0.383608      0.464891      0.825286  2.666530e+04   \n",
       "min              0.000000      0.000000      1.000000  3.000000e+00   \n",
       "25%              0.000000      0.000000      2.000000  8.908686e+02   \n",
       "50%              0.000000      0.000000      2.000000  1.156154e+03   \n",
       "75%              0.000000      1.000000      3.000000  1.505131e+03   \n",
       "max              1.000000      1.000000     20.000000  4.300000e+06   \n",
       "\n",
       "       READY_TO_MOVE        RESALE     LONGITUDE      LATITUDE  \\\n",
       "count   28567.000000  28567.000000  28567.000000  28567.000000   \n",
       "mean        0.820702      0.933875     21.348115     76.926668   \n",
       "std         0.383608      0.248505      6.240020     10.457439   \n",
       "min         0.000000      0.000000    -37.713008   -121.761248   \n",
       "25%         1.000000      1.000000     18.438476     73.847780   \n",
       "50%         1.000000      1.000000     21.071623     77.338956   \n",
       "75%         1.000000      1.000000     26.900926     78.020000   \n",
       "max         1.000000      1.000000     59.912884    152.962676   \n",
       "\n",
       "       TARGET(PRICE_IN_LACS)  \n",
       "count           28567.000000  \n",
       "mean               81.959182  \n",
       "std                69.031482  \n",
       "min                 0.250000  \n",
       "25%                37.000000  \n",
       "50%                60.000000  \n",
       "75%               100.000000  \n",
       "max               420.000000  "
      ]
     },
     "execution_count": 9,
     "metadata": {},
     "output_type": "execute_result"
    }
   ],
   "source": [
    "# Remove the price outliers\n",
    "train_data = train_data.sort_values('TARGET(PRICE_IN_LACS)',ascending=False).iloc[884:] \n",
    "train_data.describe()"
   ]
  },
  {
   "cell_type": "code",
   "execution_count": 10,
   "metadata": {
    "scrolled": true
   },
   "outputs": [
    {
     "data": {
      "text/plain": [
       "<matplotlib.axes._subplots.AxesSubplot at 0x1925a874340>"
      ]
     },
     "execution_count": 10,
     "metadata": {},
     "output_type": "execute_result"
    },
    {
     "data": {
      "image/png": "[encoded data removed]",
      "text/plain": [
       "<Figure size 432x288 with 1 Axes>"
      ]
     },
     "metadata": {
      "needs_background": "light"
     },
     "output_type": "display_data"
    }
   ],
   "source": [
    "sns.distplot(train_data['TARGET(PRICE_IN_LACS)'])"
   ]
  },
  {
   "cell_type": "markdown",
   "metadata": {},
   "source": [
    "Now we obtained a distribution plot with the most comun prices we have, so we cleaned the price outliers."
   ]
  },
  {
   "cell_type": "markdown",
   "metadata": {},
   "source": [
    "3) Latitude and Longitude"
   ]
  },
  {
   "cell_type": "code",
   "execution_count": 11,
   "metadata": {
    "scrolled": true
   },
   "outputs": [
    {
     "data": {
      "text/plain": [
       "<matplotlib.axes._subplots.AxesSubplot at 0x1925aa9d6a0>"
      ]
     },
     "execution_count": 11,
     "metadata": {},
     "output_type": "execute_result"
    },
    {
     "data": {
      "image/png": "[encoded data removed]",
      "text/plain": [
       "<Figure size 864x576 with 1 Axes>"
      ]
     },
     "metadata": {
      "needs_background": "light"
     },
     "output_type": "display_data"
    }
   ],
   "source": [
    "plt.figure(figsize=(12,8))\n",
    "sns.scatterplot(x='LONGITUDE',y='LATITUDE',data=train_data,hue='TARGET(PRICE_IN_LACS)', \n",
    "                palette = 'RdYlGn', edgecolor = None, alpha = 0.2)"
   ]
  },
  {
   "cell_type": "markdown",
   "metadata": {},
   "source": [
    "Here we can see the scatter of longitude and latitude and see the areas with more houses to sell along with the most expensive ones. Hilighting the importance of this data to the model. Now we can discard the address since we have the latitude and longitude, avoiding overfitting."
   ]
  },
  {
   "cell_type": "markdown",
   "metadata": {},
   "source": [
    "4) Square_Ft"
   ]
  },
  {
   "cell_type": "code",
   "execution_count": 12,
   "metadata": {},
   "outputs": [
    {
     "data": {
      "text/plain": [
       "<matplotlib.axes._subplots.AxesSubplot at 0x1925aaddb20>"
      ]
     },
     "execution_count": 12,
     "metadata": {},
     "output_type": "execute_result"
    },
    {
     "data": {
      "image/png": "[encoded data removed]",
      "text/plain": [
       "<Figure size 432x288 with 1 Axes>"
      ]
     },
     "metadata": {
      "needs_background": "light"
     },
     "output_type": "display_data"
    }
   ],
   "source": [
    "sns.distplot(train_data['SQUARE_FT'])"
   ]
  },
  {
   "cell_type": "markdown",
   "metadata": {},
   "source": [
    "So we need to clean also some outliers from the square feat feature."
   ]
  },
  {
   "cell_type": "code",
   "execution_count": 13,
   "metadata": {},
   "outputs": [
    {
     "data": {
      "text/plain": [
       "1000.000000    477\n",
       "1250.000000    291\n",
       "800.000000     202\n",
       "1200.000000    178\n",
       "1600.000000    120\n",
       "              ... \n",
       "1093.084800      1\n",
       "1358.152912      1\n",
       "1745.004222      1\n",
       "760.135135       1\n",
       "1309.037901      1\n",
       "Name: SQUARE_FT, Length: 18896, dtype: int64"
      ]
     },
     "execution_count": 13,
     "metadata": {},
     "output_type": "execute_result"
    }
   ],
   "source": [
    "train_data['SQUARE_FT'].value_counts()"
   ]
  },
  {
   "cell_type": "code",
   "execution_count": 14,
   "metadata": {},
   "outputs": [
    {
     "data": {
      "text/plain": [
       "857.01"
      ]
     },
     "execution_count": 14,
     "metadata": {},
     "output_type": "execute_result"
    }
   ],
   "source": [
    "len(train_data)*(0.03)"
   ]
  },
  {
   "cell_type": "code",
   "execution_count": 15,
   "metadata": {
    "scrolled": true
   },
   "outputs": [
    {
     "data": {
      "text/html": [
       "<div>\n",
       "<style scoped>\n",
       "    .dataframe tbody tr th:only-of-type {\n",
       "        vertical-align: middle;\n",
       "    }\n",
       "\n",
       "    .dataframe tbody tr th {\n",
       "        vertical-align: top;\n",
       "    }\n",
       "\n",
       "    .dataframe thead th {\n",
       "        text-align: right;\n",
       "    }\n",
       "</style>\n",
       "<table border=\"1\" class=\"dataframe\">\n",
       "  <thead>\n",
       "    <tr style=\"text-align: right;\">\n",
       "      <th></th>\n",
       "      <th>UNDER_CONSTRUCTION</th>\n",
       "      <th>RERA</th>\n",
       "      <th>BHK_NO.</th>\n",
       "      <th>SQUARE_FT</th>\n",
       "      <th>READY_TO_MOVE</th>\n",
       "      <th>RESALE</th>\n",
       "      <th>LONGITUDE</th>\n",
       "      <th>LATITUDE</th>\n",
       "      <th>TARGET(PRICE_IN_LACS)</th>\n",
       "    </tr>\n",
       "  </thead>\n",
       "  <tbody>\n",
       "    <tr>\n",
       "      <th>count</th>\n",
       "      <td>27715.000000</td>\n",
       "      <td>27715.000000</td>\n",
       "      <td>27715.000000</td>\n",
       "      <td>27715.000000</td>\n",
       "      <td>27715.000000</td>\n",
       "      <td>27715.000000</td>\n",
       "      <td>27715.000000</td>\n",
       "      <td>27715.000000</td>\n",
       "      <td>27715.000000</td>\n",
       "    </tr>\n",
       "    <tr>\n",
       "      <th>mean</th>\n",
       "      <td>0.180263</td>\n",
       "      <td>0.315136</td>\n",
       "      <td>2.304673</td>\n",
       "      <td>1197.120600</td>\n",
       "      <td>0.819737</td>\n",
       "      <td>0.934187</td>\n",
       "      <td>21.309430</td>\n",
       "      <td>76.924631</td>\n",
       "      <td>77.612777</td>\n",
       "    </tr>\n",
       "    <tr>\n",
       "      <th>std</th>\n",
       "      <td>0.384414</td>\n",
       "      <td>0.464578</td>\n",
       "      <td>0.749139</td>\n",
       "      <td>465.185990</td>\n",
       "      <td>0.384414</td>\n",
       "      <td>0.247959</td>\n",
       "      <td>6.208328</td>\n",
       "      <td>10.452539</td>\n",
       "      <td>62.884893</td>\n",
       "    </tr>\n",
       "    <tr>\n",
       "      <th>min</th>\n",
       "      <td>0.000000</td>\n",
       "      <td>0.000000</td>\n",
       "      <td>1.000000</td>\n",
       "      <td>3.000000</td>\n",
       "      <td>0.000000</td>\n",
       "      <td>0.000000</td>\n",
       "      <td>-37.713008</td>\n",
       "      <td>-121.761248</td>\n",
       "      <td>0.250000</td>\n",
       "    </tr>\n",
       "    <tr>\n",
       "      <th>25%</th>\n",
       "      <td>0.000000</td>\n",
       "      <td>0.000000</td>\n",
       "      <td>2.000000</td>\n",
       "      <td>876.111989</td>\n",
       "      <td>1.000000</td>\n",
       "      <td>1.000000</td>\n",
       "      <td>18.441921</td>\n",
       "      <td>73.823649</td>\n",
       "      <td>36.000000</td>\n",
       "    </tr>\n",
       "    <tr>\n",
       "      <th>50%</th>\n",
       "      <td>0.000000</td>\n",
       "      <td>0.000000</td>\n",
       "      <td>2.000000</td>\n",
       "      <td>1149.131767</td>\n",
       "      <td>1.000000</td>\n",
       "      <td>1.000000</td>\n",
       "      <td>21.000000</td>\n",
       "      <td>77.338956</td>\n",
       "      <td>59.000000</td>\n",
       "    </tr>\n",
       "    <tr>\n",
       "      <th>75%</th>\n",
       "      <td>0.000000</td>\n",
       "      <td>1.000000</td>\n",
       "      <td>3.000000</td>\n",
       "      <td>1470.155837</td>\n",
       "      <td>1.000000</td>\n",
       "      <td>1.000000</td>\n",
       "      <td>26.900926</td>\n",
       "      <td>78.067294</td>\n",
       "      <td>95.000000</td>\n",
       "    </tr>\n",
       "    <tr>\n",
       "      <th>max</th>\n",
       "      <td>1.000000</td>\n",
       "      <td>1.000000</td>\n",
       "      <td>20.000000</td>\n",
       "      <td>2713.090662</td>\n",
       "      <td>1.000000</td>\n",
       "      <td>1.000000</td>\n",
       "      <td>59.912884</td>\n",
       "      <td>152.962676</td>\n",
       "      <td>420.000000</td>\n",
       "    </tr>\n",
       "  </tbody>\n",
       "</table>\n",
       "</div>"
      ],
      "text/plain": [
       "       UNDER_CONSTRUCTION          RERA       BHK_NO.     SQUARE_FT  \\\n",
       "count        27715.000000  27715.000000  27715.000000  27715.000000   \n",
       "mean             0.180263      0.315136      2.304673   1197.120600   \n",
       "std              0.384414      0.464578      0.749139    465.185990   \n",
       "min              0.000000      0.000000      1.000000      3.000000   \n",
       "25%              0.000000      0.000000      2.000000    876.111989   \n",
       "50%              0.000000      0.000000      2.000000   1149.131767   \n",
       "75%              0.000000      1.000000      3.000000   1470.155837   \n",
       "max              1.000000      1.000000     20.000000   2713.090662   \n",
       "\n",
       "       READY_TO_MOVE        RESALE     LONGITUDE      LATITUDE  \\\n",
       "count   27715.000000  27715.000000  27715.000000  27715.000000   \n",
       "mean        0.819737      0.934187     21.309430     76.924631   \n",
       "std         0.384414      0.247959      6.208328     10.452539   \n",
       "min         0.000000      0.000000    -37.713008   -121.761248   \n",
       "25%         1.000000      1.000000     18.441921     73.823649   \n",
       "50%         1.000000      1.000000     21.000000     77.338956   \n",
       "75%         1.000000      1.000000     26.900926     78.067294   \n",
       "max         1.000000      1.000000     59.912884    152.962676   \n",
       "\n",
       "       TARGET(PRICE_IN_LACS)  \n",
       "count           27715.000000  \n",
       "mean               77.612777  \n",
       "std                62.884893  \n",
       "min                 0.250000  \n",
       "25%                36.000000  \n",
       "50%                59.000000  \n",
       "75%                95.000000  \n",
       "max               420.000000  "
      ]
     },
     "execution_count": 15,
     "metadata": {},
     "output_type": "execute_result"
    }
   ],
   "source": [
    "# Cleaning the sqaure_ft outliers\n",
    "train_data = train_data.sort_values('SQUARE_FT',ascending=False).iloc[852:]\n",
    "train_data.describe()"
   ]
  },
  {
   "cell_type": "code",
   "execution_count": 16,
   "metadata": {},
   "outputs": [
    {
     "data": {
      "text/plain": [
       "<matplotlib.axes._subplots.AxesSubplot at 0x1925bbf5520>"
      ]
     },
     "execution_count": 16,
     "metadata": {},
     "output_type": "execute_result"
    },
    {
     "data": {
      "image/png": "[encoded data removed]",
      "text/plain": [
       "<Figure size 432x288 with 1 Axes>"
      ]
     },
     "metadata": {
      "needs_background": "light"
     },
     "output_type": "display_data"
    }
   ],
   "source": [
    "sns.distplot(train_data['SQUARE_FT'])"
   ]
  },
  {
   "cell_type": "markdown",
   "metadata": {},
   "source": [
    "Now we cleaned the feature 'SQUARE_FT', eliminating the outliers."
   ]
  },
  {
   "cell_type": "markdown",
   "metadata": {},
   "source": [
    "5) BHK or RK"
   ]
  },
  {
   "cell_type": "code",
   "execution_count": 17,
   "metadata": {},
   "outputs": [
    {
     "data": {
      "text/plain": [
       "BHK    27691\n",
       "RK        24\n",
       "Name: BHK_OR_RK, dtype: int64"
      ]
     },
     "execution_count": 17,
     "metadata": {},
     "output_type": "execute_result"
    }
   ],
   "source": [
    "train_data['BHK_OR_RK'].value_counts()"
   ]
  },
  {
   "cell_type": "code",
   "execution_count": 18,
   "metadata": {},
   "outputs": [],
   "source": [
    "# Turning into a binary variable\n",
    "train_data['BHK_OR_RK'] = train_data['BHK_OR_RK'].replace(to_replace=['BHK', 'RK'], value=[1, 0])   "
   ]
  },
  {
   "cell_type": "code",
   "execution_count": 19,
   "metadata": {},
   "outputs": [
    {
     "data": {
      "text/html": [
       "<div>\n",
       "<style scoped>\n",
       "    .dataframe tbody tr th:only-of-type {\n",
       "        vertical-align: middle;\n",
       "    }\n",
       "\n",
       "    .dataframe tbody tr th {\n",
       "        vertical-align: top;\n",
       "    }\n",
       "\n",
       "    .dataframe thead th {\n",
       "        text-align: right;\n",
       "    }\n",
       "</style>\n",
       "<table border=\"1\" class=\"dataframe\">\n",
       "  <thead>\n",
       "    <tr style=\"text-align: right;\">\n",
       "      <th></th>\n",
       "      <th>POSTED_BY</th>\n",
       "      <th>UNDER_CONSTRUCTION</th>\n",
       "      <th>RERA</th>\n",
       "      <th>BHK_NO.</th>\n",
       "      <th>BHK_OR_RK</th>\n",
       "      <th>SQUARE_FT</th>\n",
       "      <th>READY_TO_MOVE</th>\n",
       "      <th>RESALE</th>\n",
       "      <th>ADDRESS</th>\n",
       "      <th>LONGITUDE</th>\n",
       "      <th>LATITUDE</th>\n",
       "      <th>TARGET(PRICE_IN_LACS)</th>\n",
       "    </tr>\n",
       "  </thead>\n",
       "  <tbody>\n",
       "    <tr>\n",
       "      <th>20752</th>\n",
       "      <td>Dealer</td>\n",
       "      <td>1</td>\n",
       "      <td>1</td>\n",
       "      <td>3</td>\n",
       "      <td>1</td>\n",
       "      <td>2713.090662</td>\n",
       "      <td>0</td>\n",
       "      <td>1</td>\n",
       "      <td>ITPL,Bangalore</td>\n",
       "      <td>12.985786</td>\n",
       "      <td>77.735560</td>\n",
       "      <td>240.0</td>\n",
       "    </tr>\n",
       "    <tr>\n",
       "      <th>6550</th>\n",
       "      <td>Dealer</td>\n",
       "      <td>1</td>\n",
       "      <td>1</td>\n",
       "      <td>4</td>\n",
       "      <td>1</td>\n",
       "      <td>2710.027100</td>\n",
       "      <td>0</td>\n",
       "      <td>1</td>\n",
       "      <td>Konanakunte,Bangalore</td>\n",
       "      <td>12.885500</td>\n",
       "      <td>77.563800</td>\n",
       "      <td>240.0</td>\n",
       "    </tr>\n",
       "    <tr>\n",
       "      <th>5283</th>\n",
       "      <td>Dealer</td>\n",
       "      <td>1</td>\n",
       "      <td>1</td>\n",
       "      <td>4</td>\n",
       "      <td>1</td>\n",
       "      <td>2710.027100</td>\n",
       "      <td>0</td>\n",
       "      <td>1</td>\n",
       "      <td>Konanakunte,Bangalore</td>\n",
       "      <td>12.885500</td>\n",
       "      <td>77.563800</td>\n",
       "      <td>230.0</td>\n",
       "    </tr>\n",
       "    <tr>\n",
       "      <th>6127</th>\n",
       "      <td>Dealer</td>\n",
       "      <td>1</td>\n",
       "      <td>1</td>\n",
       "      <td>4</td>\n",
       "      <td>1</td>\n",
       "      <td>2710.027100</td>\n",
       "      <td>0</td>\n",
       "      <td>1</td>\n",
       "      <td>Konanakunte,Bangalore</td>\n",
       "      <td>12.885500</td>\n",
       "      <td>77.563800</td>\n",
       "      <td>250.0</td>\n",
       "    </tr>\n",
       "    <tr>\n",
       "      <th>7793</th>\n",
       "      <td>Dealer</td>\n",
       "      <td>0</td>\n",
       "      <td>0</td>\n",
       "      <td>3</td>\n",
       "      <td>1</td>\n",
       "      <td>2710.027100</td>\n",
       "      <td>1</td>\n",
       "      <td>1</td>\n",
       "      <td>Whitefield,Bangalore</td>\n",
       "      <td>12.995893</td>\n",
       "      <td>77.761394</td>\n",
       "      <td>220.0</td>\n",
       "    </tr>\n",
       "  </tbody>\n",
       "</table>\n",
       "</div>"
      ],
      "text/plain": [
       "      POSTED_BY  UNDER_CONSTRUCTION  RERA  BHK_NO.  BHK_OR_RK    SQUARE_FT  \\\n",
       "20752    Dealer                   1     1        3          1  2713.090662   \n",
       "6550     Dealer                   1     1        4          1  2710.027100   \n",
       "5283     Dealer                   1     1        4          1  2710.027100   \n",
       "6127     Dealer                   1     1        4          1  2710.027100   \n",
       "7793     Dealer                   0     0        3          1  2710.027100   \n",
       "\n",
       "       READY_TO_MOVE  RESALE                ADDRESS  LONGITUDE   LATITUDE  \\\n",
       "20752              0       1         ITPL,Bangalore  12.985786  77.735560   \n",
       "6550               0       1  Konanakunte,Bangalore  12.885500  77.563800   \n",
       "5283               0       1  Konanakunte,Bangalore  12.885500  77.563800   \n",
       "6127               0       1  Konanakunte,Bangalore  12.885500  77.563800   \n",
       "7793               1       1   Whitefield,Bangalore  12.995893  77.761394   \n",
       "\n",
       "       TARGET(PRICE_IN_LACS)  \n",
       "20752                  240.0  \n",
       "6550                   240.0  \n",
       "5283                   230.0  \n",
       "6127                   250.0  \n",
       "7793                   220.0  "
      ]
     },
     "execution_count": 19,
     "metadata": {},
     "output_type": "execute_result"
    }
   ],
   "source": [
    "train_data.head()"
   ]
  },
  {
   "cell_type": "markdown",
   "metadata": {},
   "source": [
    "Now we convert the 'BHK_OR_RK' feature to 0 and 1 to be easy to analyse."
   ]
  },
  {
   "cell_type": "markdown",
   "metadata": {},
   "source": [
    "6) Conversion of the 'Posted By' to numerical feature"
   ]
  },
  {
   "cell_type": "code",
   "execution_count": 20,
   "metadata": {},
   "outputs": [],
   "source": [
    "train_data['POSTED_BY'] = train_data['POSTED_BY'].replace(to_replace=['Owner', 'Dealer','Builder'], value=[0, 1, 2]) \n",
    "test_data['POSTED_BY'] = test_data['POSTED_BY'].replace(to_replace=['Owner', 'Dealer','Builder'], value=[0, 1, 2])   "
   ]
  },
  {
   "cell_type": "markdown",
   "metadata": {},
   "source": [
    "7) Data Correlation"
   ]
  },
  {
   "cell_type": "code",
   "execution_count": 21,
   "metadata": {},
   "outputs": [
    {
     "data": {
      "text/plain": [
       "POSTED_BY                0.276151\n",
       "UNDER_CONSTRUCTION       0.038658\n",
       "RERA                     0.140437\n",
       "BHK_NO.                  0.353992\n",
       "BHK_OR_RK                0.017123\n",
       "SQUARE_FT                0.423503\n",
       "READY_TO_MOVE           -0.038658\n",
       "RESALE                  -0.007220\n",
       "LONGITUDE               -0.119931\n",
       "LATITUDE                -0.073472\n",
       "TARGET(PRICE_IN_LACS)    1.000000\n",
       "Name: TARGET(PRICE_IN_LACS), dtype: float64"
      ]
     },
     "execution_count": 21,
     "metadata": {},
     "output_type": "execute_result"
    }
   ],
   "source": [
    "train_data.corr()['TARGET(PRICE_IN_LACS)']"
   ]
  },
  {
   "cell_type": "markdown",
   "metadata": {},
   "source": [
    "With the correlation we see that the price is related more with the Resale, Number of rooms, square feat, posted by. Lets see the all picture of all the features using sns heatmap."
   ]
  },
  {
   "cell_type": "code",
   "execution_count": 22,
   "metadata": {},
   "outputs": [
    {
     "data": {
      "text/plain": [
       "<matplotlib.axes._subplots.AxesSubplot at 0x1925a974f70>"
      ]
     },
     "execution_count": 22,
     "metadata": {},
     "output_type": "execute_result"
    },
    {
     "data": {
      "image/png": "[encoded data removed]",
      "text/plain": [
       "<Figure size 864x720 with 2 Axes>"
      ]
     },
     "metadata": {
      "needs_background": "light"
     },
     "output_type": "display_data"
    }
   ],
   "source": [
    "plt.figure(figsize=(12,10))\n",
    "sns.heatmap(train_data.corr(), annot=True, cmap='coolwarm')"
   ]
  },
  {
   "cell_type": "markdown",
   "metadata": {},
   "source": [
    "According to the heatmap the 'Ready_to_move' feature is 100% related with the 'Under_construction' feature, so we need to remove one to avoid overfitting."
   ]
  },
  {
   "cell_type": "markdown",
   "metadata": {},
   "source": [
    "# Processing the Data"
   ]
  },
  {
   "cell_type": "markdown",
   "metadata": {},
   "source": [
    "Based on the conclusions we obtained in the previous section we will drop some disposable features and features that my cause overfiting."
   ]
  },
  {
   "cell_type": "markdown",
   "metadata": {},
   "source": [
    "1) we conluded that the address is disposable since we have the latitude and longitude, so lets drop if from both datasets"
   ]
  },
  {
   "cell_type": "code",
   "execution_count": 23,
   "metadata": {},
   "outputs": [],
   "source": [
    "train_data.drop(['ADDRESS'], axis = 1, inplace = True)\n",
    "test_data.drop(['ADDRESS'], axis = 1, inplace = True)"
   ]
  },
  {
   "cell_type": "markdown",
   "metadata": {},
   "source": [
    "2) We easely see that the feature BHK_OR_RK is unbalanced and has less correlation with the price so we can drop it"
   ]
  },
  {
   "cell_type": "code",
   "execution_count": 24,
   "metadata": {},
   "outputs": [],
   "source": [
    "train_data.drop(['BHK_OR_RK'], axis = 1, inplace = True)\n",
    "test_data.drop(['BHK_OR_RK'], axis = 1, inplace = True)"
   ]
  },
  {
   "cell_type": "markdown",
   "metadata": {},
   "source": [
    "3) As mentioned in the previous section 'Ready to move' feature is 100% correlated with the 'under construction' feature so to avoid overfitting we drop one of them."
   ]
  },
  {
   "cell_type": "code",
   "execution_count": 25,
   "metadata": {},
   "outputs": [],
   "source": [
    "train_data.drop(['READY_TO_MOVE'], axis = 1, inplace = True)\n",
    "test_data.drop(['READY_TO_MOVE'], axis = 1, inplace = True)"
   ]
  },
  {
   "cell_type": "code",
   "execution_count": 26,
   "metadata": {},
   "outputs": [
    {
     "data": {
      "text/html": [
       "<div>\n",
       "<style scoped>\n",
       "    .dataframe tbody tr th:only-of-type {\n",
       "        vertical-align: middle;\n",
       "    }\n",
       "\n",
       "    .dataframe tbody tr th {\n",
       "        vertical-align: top;\n",
       "    }\n",
       "\n",
       "    .dataframe thead th {\n",
       "        text-align: right;\n",
       "    }\n",
       "</style>\n",
       "<table border=\"1\" class=\"dataframe\">\n",
       "  <thead>\n",
       "    <tr style=\"text-align: right;\">\n",
       "      <th></th>\n",
       "      <th>POSTED_BY</th>\n",
       "      <th>UNDER_CONSTRUCTION</th>\n",
       "      <th>RERA</th>\n",
       "      <th>BHK_NO.</th>\n",
       "      <th>SQUARE_FT</th>\n",
       "      <th>RESALE</th>\n",
       "      <th>LONGITUDE</th>\n",
       "      <th>LATITUDE</th>\n",
       "      <th>TARGET(PRICE_IN_LACS)</th>\n",
       "    </tr>\n",
       "  </thead>\n",
       "  <tbody>\n",
       "    <tr>\n",
       "      <th>20752</th>\n",
       "      <td>1</td>\n",
       "      <td>1</td>\n",
       "      <td>1</td>\n",
       "      <td>3</td>\n",
       "      <td>2713.090662</td>\n",
       "      <td>1</td>\n",
       "      <td>12.985786</td>\n",
       "      <td>77.735560</td>\n",
       "      <td>240.0</td>\n",
       "    </tr>\n",
       "    <tr>\n",
       "      <th>6550</th>\n",
       "      <td>1</td>\n",
       "      <td>1</td>\n",
       "      <td>1</td>\n",
       "      <td>4</td>\n",
       "      <td>2710.027100</td>\n",
       "      <td>1</td>\n",
       "      <td>12.885500</td>\n",
       "      <td>77.563800</td>\n",
       "      <td>240.0</td>\n",
       "    </tr>\n",
       "    <tr>\n",
       "      <th>5283</th>\n",
       "      <td>1</td>\n",
       "      <td>1</td>\n",
       "      <td>1</td>\n",
       "      <td>4</td>\n",
       "      <td>2710.027100</td>\n",
       "      <td>1</td>\n",
       "      <td>12.885500</td>\n",
       "      <td>77.563800</td>\n",
       "      <td>230.0</td>\n",
       "    </tr>\n",
       "    <tr>\n",
       "      <th>6127</th>\n",
       "      <td>1</td>\n",
       "      <td>1</td>\n",
       "      <td>1</td>\n",
       "      <td>4</td>\n",
       "      <td>2710.027100</td>\n",
       "      <td>1</td>\n",
       "      <td>12.885500</td>\n",
       "      <td>77.563800</td>\n",
       "      <td>250.0</td>\n",
       "    </tr>\n",
       "    <tr>\n",
       "      <th>7793</th>\n",
       "      <td>1</td>\n",
       "      <td>0</td>\n",
       "      <td>0</td>\n",
       "      <td>3</td>\n",
       "      <td>2710.027100</td>\n",
       "      <td>1</td>\n",
       "      <td>12.995893</td>\n",
       "      <td>77.761394</td>\n",
       "      <td>220.0</td>\n",
       "    </tr>\n",
       "  </tbody>\n",
       "</table>\n",
       "</div>"
      ],
      "text/plain": [
       "       POSTED_BY  UNDER_CONSTRUCTION  RERA  BHK_NO.    SQUARE_FT  RESALE  \\\n",
       "20752          1                   1     1        3  2713.090662       1   \n",
       "6550           1                   1     1        4  2710.027100       1   \n",
       "5283           1                   1     1        4  2710.027100       1   \n",
       "6127           1                   1     1        4  2710.027100       1   \n",
       "7793           1                   0     0        3  2710.027100       1   \n",
       "\n",
       "       LONGITUDE   LATITUDE  TARGET(PRICE_IN_LACS)  \n",
       "20752  12.985786  77.735560                  240.0  \n",
       "6550   12.885500  77.563800                  240.0  \n",
       "5283   12.885500  77.563800                  230.0  \n",
       "6127   12.885500  77.563800                  250.0  \n",
       "7793   12.995893  77.761394                  220.0  "
      ]
     },
     "execution_count": 26,
     "metadata": {},
     "output_type": "execute_result"
    }
   ],
   "source": [
    "train_data.head()"
   ]
  },
  {
   "cell_type": "markdown",
   "metadata": {},
   "source": [
    "# Train Test Split"
   ]
  },
  {
   "cell_type": "code",
   "execution_count": 27,
   "metadata": {},
   "outputs": [],
   "source": [
    "X_train = train_data.drop('TARGET(PRICE_IN_LACS)',axis=1).values\n",
    "Y_train = train_data['TARGET(PRICE_IN_LACS)'].values\n",
    "\n",
    "from sklearn.model_selection import train_test_split\n",
    "X_train, X_test, Y_train, Y_test = train_test_split(X_train,Y_train,test_size=0.1,random_state=42)"
   ]
  },
  {
   "cell_type": "markdown",
   "metadata": {},
   "source": [
    "# Scaling"
   ]
  },
  {
   "cell_type": "code",
   "execution_count": 28,
   "metadata": {},
   "outputs": [],
   "source": [
    "from sklearn.preprocessing import MinMaxScaler\n",
    "scaler = MinMaxScaler()"
   ]
  },
  {
   "cell_type": "code",
   "execution_count": 29,
   "metadata": {},
   "outputs": [],
   "source": [
    "X_train = scaler.fit_transform(X_train)"
   ]
  },
  {
   "cell_type": "code",
   "execution_count": 30,
   "metadata": {},
   "outputs": [],
   "source": [
    "X_test = scaler.transform(X_test)"
   ]
  },
  {
   "cell_type": "code",
   "execution_count": 31,
   "metadata": {},
   "outputs": [
    {
     "data": {
      "text/plain": [
       "(24943, 8)"
      ]
     },
     "execution_count": 31,
     "metadata": {},
     "output_type": "execute_result"
    }
   ],
   "source": [
    "X_train.shape"
   ]
  },
  {
   "cell_type": "code",
   "execution_count": 32,
   "metadata": {},
   "outputs": [
    {
     "data": {
      "text/plain": [
       "(2772, 8)"
      ]
     },
     "execution_count": 32,
     "metadata": {},
     "output_type": "execute_result"
    }
   ],
   "source": [
    "X_test.shape"
   ]
  },
  {
   "cell_type": "markdown",
   "metadata": {},
   "source": [
    "# Creating a Model"
   ]
  },
  {
   "cell_type": "code",
   "execution_count": 33,
   "metadata": {},
   "outputs": [],
   "source": [
    "from tensorflow.keras.models import Sequential\n",
    "from tensorflow.keras.layers import Dense, Activation\n",
    "from tensorflow.keras.optimizers import Adam\n",
    "from tensorflow.keras.callbacks import Callback, ModelCheckpoint\n",
    "from tensorflow.keras.layers import Dropout"
   ]
  },
  {
   "cell_type": "code",
   "execution_count": 34,
   "metadata": {},
   "outputs": [],
   "source": [
    "model_price = Sequential()\n",
    "\n",
    "# Number of neurons equal to te feautres on the dataset\n",
    "model_price.add(Dense(8,activation='relu',input_shape=(8,)))\n",
    "model_price.add(Dropout(0.5))\n",
    "model_price.add(Dense(8,activation='relu'))\n",
    "model_price.add(Dropout(0.5))\n",
    "model_price.add(Dense(8,activation='relu'))\n",
    "model_price.add(Dropout(0.5))\n",
    "model_price.add(Dense(8,activation='relu'))\n",
    "model_price.add(Dropout(0.5))\n",
    "model_price.add(Dense(1, activation = 'linear'))\n",
    "\n",
    "model_price.compile(optimizer='adam',loss='mae')"
   ]
  },
  {
   "cell_type": "code",
   "execution_count": 35,
   "metadata": {},
   "outputs": [],
   "source": [
    "from tensorflow.keras.callbacks import EarlyStopping\n",
    "cb = EarlyStopping(monitor='val_loss', mode='min', verbose=1, patience=25)"
   ]
  },
  {
   "cell_type": "markdown",
   "metadata": {},
   "source": [
    "# Training The Model"
   ]
  },
  {
   "cell_type": "code",
   "execution_count": 36,
   "metadata": {},
   "outputs": [
    {
     "name": "stdout",
     "output_type": "stream",
     "text": [
      "Epoch 1/150\n",
      "195/195 [==============================] - 1s 2ms/step - loss: 70.8865 - val_loss: 46.7419\n",
      "Epoch 2/150\n",
      "195/195 [==============================] - 0s 928us/step - loss: 56.1321 - val_loss: 46.3169\n",
      "Epoch 3/150\n",
      "195/195 [==============================] - 0s 963us/step - loss: 54.6588 - val_loss: 44.3608\n",
      "Epoch 4/150\n",
      "195/195 [==============================] - 0s 937us/step - loss: 53.5211 - val_loss: 43.8204\n",
      "Epoch 5/150\n",
      "195/195 [==============================] - 0s 1ms/step - loss: 51.9823 - val_loss: 42.8970\n",
      "Epoch 6/150\n",
      "195/195 [==============================] - 0s 1ms/step - loss: 51.0546 - val_loss: 41.3052\n",
      "Epoch 7/150\n",
      "195/195 [==============================] - 0s 1ms/step - loss: 49.8611 - val_loss: 39.8602\n",
      "Epoch 8/150\n",
      "195/195 [==============================] - 0s 1ms/step - loss: 49.1008 - val_loss: 39.6057\n",
      "Epoch 9/150\n",
      "195/195 [==============================] - 0s 893us/step - loss: 48.5100 - val_loss: 39.0730\n",
      "Epoch 10/150\n",
      "195/195 [==============================] - 0s 951us/step - loss: 47.7909 - val_loss: 38.4889\n",
      "Epoch 11/150\n",
      "195/195 [==============================] - 0s 1ms/step - loss: 47.5794 - val_loss: 38.5221\n",
      "Epoch 12/150\n",
      "195/195 [==============================] - 0s 1ms/step - loss: 47.3415 - val_loss: 38.3793\n",
      "Epoch 13/150\n",
      "195/195 [==============================] - 0s 991us/step - loss: 46.4851 - val_loss: 37.3042\n",
      "Epoch 14/150\n",
      "195/195 [==============================] - 0s 1ms/step - loss: 45.7602 - val_loss: 36.6766\n",
      "Epoch 15/150\n",
      "195/195 [==============================] - 0s 989us/step - loss: 45.2910 - val_loss: 37.0841\n",
      "Epoch 16/150\n",
      "195/195 [==============================] - 0s 873us/step - loss: 44.6914 - val_loss: 36.5848\n",
      "Epoch 17/150\n",
      "195/195 [==============================] - 0s 937us/step - loss: 44.6277 - val_loss: 36.2073\n",
      "Epoch 18/150\n",
      "195/195 [==============================] - 0s 943us/step - loss: 44.3261 - val_loss: 36.4875\n",
      "Epoch 19/150\n",
      "195/195 [==============================] - 0s 879us/step - loss: 44.2542 - val_loss: 36.6401\n",
      "Epoch 20/150\n",
      "195/195 [==============================] - 0s 877us/step - loss: 43.8183 - val_loss: 36.3724\n",
      "Epoch 21/150\n",
      "195/195 [==============================] - 0s 960us/step - loss: 43.2265 - val_loss: 35.6545\n",
      "Epoch 22/150\n",
      "195/195 [==============================] - 0s 883us/step - loss: 43.0357 - val_loss: 36.2137\n",
      "Epoch 23/150\n",
      "195/195 [==============================] - 0s 1ms/step - loss: 42.8543 - val_loss: 35.5530\n",
      "Epoch 24/150\n",
      "195/195 [==============================] - 0s 1ms/step - loss: 42.9448 - val_loss: 36.5410\n",
      "Epoch 25/150\n",
      "195/195 [==============================] - 0s 1ms/step - loss: 42.7994 - val_loss: 36.0303\n",
      "Epoch 26/150\n",
      "195/195 [==============================] - 0s 968us/step - loss: 42.6143 - val_loss: 35.9914\n",
      "Epoch 27/150\n",
      "195/195 [==============================] - 0s 977us/step - loss: 42.4527 - val_loss: 35.8398\n",
      "Epoch 28/150\n",
      "195/195 [==============================] - 0s 956us/step - loss: 42.4725 - val_loss: 35.8335\n",
      "Epoch 29/150\n",
      "195/195 [==============================] - 0s 931us/step - loss: 42.3314 - val_loss: 35.8326\n",
      "Epoch 30/150\n",
      "195/195 [==============================] - 0s 928us/step - loss: 42.0643 - val_loss: 35.4514\n",
      "Epoch 31/150\n",
      "195/195 [==============================] - 0s 933us/step - loss: 42.0778 - val_loss: 35.7706\n",
      "Epoch 32/150\n",
      "195/195 [==============================] - 0s 939us/step - loss: 41.7618 - val_loss: 35.3541\n",
      "Epoch 33/150\n",
      "195/195 [==============================] - 0s 989us/step - loss: 41.8802 - val_loss: 35.1511\n",
      "Epoch 34/150\n",
      "195/195 [==============================] - 0s 885us/step - loss: 41.7807 - val_loss: 35.6000\n",
      "Epoch 35/150\n",
      "195/195 [==============================] - 0s 928us/step - loss: 41.8510 - val_loss: 35.5447\n",
      "Epoch 36/150\n",
      "195/195 [==============================] - 0s 928us/step - loss: 41.6841 - val_loss: 35.1906\n",
      "Epoch 37/150\n",
      "195/195 [==============================] - 0s 1ms/step - loss: 41.5520 - val_loss: 35.8093\n",
      "Epoch 38/150\n",
      "195/195 [==============================] - 0s 908us/step - loss: 41.6872 - val_loss: 36.1282\n",
      "Epoch 39/150\n",
      "195/195 [==============================] - 0s 926us/step - loss: 41.4818 - val_loss: 35.9612\n",
      "Epoch 40/150\n",
      "195/195 [==============================] - 0s 1ms/step - loss: 41.3893 - val_loss: 35.3285\n",
      "Epoch 41/150\n",
      "195/195 [==============================] - 0s 1ms/step - loss: 41.1204 - val_loss: 35.4093\n",
      "Epoch 42/150\n",
      "195/195 [==============================] - 0s 964us/step - loss: 41.2845 - val_loss: 35.2408\n",
      "Epoch 43/150\n",
      "195/195 [==============================] - 0s 924us/step - loss: 41.1880 - val_loss: 35.2393\n",
      "Epoch 44/150\n",
      "195/195 [==============================] - 0s 1ms/step - loss: 41.0474 - val_loss: 35.3854\n",
      "Epoch 45/150\n",
      "195/195 [==============================] - 0s 927us/step - loss: 40.8877 - val_loss: 35.6492\n",
      "Epoch 46/150\n",
      "195/195 [==============================] - 0s 1ms/step - loss: 41.1685 - val_loss: 35.4313\n",
      "Epoch 47/150\n",
      "195/195 [==============================] - 0s 918us/step - loss: 40.8327 - val_loss: 34.8812\n",
      "Epoch 48/150\n",
      "195/195 [==============================] - 0s 1ms/step - loss: 41.0051 - val_loss: 35.1705\n",
      "Epoch 49/150\n",
      "195/195 [==============================] - 0s 1ms/step - loss: 40.9380 - val_loss: 35.1817\n",
      "Epoch 50/150\n",
      "195/195 [==============================] - 0s 972us/step - loss: 40.8864 - val_loss: 35.3722\n",
      "Epoch 51/150\n",
      "195/195 [==============================] - 0s 1ms/step - loss: 40.9029 - val_loss: 35.5078\n",
      "Epoch 52/150\n",
      "195/195 [==============================] - 0s 1ms/step - loss: 40.8777 - val_loss: 35.1258\n",
      "Epoch 53/150\n",
      "195/195 [==============================] - 0s 961us/step - loss: 40.8905 - val_loss: 34.9855\n",
      "Epoch 54/150\n",
      "195/195 [==============================] - 0s 881us/step - loss: 40.6058 - val_loss: 35.3875\n",
      "Epoch 55/150\n",
      "195/195 [==============================] - 0s 996us/step - loss: 40.6524 - val_loss: 35.6717\n",
      "Epoch 56/150\n",
      "195/195 [==============================] - 0s 920us/step - loss: 40.5104 - val_loss: 34.9784\n",
      "Epoch 57/150\n",
      "195/195 [==============================] - 0s 943us/step - loss: 40.5607 - val_loss: 35.0823\n",
      "Epoch 58/150\n",
      "195/195 [==============================] - 0s 937us/step - loss: 40.4310 - val_loss: 35.0549\n",
      "Epoch 59/150\n",
      "195/195 [==============================] - 0s 950us/step - loss: 40.4453 - val_loss: 35.5261\n",
      "Epoch 60/150\n",
      "195/195 [==============================] - 0s 958us/step - loss: 40.5482 - val_loss: 35.5060\n",
      "Epoch 61/150\n",
      "195/195 [==============================] - 0s 894us/step - loss: 40.5988 - val_loss: 35.6067\n",
      "Epoch 62/150\n",
      "195/195 [==============================] - 0s 876us/step - loss: 40.4772 - val_loss: 35.0043\n",
      "Epoch 63/150\n",
      "195/195 [==============================] - 0s 960us/step - loss: 40.3727 - val_loss: 35.1773\n",
      "Epoch 64/150\n",
      "195/195 [==============================] - 0s 967us/step - loss: 40.4337 - val_loss: 35.1263\n",
      "Epoch 65/150\n",
      "195/195 [==============================] - 0s 924us/step - loss: 40.1495 - val_loss: 35.1375\n",
      "Epoch 66/150\n",
      "195/195 [==============================] - 0s 1ms/step - loss: 40.3164 - val_loss: 35.3455\n",
      "Epoch 67/150\n",
      "195/195 [==============================] - 0s 1ms/step - loss: 40.1839 - val_loss: 35.2736\n",
      "Epoch 68/150\n",
      "195/195 [==============================] - 0s 921us/step - loss: 40.5765 - val_loss: 35.2226\n",
      "Epoch 69/150\n",
      "195/195 [==============================] - 0s 944us/step - loss: 40.3870 - val_loss: 35.0518\n",
      "Epoch 70/150\n",
      "195/195 [==============================] - 0s 944us/step - loss: 40.2485 - val_loss: 34.9942\n",
      "Epoch 71/150\n",
      "195/195 [==============================] - 0s 938us/step - loss: 40.2938 - val_loss: 35.1031\n",
      "Epoch 72/150\n",
      "195/195 [==============================] - 0s 927us/step - loss: 40.2363 - val_loss: 35.2126\n",
      "Epoch 00072: early stopping\n"
     ]
    },
    {
     "data": {
      "text/plain": [
       "<keras.callbacks.History at 0x1925c2ccf10>"
      ]
     },
     "execution_count": 36,
     "metadata": {},
     "output_type": "execute_result"
    }
   ],
   "source": [
    "model_price.fit(x=X_train,y=Y_train, validation_data=(X_test, Y_test), batch_size=128, epochs=150, callbacks=[cb])\n",
    "# batch_size in power of two"
   ]
  },
  {
   "cell_type": "code",
   "execution_count": 37,
   "metadata": {},
   "outputs": [
    {
     "data": {
      "text/plain": [
       "<matplotlib.axes._subplots.AxesSubplot at 0x1926537b610>"
      ]
     },
     "execution_count": 37,
     "metadata": {},
     "output_type": "execute_result"
    },
    {
     "data": {
      "image/png": "[encoded data removed]",
      "text/plain": [
       "<Figure size 432x288 with 1 Axes>"
      ]
     },
     "metadata": {
      "needs_background": "light"
     },
     "output_type": "display_data"
    }
   ],
   "source": [
    "losses = pd.DataFrame(model_price.history.history)\n",
    "losses.plot()"
   ]
  },
  {
   "cell_type": "markdown",
   "metadata": {},
   "source": [
    "# Test and Evaluate the Model"
   ]
  },
  {
   "cell_type": "code",
   "execution_count": 38,
   "metadata": {},
   "outputs": [],
   "source": [
    "from sklearn.metrics import mean_absolute_error, max_error, mean_squared_error"
   ]
  },
  {
   "cell_type": "code",
   "execution_count": 39,
   "metadata": {},
   "outputs": [
    {
     "name": "stdout",
     "output_type": "stream",
     "text": [
      "    Actual value  Predicted value\n",
      "0           85.0        66.617973\n",
      "1           47.0        42.478973\n",
      "2           43.0        42.277397\n",
      "3           24.0        42.402832\n",
      "4           30.0        42.402832\n",
      "5           29.0        45.720329\n",
      "6           38.0        44.279846\n",
      "7           80.0        65.512459\n",
      "8           65.0        42.345314\n",
      "9           37.0        42.402832\n",
      "10         160.0        63.941490\n",
      "11         240.0        63.892529\n",
      "12          16.0        42.402832\n",
      "13         170.0       104.951241\n",
      "14          55.0        68.667091\n",
      "15          40.0        54.343193\n",
      "16          46.0        42.283569\n",
      "17          94.0        44.892963\n",
      "18          85.0       100.406960\n",
      "19         100.0        81.253181\n",
      "20          26.5        48.799522\n",
      "21         160.0        53.145279\n",
      "22         120.0        67.944557\n",
      "23          50.0        49.788643\n",
      "24          50.0        42.273254\n",
      "25          79.9        70.751511\n",
      "26          85.0        63.079826\n",
      "27          85.0        45.238449\n",
      "28          95.5        58.487885\n",
      "29         280.0        84.514427\n",
      "30         100.0        76.568916\n",
      "31          80.0        62.358868\n",
      "32          33.0        43.390312\n",
      "33          80.0        45.018040\n",
      "34          20.5        42.273254\n",
      "35          43.4        42.402832\n",
      "36         160.0        70.018906\n",
      "37          40.0        42.292141\n",
      "38          25.0        42.312469\n",
      "39          35.0        42.273254\n"
     ]
    }
   ],
   "source": [
    "y_pred = model_price.predict(X_test).reshape(X_test.shape[0])\n",
    "\n",
    "# Create a dataframe to put the two columns of the true value and the prediction\n",
    "pred_df = pd.DataFrame({'Actual value':Y_test, 'Predicted value':y_pred})\n",
    "print(pred_df.head(40))"
   ]
  },
  {
   "cell_type": "code",
   "execution_count": 40,
   "metadata": {},
   "outputs": [
    {
     "data": {
      "text/plain": [
       "35.2125838285504"
      ]
     },
     "execution_count": 40,
     "metadata": {},
     "output_type": "execute_result"
    }
   ],
   "source": [
    "mean_absolute_error(y_true=pred_df['Actual value'], y_pred=pred_df['Predicted value'])"
   ]
  },
  {
   "cell_type": "code",
   "execution_count": 44,
   "metadata": {},
   "outputs": [
    {
     "name": "stdout",
     "output_type": "stream",
     "text": [
      "3547.1714961649327\n"
     ]
    }
   ],
   "source": [
    "print(mean_squared_error(y_true=pred_df['Actual value'], y_pred=pred_df['Predicted value']))"
   ]
  },
  {
   "cell_type": "code",
   "execution_count": 42,
   "metadata": {},
   "outputs": [
    {
     "data": {
      "text/plain": [
       "0.2206843758337801"
      ]
     },
     "execution_count": 42,
     "metadata": {},
     "output_type": "execute_result"
    }
   ],
   "source": [
    "from sklearn.metrics import explained_variance_score\n",
    "explained_variance_score(Y_test, y_pred)"
   ]
  },
  {
   "cell_type": "code",
   "execution_count": 43,
   "metadata": {},
   "outputs": [],
   "source": [
    "pd.DataFrame(y_pred).to_csv('submission.csv')"
   ]
  }
 ],
 "metadata": {
  "kernelspec": {
   "display_name": "Python 3",
   "language": "python",
   "name": "python3"
  },
  "language_info": {
   "codemirror_mode": {
    "name": "ipython",
    "version": 3
   },
   "file_extension": ".py",
   "mimetype": "text/x-python",
   "name": "python",
   "nbconvert_exporter": "python",
   "pygments_lexer": "ipython3",
   "version": "3.8.3"
  }
 },
 "nbformat": 4,
 "nbformat_minor": 4
}
