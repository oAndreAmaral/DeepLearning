{
 "cells": [
  {
   "cell_type": "markdown",
   "metadata": {},
   "source": [
    "# Project 1 - Prediction using NN and Fuzzy Systems"
   ]
  },
  {
   "cell_type": "markdown",
   "metadata": {},
   "source": [
    "Authors: André Amaral (90012) and Tomás Bessa (90200)."
   ]
  },
  {
   "cell_type": "markdown",
   "metadata": {},
   "source": [
    "Computational Intelligence October 2021."
   ]
  },
  {
   "cell_type": "code",
   "execution_count": 1,
   "metadata": {},
   "outputs": [],
   "source": [
    "import numpy as np\n",
    "import pandas as pd\n",
    "import seaborn as sns\n",
    "\n",
    "import warnings\n",
    "warnings.filterwarnings('ignore') "
   ]
  },
  {
   "cell_type": "markdown",
   "metadata": {},
   "source": [
    "# <font color='green'><b> 1) Dataset </b></font>"
   ]
  },
  {
   "cell_type": "code",
   "execution_count": 2,
   "metadata": {},
   "outputs": [],
   "source": [
    "df = pd.read_csv('ACI21-22_Proj1IoTGatewayCrashDataset.csv')\n",
    "eval_df = pd.read_csv('ACI_Proj1_TestSet.csv')"
   ]
  },
  {
   "cell_type": "code",
   "execution_count": 3,
   "metadata": {},
   "outputs": [
    {
     "data": {
      "text/html": [
       "<div>\n",
       "<style scoped>\n",
       "    .dataframe tbody tr th:only-of-type {\n",
       "        vertical-align: middle;\n",
       "    }\n",
       "\n",
       "    .dataframe tbody tr th {\n",
       "        vertical-align: top;\n",
       "    }\n",
       "\n",
       "    .dataframe thead th {\n",
       "        text-align: right;\n",
       "    }\n",
       "</style>\n",
       "<table border=\"1\" class=\"dataframe\">\n",
       "  <thead>\n",
       "    <tr style=\"text-align: right;\">\n",
       "      <th></th>\n",
       "      <th>Requests</th>\n",
       "      <th>Load</th>\n",
       "      <th>Falha</th>\n",
       "    </tr>\n",
       "  </thead>\n",
       "  <tbody>\n",
       "    <tr>\n",
       "      <th>0</th>\n",
       "      <td>0.32</td>\n",
       "      <td>0.12</td>\n",
       "      <td>0</td>\n",
       "    </tr>\n",
       "    <tr>\n",
       "      <th>1</th>\n",
       "      <td>0.06</td>\n",
       "      <td>0.43</td>\n",
       "      <td>0</td>\n",
       "    </tr>\n",
       "    <tr>\n",
       "      <th>2</th>\n",
       "      <td>0.06</td>\n",
       "      <td>0.19</td>\n",
       "      <td>0</td>\n",
       "    </tr>\n",
       "    <tr>\n",
       "      <th>3</th>\n",
       "      <td>0.02</td>\n",
       "      <td>0.08</td>\n",
       "      <td>0</td>\n",
       "    </tr>\n",
       "    <tr>\n",
       "      <th>4</th>\n",
       "      <td>0.09</td>\n",
       "      <td>0.19</td>\n",
       "      <td>0</td>\n",
       "    </tr>\n",
       "    <tr>\n",
       "      <th>5</th>\n",
       "      <td>0.04</td>\n",
       "      <td>0.07</td>\n",
       "      <td>0</td>\n",
       "    </tr>\n",
       "    <tr>\n",
       "      <th>6</th>\n",
       "      <td>0.08</td>\n",
       "      <td>0.90</td>\n",
       "      <td>0</td>\n",
       "    </tr>\n",
       "    <tr>\n",
       "      <th>7</th>\n",
       "      <td>0.80</td>\n",
       "      <td>0.44</td>\n",
       "      <td>0</td>\n",
       "    </tr>\n",
       "    <tr>\n",
       "      <th>8</th>\n",
       "      <td>0.01</td>\n",
       "      <td>0.03</td>\n",
       "      <td>0</td>\n",
       "    </tr>\n",
       "    <tr>\n",
       "      <th>9</th>\n",
       "      <td>0.01</td>\n",
       "      <td>0.15</td>\n",
       "      <td>0</td>\n",
       "    </tr>\n",
       "  </tbody>\n",
       "</table>\n",
       "</div>"
      ],
      "text/plain": [
       "   Requests  Load  Falha\n",
       "0      0.32  0.12      0\n",
       "1      0.06  0.43      0\n",
       "2      0.06  0.19      0\n",
       "3      0.02  0.08      0\n",
       "4      0.09  0.19      0\n",
       "5      0.04  0.07      0\n",
       "6      0.08  0.90      0\n",
       "7      0.80  0.44      0\n",
       "8      0.01  0.03      0\n",
       "9      0.01  0.15      0"
      ]
     },
     "execution_count": 3,
     "metadata": {},
     "output_type": "execute_result"
    }
   ],
   "source": [
    "df.head(10)"
   ]
  },
  {
   "cell_type": "code",
   "execution_count": 4,
   "metadata": {},
   "outputs": [
    {
     "data": {
      "text/html": [
       "<div>\n",
       "<style scoped>\n",
       "    .dataframe tbody tr th:only-of-type {\n",
       "        vertical-align: middle;\n",
       "    }\n",
       "\n",
       "    .dataframe tbody tr th {\n",
       "        vertical-align: top;\n",
       "    }\n",
       "\n",
       "    .dataframe thead th {\n",
       "        text-align: right;\n",
       "    }\n",
       "</style>\n",
       "<table border=\"1\" class=\"dataframe\">\n",
       "  <thead>\n",
       "    <tr style=\"text-align: right;\">\n",
       "      <th></th>\n",
       "      <th>Requests</th>\n",
       "      <th>Load</th>\n",
       "      <th>Falha</th>\n",
       "    </tr>\n",
       "  </thead>\n",
       "  <tbody>\n",
       "    <tr>\n",
       "      <th>0</th>\n",
       "      <td>0.04</td>\n",
       "      <td>0.07</td>\n",
       "      <td>0</td>\n",
       "    </tr>\n",
       "    <tr>\n",
       "      <th>1</th>\n",
       "      <td>0.02</td>\n",
       "      <td>0.09</td>\n",
       "      <td>0</td>\n",
       "    </tr>\n",
       "    <tr>\n",
       "      <th>2</th>\n",
       "      <td>0.06</td>\n",
       "      <td>0.39</td>\n",
       "      <td>0</td>\n",
       "    </tr>\n",
       "    <tr>\n",
       "      <th>3</th>\n",
       "      <td>0.07</td>\n",
       "      <td>0.01</td>\n",
       "      <td>0</td>\n",
       "    </tr>\n",
       "    <tr>\n",
       "      <th>4</th>\n",
       "      <td>0.06</td>\n",
       "      <td>0.10</td>\n",
       "      <td>0</td>\n",
       "    </tr>\n",
       "    <tr>\n",
       "      <th>5</th>\n",
       "      <td>0.03</td>\n",
       "      <td>0.02</td>\n",
       "      <td>0</td>\n",
       "    </tr>\n",
       "    <tr>\n",
       "      <th>6</th>\n",
       "      <td>0.01</td>\n",
       "      <td>0.23</td>\n",
       "      <td>0</td>\n",
       "    </tr>\n",
       "    <tr>\n",
       "      <th>7</th>\n",
       "      <td>0.45</td>\n",
       "      <td>0.21</td>\n",
       "      <td>0</td>\n",
       "    </tr>\n",
       "    <tr>\n",
       "      <th>8</th>\n",
       "      <td>0.67</td>\n",
       "      <td>0.14</td>\n",
       "      <td>0</td>\n",
       "    </tr>\n",
       "    <tr>\n",
       "      <th>9</th>\n",
       "      <td>0.73</td>\n",
       "      <td>0.35</td>\n",
       "      <td>0</td>\n",
       "    </tr>\n",
       "    <tr>\n",
       "      <th>10</th>\n",
       "      <td>0.53</td>\n",
       "      <td>0.24</td>\n",
       "      <td>0</td>\n",
       "    </tr>\n",
       "    <tr>\n",
       "      <th>11</th>\n",
       "      <td>0.61</td>\n",
       "      <td>0.50</td>\n",
       "      <td>0</td>\n",
       "    </tr>\n",
       "    <tr>\n",
       "      <th>12</th>\n",
       "      <td>0.73</td>\n",
       "      <td>0.10</td>\n",
       "      <td>0</td>\n",
       "    </tr>\n",
       "    <tr>\n",
       "      <th>13</th>\n",
       "      <td>0.50</td>\n",
       "      <td>0.59</td>\n",
       "      <td>0</td>\n",
       "    </tr>\n",
       "    <tr>\n",
       "      <th>14</th>\n",
       "      <td>0.43</td>\n",
       "      <td>0.59</td>\n",
       "      <td>0</td>\n",
       "    </tr>\n",
       "    <tr>\n",
       "      <th>15</th>\n",
       "      <td>0.74</td>\n",
       "      <td>0.59</td>\n",
       "      <td>0</td>\n",
       "    </tr>\n",
       "    <tr>\n",
       "      <th>16</th>\n",
       "      <td>0.71</td>\n",
       "      <td>0.36</td>\n",
       "      <td>0</td>\n",
       "    </tr>\n",
       "    <tr>\n",
       "      <th>17</th>\n",
       "      <td>0.53</td>\n",
       "      <td>0.05</td>\n",
       "      <td>0</td>\n",
       "    </tr>\n",
       "    <tr>\n",
       "      <th>18</th>\n",
       "      <td>0.03</td>\n",
       "      <td>0.04</td>\n",
       "      <td>0</td>\n",
       "    </tr>\n",
       "    <tr>\n",
       "      <th>19</th>\n",
       "      <td>0.06</td>\n",
       "      <td>0.46</td>\n",
       "      <td>0</td>\n",
       "    </tr>\n",
       "    <tr>\n",
       "      <th>20</th>\n",
       "      <td>0.02</td>\n",
       "      <td>0.06</td>\n",
       "      <td>0</td>\n",
       "    </tr>\n",
       "    <tr>\n",
       "      <th>21</th>\n",
       "      <td>0.02</td>\n",
       "      <td>0.08</td>\n",
       "      <td>0</td>\n",
       "    </tr>\n",
       "    <tr>\n",
       "      <th>22</th>\n",
       "      <td>0.05</td>\n",
       "      <td>0.25</td>\n",
       "      <td>0</td>\n",
       "    </tr>\n",
       "    <tr>\n",
       "      <th>23</th>\n",
       "      <td>0.06</td>\n",
       "      <td>0.37</td>\n",
       "      <td>0</td>\n",
       "    </tr>\n",
       "    <tr>\n",
       "      <th>24</th>\n",
       "      <td>0.05</td>\n",
       "      <td>0.27</td>\n",
       "      <td>0</td>\n",
       "    </tr>\n",
       "    <tr>\n",
       "      <th>25</th>\n",
       "      <td>0.01</td>\n",
       "      <td>0.42</td>\n",
       "      <td>0</td>\n",
       "    </tr>\n",
       "    <tr>\n",
       "      <th>26</th>\n",
       "      <td>0.59</td>\n",
       "      <td>0.16</td>\n",
       "      <td>0</td>\n",
       "    </tr>\n",
       "    <tr>\n",
       "      <th>27</th>\n",
       "      <td>0.46</td>\n",
       "      <td>0.67</td>\n",
       "      <td>0</td>\n",
       "    </tr>\n",
       "    <tr>\n",
       "      <th>28</th>\n",
       "      <td>0.64</td>\n",
       "      <td>0.25</td>\n",
       "      <td>0</td>\n",
       "    </tr>\n",
       "    <tr>\n",
       "      <th>29</th>\n",
       "      <td>0.68</td>\n",
       "      <td>0.67</td>\n",
       "      <td>1</td>\n",
       "    </tr>\n",
       "    <tr>\n",
       "      <th>30</th>\n",
       "      <td>0.61</td>\n",
       "      <td>0.03</td>\n",
       "      <td>0</td>\n",
       "    </tr>\n",
       "    <tr>\n",
       "      <th>31</th>\n",
       "      <td>0.02</td>\n",
       "      <td>0.13</td>\n",
       "      <td>0</td>\n",
       "    </tr>\n",
       "    <tr>\n",
       "      <th>32</th>\n",
       "      <td>0.06</td>\n",
       "      <td>0.34</td>\n",
       "      <td>0</td>\n",
       "    </tr>\n",
       "    <tr>\n",
       "      <th>33</th>\n",
       "      <td>0.04</td>\n",
       "      <td>0.14</td>\n",
       "      <td>0</td>\n",
       "    </tr>\n",
       "    <tr>\n",
       "      <th>34</th>\n",
       "      <td>0.08</td>\n",
       "      <td>0.23</td>\n",
       "      <td>0</td>\n",
       "    </tr>\n",
       "    <tr>\n",
       "      <th>35</th>\n",
       "      <td>0.05</td>\n",
       "      <td>0.25</td>\n",
       "      <td>0</td>\n",
       "    </tr>\n",
       "    <tr>\n",
       "      <th>36</th>\n",
       "      <td>0.00</td>\n",
       "      <td>0.19</td>\n",
       "      <td>0</td>\n",
       "    </tr>\n",
       "    <tr>\n",
       "      <th>37</th>\n",
       "      <td>0.08</td>\n",
       "      <td>0.31</td>\n",
       "      <td>0</td>\n",
       "    </tr>\n",
       "    <tr>\n",
       "      <th>38</th>\n",
       "      <td>0.07</td>\n",
       "      <td>0.45</td>\n",
       "      <td>0</td>\n",
       "    </tr>\n",
       "    <tr>\n",
       "      <th>39</th>\n",
       "      <td>0.04</td>\n",
       "      <td>0.26</td>\n",
       "      <td>0</td>\n",
       "    </tr>\n",
       "    <tr>\n",
       "      <th>40</th>\n",
       "      <td>0.09</td>\n",
       "      <td>0.11</td>\n",
       "      <td>0</td>\n",
       "    </tr>\n",
       "    <tr>\n",
       "      <th>41</th>\n",
       "      <td>0.07</td>\n",
       "      <td>0.16</td>\n",
       "      <td>0</td>\n",
       "    </tr>\n",
       "    <tr>\n",
       "      <th>42</th>\n",
       "      <td>0.02</td>\n",
       "      <td>0.47</td>\n",
       "      <td>0</td>\n",
       "    </tr>\n",
       "    <tr>\n",
       "      <th>43</th>\n",
       "      <td>0.67</td>\n",
       "      <td>0.49</td>\n",
       "      <td>0</td>\n",
       "    </tr>\n",
       "    <tr>\n",
       "      <th>44</th>\n",
       "      <td>0.69</td>\n",
       "      <td>0.06</td>\n",
       "      <td>0</td>\n",
       "    </tr>\n",
       "    <tr>\n",
       "      <th>45</th>\n",
       "      <td>0.69</td>\n",
       "      <td>0.19</td>\n",
       "      <td>0</td>\n",
       "    </tr>\n",
       "    <tr>\n",
       "      <th>46</th>\n",
       "      <td>0.60</td>\n",
       "      <td>0.35</td>\n",
       "      <td>0</td>\n",
       "    </tr>\n",
       "    <tr>\n",
       "      <th>47</th>\n",
       "      <td>0.58</td>\n",
       "      <td>0.30</td>\n",
       "      <td>0</td>\n",
       "    </tr>\n",
       "    <tr>\n",
       "      <th>48</th>\n",
       "      <td>0.60</td>\n",
       "      <td>0.24</td>\n",
       "      <td>0</td>\n",
       "    </tr>\n",
       "    <tr>\n",
       "      <th>49</th>\n",
       "      <td>0.74</td>\n",
       "      <td>0.27</td>\n",
       "      <td>0</td>\n",
       "    </tr>\n",
       "    <tr>\n",
       "      <th>50</th>\n",
       "      <td>0.75</td>\n",
       "      <td>0.36</td>\n",
       "      <td>0</td>\n",
       "    </tr>\n",
       "    <tr>\n",
       "      <th>51</th>\n",
       "      <td>0.01</td>\n",
       "      <td>0.65</td>\n",
       "      <td>1</td>\n",
       "    </tr>\n",
       "    <tr>\n",
       "      <th>52</th>\n",
       "      <td>0.08</td>\n",
       "      <td>0.08</td>\n",
       "      <td>0</td>\n",
       "    </tr>\n",
       "    <tr>\n",
       "      <th>53</th>\n",
       "      <td>0.00</td>\n",
       "      <td>0.41</td>\n",
       "      <td>0</td>\n",
       "    </tr>\n",
       "    <tr>\n",
       "      <th>54</th>\n",
       "      <td>0.07</td>\n",
       "      <td>0.15</td>\n",
       "      <td>0</td>\n",
       "    </tr>\n",
       "    <tr>\n",
       "      <th>55</th>\n",
       "      <td>0.05</td>\n",
       "      <td>0.42</td>\n",
       "      <td>0</td>\n",
       "    </tr>\n",
       "    <tr>\n",
       "      <th>56</th>\n",
       "      <td>0.09</td>\n",
       "      <td>0.23</td>\n",
       "      <td>0</td>\n",
       "    </tr>\n",
       "    <tr>\n",
       "      <th>57</th>\n",
       "      <td>0.09</td>\n",
       "      <td>0.11</td>\n",
       "      <td>0</td>\n",
       "    </tr>\n",
       "    <tr>\n",
       "      <th>58</th>\n",
       "      <td>0.04</td>\n",
       "      <td>0.29</td>\n",
       "      <td>0</td>\n",
       "    </tr>\n",
       "    <tr>\n",
       "      <th>59</th>\n",
       "      <td>0.08</td>\n",
       "      <td>0.84</td>\n",
       "      <td>0</td>\n",
       "    </tr>\n",
       "  </tbody>\n",
       "</table>\n",
       "</div>"
      ],
      "text/plain": [
       "    Requests  Load  Falha\n",
       "0       0.04  0.07      0\n",
       "1       0.02  0.09      0\n",
       "2       0.06  0.39      0\n",
       "3       0.07  0.01      0\n",
       "4       0.06  0.10      0\n",
       "5       0.03  0.02      0\n",
       "6       0.01  0.23      0\n",
       "7       0.45  0.21      0\n",
       "8       0.67  0.14      0\n",
       "9       0.73  0.35      0\n",
       "10      0.53  0.24      0\n",
       "11      0.61  0.50      0\n",
       "12      0.73  0.10      0\n",
       "13      0.50  0.59      0\n",
       "14      0.43  0.59      0\n",
       "15      0.74  0.59      0\n",
       "16      0.71  0.36      0\n",
       "17      0.53  0.05      0\n",
       "18      0.03  0.04      0\n",
       "19      0.06  0.46      0\n",
       "20      0.02  0.06      0\n",
       "21      0.02  0.08      0\n",
       "22      0.05  0.25      0\n",
       "23      0.06  0.37      0\n",
       "24      0.05  0.27      0\n",
       "25      0.01  0.42      0\n",
       "26      0.59  0.16      0\n",
       "27      0.46  0.67      0\n",
       "28      0.64  0.25      0\n",
       "29      0.68  0.67      1\n",
       "30      0.61  0.03      0\n",
       "31      0.02  0.13      0\n",
       "32      0.06  0.34      0\n",
       "33      0.04  0.14      0\n",
       "34      0.08  0.23      0\n",
       "35      0.05  0.25      0\n",
       "36      0.00  0.19      0\n",
       "37      0.08  0.31      0\n",
       "38      0.07  0.45      0\n",
       "39      0.04  0.26      0\n",
       "40      0.09  0.11      0\n",
       "41      0.07  0.16      0\n",
       "42      0.02  0.47      0\n",
       "43      0.67  0.49      0\n",
       "44      0.69  0.06      0\n",
       "45      0.69  0.19      0\n",
       "46      0.60  0.35      0\n",
       "47      0.58  0.30      0\n",
       "48      0.60  0.24      0\n",
       "49      0.74  0.27      0\n",
       "50      0.75  0.36      0\n",
       "51      0.01  0.65      1\n",
       "52      0.08  0.08      0\n",
       "53      0.00  0.41      0\n",
       "54      0.07  0.15      0\n",
       "55      0.05  0.42      0\n",
       "56      0.09  0.23      0\n",
       "57      0.09  0.11      0\n",
       "58      0.04  0.29      0\n",
       "59      0.08  0.84      0"
      ]
     },
     "execution_count": 4,
     "metadata": {},
     "output_type": "execute_result"
    }
   ],
   "source": [
    "eval_df.head(60)"
   ]
  },
  {
   "cell_type": "markdown",
   "metadata": {},
   "source": [
    "### Data Analysis"
   ]
  },
  {
   "cell_type": "code",
   "execution_count": 5,
   "metadata": {},
   "outputs": [
    {
     "name": "stdout",
     "output_type": "stream",
     "text": [
      "<class 'pandas.core.frame.DataFrame'>\n",
      "RangeIndex: 1999 entries, 0 to 1998\n",
      "Data columns (total 3 columns):\n",
      " #   Column    Non-Null Count  Dtype  \n",
      "---  ------    --------------  -----  \n",
      " 0   Requests  1999 non-null   float64\n",
      " 1   Load      1999 non-null   float64\n",
      " 2   Falha     1999 non-null   int64  \n",
      "dtypes: float64(2), int64(1)\n",
      "memory usage: 47.0 KB\n"
     ]
    }
   ],
   "source": [
    "df.info()"
   ]
  },
  {
   "cell_type": "code",
   "execution_count": 6,
   "metadata": {},
   "outputs": [
    {
     "data": {
      "text/html": [
       "<div>\n",
       "<style scoped>\n",
       "    .dataframe tbody tr th:only-of-type {\n",
       "        vertical-align: middle;\n",
       "    }\n",
       "\n",
       "    .dataframe tbody tr th {\n",
       "        vertical-align: top;\n",
       "    }\n",
       "\n",
       "    .dataframe thead th {\n",
       "        text-align: right;\n",
       "    }\n",
       "</style>\n",
       "<table border=\"1\" class=\"dataframe\">\n",
       "  <thead>\n",
       "    <tr style=\"text-align: right;\">\n",
       "      <th></th>\n",
       "      <th>Requests</th>\n",
       "      <th>Load</th>\n",
       "      <th>Falha</th>\n",
       "    </tr>\n",
       "  </thead>\n",
       "  <tbody>\n",
       "    <tr>\n",
       "      <th>count</th>\n",
       "      <td>1999.000000</td>\n",
       "      <td>1999.000000</td>\n",
       "      <td>1999.000000</td>\n",
       "    </tr>\n",
       "    <tr>\n",
       "      <th>mean</th>\n",
       "      <td>0.161956</td>\n",
       "      <td>0.284967</td>\n",
       "      <td>0.023012</td>\n",
       "    </tr>\n",
       "    <tr>\n",
       "      <th>std</th>\n",
       "      <td>0.235763</td>\n",
       "      <td>0.200008</td>\n",
       "      <td>0.149977</td>\n",
       "    </tr>\n",
       "    <tr>\n",
       "      <th>min</th>\n",
       "      <td>0.000000</td>\n",
       "      <td>0.000000</td>\n",
       "      <td>0.000000</td>\n",
       "    </tr>\n",
       "    <tr>\n",
       "      <th>25%</th>\n",
       "      <td>0.030000</td>\n",
       "      <td>0.130000</td>\n",
       "      <td>0.000000</td>\n",
       "    </tr>\n",
       "    <tr>\n",
       "      <th>50%</th>\n",
       "      <td>0.060000</td>\n",
       "      <td>0.260000</td>\n",
       "      <td>0.000000</td>\n",
       "    </tr>\n",
       "    <tr>\n",
       "      <th>75%</th>\n",
       "      <td>0.090000</td>\n",
       "      <td>0.400000</td>\n",
       "      <td>0.000000</td>\n",
       "    </tr>\n",
       "    <tr>\n",
       "      <th>max</th>\n",
       "      <td>0.990000</td>\n",
       "      <td>0.980000</td>\n",
       "      <td>1.000000</td>\n",
       "    </tr>\n",
       "  </tbody>\n",
       "</table>\n",
       "</div>"
      ],
      "text/plain": [
       "          Requests         Load        Falha\n",
       "count  1999.000000  1999.000000  1999.000000\n",
       "mean      0.161956     0.284967     0.023012\n",
       "std       0.235763     0.200008     0.149977\n",
       "min       0.000000     0.000000     0.000000\n",
       "25%       0.030000     0.130000     0.000000\n",
       "50%       0.060000     0.260000     0.000000\n",
       "75%       0.090000     0.400000     0.000000\n",
       "max       0.990000     0.980000     1.000000"
      ]
     },
     "execution_count": 6,
     "metadata": {},
     "output_type": "execute_result"
    }
   ],
   "source": [
    "df.describe()"
   ]
  },
  {
   "cell_type": "code",
   "execution_count": 7,
   "metadata": {},
   "outputs": [
    {
     "data": {
      "text/plain": [
       "0    1953\n",
       "1      46\n",
       "Name: Falha, dtype: int64"
      ]
     },
     "execution_count": 7,
     "metadata": {},
     "output_type": "execute_result"
    }
   ],
   "source": [
    "df['Falha'].value_counts()"
   ]
  },
  {
   "cell_type": "markdown",
   "metadata": {},
   "source": [
    "This section shows that the faillure case is less relevant in the given dataset, contrary to the normal cases. After performing the train_test_split the train set must be balanced to get an accurate model."
   ]
  },
  {
   "cell_type": "code",
   "execution_count": 8,
   "metadata": {},
   "outputs": [
    {
     "data": {
      "text/plain": [
       "<seaborn.axisgrid.FacetGrid at 0x1e078fc82b0>"
      ]
     },
     "execution_count": 8,
     "metadata": {},
     "output_type": "execute_result"
    },
    {
     "data": {
      "image/png": "[encoded data removed]",
      "text/plain": [
       "<Figure size 422.375x360 with 1 Axes>"
      ]
     },
     "metadata": {
      "needs_background": "light"
     },
     "output_type": "display_data"
    }
   ],
   "source": [
    "sns.relplot(data=df,x=\"Requests\", y=\"Load\", hue=\"Falha\", palette=['chartreuse','firebrick'])"
   ]
  },
  {
   "cell_type": "markdown",
   "metadata": {},
   "source": [
    "# <font color='green'><b> 2) Will it Crash or Not? </b></font>"
   ]
  },
  {
   "cell_type": "markdown",
   "metadata": {},
   "source": [
    "### a) Train Test Validation Split"
   ]
  },
  {
   "cell_type": "code",
   "execution_count": 9,
   "metadata": {},
   "outputs": [],
   "source": [
    "from sklearn.model_selection import train_test_split\n",
    "\n",
    "X = df.drop('Falha', axis = 1).values\n",
    "Y = df['Falha'].values\n",
    "\n",
    "X_train, X_test, Y_train, Y_test = train_test_split(X,Y,test_size=0.25, random_state = 101)\n",
    "X_train, X_Val, Y_train, Y_Val = train_test_split(X_train,Y_train,test_size=0.25, random_state = 101)"
   ]
  },
  {
   "cell_type": "markdown",
   "metadata": {},
   "source": [
    "### b) Data Scaling"
   ]
  },
  {
   "cell_type": "code",
   "execution_count": 10,
   "metadata": {},
   "outputs": [],
   "source": [
    "from sklearn.preprocessing import MinMaxScaler\n",
    "\n",
    "scaler = MinMaxScaler()\n",
    "X_train = scaler.fit_transform(X_train)\n",
    "X_test = scaler.transform(X_test)\n",
    "X_Val = scaler.transform(X_Val)"
   ]
  },
  {
   "cell_type": "markdown",
   "metadata": {},
   "source": [
    "### c) MLP Classifier"
   ]
  },
  {
   "cell_type": "code",
   "execution_count": 11,
   "metadata": {},
   "outputs": [
    {
     "data": {
      "text/plain": [
       "MLPClassifier(activation='tanh', hidden_layer_sizes=(8, 2), max_iter=20000)"
      ]
     },
     "execution_count": 11,
     "metadata": {},
     "output_type": "execute_result"
    }
   ],
   "source": [
    "from sklearn.neural_network import MLPClassifier\n",
    "\n",
    "Crash_Model = MLPClassifier(\n",
    "                                hidden_layer_sizes = (8,2),\n",
    "                                activation ='tanh',\n",
    "                                solver = 'adam',\n",
    "                                max_iter=20000\n",
    "                           )\n",
    "\n",
    "Crash_Model.fit(X_train,Y_train)"
   ]
  },
  {
   "cell_type": "markdown",
   "metadata": {},
   "source": [
    "### d) Test The Model"
   ]
  },
  {
   "cell_type": "code",
   "execution_count": 12,
   "metadata": {},
   "outputs": [],
   "source": [
    "from sklearn.metrics import classification_report,confusion_matrix,accuracy_score"
   ]
  },
  {
   "cell_type": "code",
   "execution_count": 13,
   "metadata": {},
   "outputs": [],
   "source": [
    "Crash_Pred = Crash_Model.predict(X_test)"
   ]
  },
  {
   "cell_type": "code",
   "execution_count": 14,
   "metadata": {},
   "outputs": [
    {
     "name": "stdout",
     "output_type": "stream",
     "text": [
      "Classification Report\n",
      " \n",
      "              precision    recall  f1-score   support\n",
      "\n",
      "           0       0.98      1.00      0.99       489\n",
      "           1       0.00      0.00      0.00        11\n",
      "\n",
      "    accuracy                           0.98       500\n",
      "   macro avg       0.49      0.50      0.49       500\n",
      "weighted avg       0.96      0.98      0.97       500\n",
      "\n",
      " Confusion Matrix\n",
      " \n",
      "[[489   0]\n",
      " [ 11   0]]\n",
      " \n",
      "0.978\n"
     ]
    }
   ],
   "source": [
    "print(\"Classification Report\")\n",
    "print(' ')\n",
    "print(classification_report(Y_test,Crash_Pred, zero_division = 0))\n",
    "print(\" Confusion Matrix\")\n",
    "print(' ')\n",
    "print(confusion_matrix(Y_test,Crash_Pred))\n",
    "print(' ')\n",
    "print(accuracy_score(Y_test,Crash_Pred))"
   ]
  },
  {
   "cell_type": "markdown",
   "metadata": {},
   "source": [
    "As we can see, due to the unbalanced dataset, the MLP cannot make accurate classifications in the test set."
   ]
  },
  {
   "cell_type": "markdown",
   "metadata": {},
   "source": [
    "### e) Evaluate The Model"
   ]
  },
  {
   "cell_type": "code",
   "execution_count": 15,
   "metadata": {},
   "outputs": [],
   "source": [
    "Crash_Eval = Crash_Model.predict(X_Val)"
   ]
  },
  {
   "cell_type": "code",
   "execution_count": 16,
   "metadata": {},
   "outputs": [
    {
     "name": "stdout",
     "output_type": "stream",
     "text": [
      "Classification Report\n",
      " \n",
      "              precision    recall  f1-score   support\n",
      "\n",
      "           0       0.96      1.00      0.98       360\n",
      "           1       0.00      0.00      0.00        15\n",
      "\n",
      "    accuracy                           0.96       375\n",
      "   macro avg       0.48      0.50      0.49       375\n",
      "weighted avg       0.92      0.96      0.94       375\n",
      "\n",
      "Confusion Matrix\n",
      " \n",
      "[[360   0]\n",
      " [ 15   0]]\n",
      " \n",
      "0.96\n"
     ]
    }
   ],
   "source": [
    "print(\"Classification Report\")\n",
    "print(' ')\n",
    "print(classification_report(Y_Val,Crash_Eval, zero_division = 0))\n",
    "print(\"Confusion Matrix\")\n",
    "print(' ')\n",
    "print(confusion_matrix(Y_Val,Crash_Eval))\n",
    "print(' ')\n",
    "print(accuracy_score(Y_Val,Crash_Eval))"
   ]
  },
  {
   "cell_type": "markdown",
   "metadata": {},
   "source": [
    "Despite the good accuracy, which is not the best metric, the confusion matrix shows an underlying problem regarding the model in data classification, especially in crash classifications. In addition, precison is failling since its value is obtained by mixing the two columns. Therefore, in an imbalanced dataset, it will not work properly."
   ]
  },
  {
   "cell_type": "markdown",
   "metadata": {},
   "source": [
    "# <font color='green'><b> 3) Expert 1 in Data Analysis </b></font>"
   ]
  },
  {
   "cell_type": "markdown",
   "metadata": {},
   "source": [
    "<b> 1 - </b> \"A quick look at the data shows that this is a very unbalanced problem, with very few positive instances. So, you should try to balance your training set before any attempt to learn from the data” (Note: DON’T balance the validation or test sets, only the training set).\""
   ]
  },
  {
   "cell_type": "markdown",
   "metadata": {},
   "source": [
    "<b> Idea: </b> Apply SMOOT strategy to overcome the unbalanced problem. In order to take innto account the sequentiality of the data we will use the parameter of k_neighbours of 5."
   ]
  },
  {
   "cell_type": "markdown",
   "metadata": {},
   "source": [
    "<b> Method of choice: SMOTE </b>  In order to determine which was the best method of balancing data, several tests were run. The chosen methods included SMOTE, SMOTEN, ADAYSN, BorderLine SMOTE and K-Means SMOTE. Each of them performed well and was efficient in balancing the dataset. Among them, the one that performed the best was the SMOTE method, having the highest accuracy score (0.99), f1-score(0-1.00, 1-0.75) and recall(0-1.00, 1-1.00) Therefore, using comparative analysis, it is possible to conclude that the method that performs the best is the SMOTE method, hence, the method that is applied to balance the given dataset"
   ]
  },
  {
   "cell_type": "markdown",
   "metadata": {},
   "source": [
    "<b> 2 - </b> “Some quick basic data analysis was performed and it was noticed that all crashes happened during a High processor load, even though this is not a sufficient condition for a crash to happen. However, it seems that the number of requests itself is not necessarily related to the crash. Therefore, what causes the crash must be related with an event that happened prior to it. This is definitely a system where order is important.” (Note: Maintain the order of data in the training, validation and data sets)"
   ]
  },
  {
   "cell_type": "markdown",
   "metadata": {},
   "source": [
    "<b> Idea: </b> Apply \"Shuffle = False\" when doing the train test split to mantain the data order."
   ]
  },
  {
   "cell_type": "markdown",
   "metadata": {},
   "source": [
    "<b> 3 - </b> “So, my advice would be to try to learn something using Processor_Load as one of the inputs, and use several previous instances of Number_of_Requests as additional inputs” (Example: try using the following features as the inputs for the NN: Processor_Loadt; Number_of_Requestst-1; Number_of_Requestst-2)"
   ]
  },
  {
   "cell_type": "markdown",
   "metadata": {},
   "source": [
    "<b> Idea: </b> Create a new dataframe with a concatenation of the old one \"df\" and 3 new columns, drop the old ones to train the new MLP. Using pandas shift function, the previous data (\"Number of Requests\") will be obtained"
   ]
  },
  {
   "cell_type": "markdown",
   "metadata": {},
   "source": [
    "<b> Our Point of View:</b> Analyzing all suggestions we see that the first and second one will be the last two to be implemented since it will only balance the training data but we first need to make data curation in all data before split it.\n",
    "\n",
    "The correct implement order is: 3, 2, 1"
   ]
  },
  {
   "cell_type": "markdown",
   "metadata": {},
   "source": [
    "## Implementation of the Expert 1 Suggestions."
   ]
  },
  {
   "cell_type": "markdown",
   "metadata": {},
   "source": [
    "#### Point 3"
   ]
  },
  {
   "cell_type": "code",
   "execution_count": 17,
   "metadata": {},
   "outputs": [],
   "source": [
    "df_expert1 = df.copy()"
   ]
  },
  {
   "cell_type": "markdown",
   "metadata": {},
   "source": [
    "Implement two delays of the Number of Request, as it is suggested by the expert 1."
   ]
  },
  {
   "cell_type": "code",
   "execution_count": 18,
   "metadata": {},
   "outputs": [],
   "source": [
    "df_expert1['Number_of_Requests_1'] = df_expert1['Requests'].shift(1)\n",
    "df_expert1['Number_of_Requests_2'] = df_expert1['Requests'].shift(2)\n",
    "\n",
    "df_expert1 = df_expert1.drop('Requests', axis = 1)"
   ]
  },
  {
   "cell_type": "code",
   "execution_count": 19,
   "metadata": {},
   "outputs": [
    {
     "data": {
      "text/html": [
       "<div>\n",
       "<style scoped>\n",
       "    .dataframe tbody tr th:only-of-type {\n",
       "        vertical-align: middle;\n",
       "    }\n",
       "\n",
       "    .dataframe tbody tr th {\n",
       "        vertical-align: top;\n",
       "    }\n",
       "\n",
       "    .dataframe thead th {\n",
       "        text-align: right;\n",
       "    }\n",
       "</style>\n",
       "<table border=\"1\" class=\"dataframe\">\n",
       "  <thead>\n",
       "    <tr style=\"text-align: right;\">\n",
       "      <th></th>\n",
       "      <th>Load</th>\n",
       "      <th>Falha</th>\n",
       "      <th>Number_of_Requests_1</th>\n",
       "      <th>Number_of_Requests_2</th>\n",
       "    </tr>\n",
       "  </thead>\n",
       "  <tbody>\n",
       "    <tr>\n",
       "      <th>0</th>\n",
       "      <td>0.12</td>\n",
       "      <td>0</td>\n",
       "      <td>NaN</td>\n",
       "      <td>NaN</td>\n",
       "    </tr>\n",
       "    <tr>\n",
       "      <th>1</th>\n",
       "      <td>0.43</td>\n",
       "      <td>0</td>\n",
       "      <td>0.32</td>\n",
       "      <td>NaN</td>\n",
       "    </tr>\n",
       "    <tr>\n",
       "      <th>2</th>\n",
       "      <td>0.19</td>\n",
       "      <td>0</td>\n",
       "      <td>0.06</td>\n",
       "      <td>0.32</td>\n",
       "    </tr>\n",
       "    <tr>\n",
       "      <th>3</th>\n",
       "      <td>0.08</td>\n",
       "      <td>0</td>\n",
       "      <td>0.06</td>\n",
       "      <td>0.06</td>\n",
       "    </tr>\n",
       "    <tr>\n",
       "      <th>4</th>\n",
       "      <td>0.19</td>\n",
       "      <td>0</td>\n",
       "      <td>0.02</td>\n",
       "      <td>0.06</td>\n",
       "    </tr>\n",
       "  </tbody>\n",
       "</table>\n",
       "</div>"
      ],
      "text/plain": [
       "   Load  Falha  Number_of_Requests_1  Number_of_Requests_2\n",
       "0  0.12      0                   NaN                   NaN\n",
       "1  0.43      0                  0.32                   NaN\n",
       "2  0.19      0                  0.06                  0.32\n",
       "3  0.08      0                  0.06                  0.06\n",
       "4  0.19      0                  0.02                  0.06"
      ]
     },
     "execution_count": 19,
     "metadata": {},
     "output_type": "execute_result"
    }
   ],
   "source": [
    "df_expert1.head()"
   ]
  },
  {
   "cell_type": "markdown",
   "metadata": {},
   "source": [
    "A close look upon the dataframe, we can see it is working as the expert meant to, so now it is only necessary to drop the NaN values to avoid mistakes in model training."
   ]
  },
  {
   "cell_type": "code",
   "execution_count": 20,
   "metadata": {},
   "outputs": [],
   "source": [
    "df_expert1 = df_expert1.dropna()"
   ]
  },
  {
   "cell_type": "markdown",
   "metadata": {},
   "source": [
    "Here ends the third tip given by the expert 1, let's continue."
   ]
  },
  {
   "cell_type": "markdown",
   "metadata": {},
   "source": [
    "#### Point 2"
   ]
  },
  {
   "cell_type": "markdown",
   "metadata": {},
   "source": [
    "Performing the train, test and validation split, it is necessary to ensure that the dataset is not shuffled, so as to mantain the order."
   ]
  },
  {
   "cell_type": "code",
   "execution_count": 21,
   "metadata": {},
   "outputs": [],
   "source": [
    "X1 = df_expert1.drop('Falha', axis = 1).values\n",
    "Y1 = df_expert1['Falha'].values\n",
    "\n",
    "X1_train, X1_test, Y1_train, Y1_test = train_test_split(X1,Y1,test_size=0.15, random_state = 1, shuffle = False)\n",
    "X1_train, X1_Val, Y1_train, Y1_Val = train_test_split(X1_train,Y1_train,test_size=0.15, random_state = 1, shuffle = False)"
   ]
  },
  {
   "cell_type": "markdown",
   "metadata": {},
   "source": [
    "#### Point 1"
   ]
  },
  {
   "cell_type": "markdown",
   "metadata": {},
   "source": [
    "Since the data is now split into Training, Validation and Test we are now able to balance the TRAINING set and only that set. As it was stated earlier, the used technique will be SMOTE. It will be used to generate synthetic data of the class represented below."
   ]
  },
  {
   "cell_type": "code",
   "execution_count": 22,
   "metadata": {},
   "outputs": [],
   "source": [
    "from imblearn.over_sampling import SMOTE\n",
    "\n",
    "X1_train_balanced, Y1_train_balanced = SMOTE().fit_resample(X1_train, Y1_train)"
   ]
  },
  {
   "cell_type": "code",
   "execution_count": 23,
   "metadata": {},
   "outputs": [],
   "source": [
    "Y1_train_balanced = pd.DataFrame(Y1_train_balanced, columns=['Falhas'])\n",
    "X1_train_balanced = pd.DataFrame(X1_train_balanced, columns=['Load','NR1', 'NR2'])\n",
    "df_plot = pd.concat([Y1_train_balanced, X1_train_balanced], axis = 1)\n",
    "Y1_train = pd.DataFrame(Y1_train, columns=['Falhas'])"
   ]
  },
  {
   "cell_type": "code",
   "execution_count": 24,
   "metadata": {},
   "outputs": [
    {
     "data": {
      "text/plain": [
       "0    1411\n",
       "1      31\n",
       "Name: Falhas, dtype: int64"
      ]
     },
     "execution_count": 24,
     "metadata": {},
     "output_type": "execute_result"
    }
   ],
   "source": [
    "Y1_train['Falhas'].value_counts()"
   ]
  },
  {
   "cell_type": "code",
   "execution_count": 25,
   "metadata": {},
   "outputs": [
    {
     "data": {
      "text/plain": [
       "1    1411\n",
       "0    1411\n",
       "Name: Falhas, dtype: int64"
      ]
     },
     "execution_count": 25,
     "metadata": {},
     "output_type": "execute_result"
    }
   ],
   "source": [
    "Y1_train_balanced['Falhas'].value_counts()"
   ]
  },
  {
   "cell_type": "code",
   "execution_count": 26,
   "metadata": {},
   "outputs": [
    {
     "data": {
      "text/plain": [
       "<seaborn.axisgrid.FacetGrid at 0x1e07e2cd4c0>"
      ]
     },
     "execution_count": 26,
     "metadata": {},
     "output_type": "execute_result"
    },
    {
     "data": {
      "image/png": "[encoded data removed]",
      "text/plain": [
       "<Figure size 427.625x360 with 1 Axes>"
      ]
     },
     "metadata": {
      "needs_background": "light"
     },
     "output_type": "display_data"
    }
   ],
   "source": [
    "sns.relplot(data=df_plot,x=\"NR2\", y=\"Load\", hue=\"Falhas\")"
   ]
  },
  {
   "cell_type": "markdown",
   "metadata": {},
   "source": [
    "As it can be seen, the data now has the same amount of faillures and normal classifications. However, in the load interval of 0.6 to 1, in the dataset, we could notice the presence of faillures. Now, with the balanced training set, it is possible to observe that those faillures are absent in this set, which means they are present in both the test and validation set. This will lead to a few misclassifications, since the data has never been seen by the model itself."
   ]
  },
  {
   "cell_type": "markdown",
   "metadata": {},
   "source": [
    "## Implementation Of The Model (MLP)"
   ]
  },
  {
   "cell_type": "markdown",
   "metadata": {},
   "source": [
    "First, we need to scale the data."
   ]
  },
  {
   "cell_type": "code",
   "execution_count": 27,
   "metadata": {},
   "outputs": [],
   "source": [
    "X1_train_balanced = scaler.fit_transform(X1_train_balanced)\n",
    "X1_test = scaler.transform(X1_test)\n",
    "X1_Val = scaler.transform(X1_Val)"
   ]
  },
  {
   "cell_type": "markdown",
   "metadata": {},
   "source": [
    "Second, we need to instanciate our model."
   ]
  },
  {
   "cell_type": "code",
   "execution_count": 28,
   "metadata": {},
   "outputs": [
    {
     "data": {
      "text/plain": [
       "MLPClassifier(hidden_layer_sizes=(8, 2), max_iter=2000, random_state=1)"
      ]
     },
     "execution_count": 28,
     "metadata": {},
     "output_type": "execute_result"
    }
   ],
   "source": [
    "Crash_Model_Expert1 = MLPClassifier(hidden_layer_sizes = (8,2), activation ='relu', solver = 'adam', max_iter=2000,\n",
    "                                    random_state = 1)\n",
    "Crash_Model_Expert1.fit(X1_train_balanced,np.ravel(Y1_train_balanced))"
   ]
  },
  {
   "cell_type": "markdown",
   "metadata": {},
   "source": [
    "Third, make predictions in order to adjust the model parameters."
   ]
  },
  {
   "cell_type": "code",
   "execution_count": 29,
   "metadata": {},
   "outputs": [
    {
     "name": "stdout",
     "output_type": "stream",
     "text": [
      "              precision    recall  f1-score   support\n",
      "\n",
      "           0       1.00      0.98      0.99       293\n",
      "           1       0.58      1.00      0.74         7\n",
      "\n",
      "    accuracy                           0.98       300\n",
      "   macro avg       0.79      0.99      0.86       300\n",
      "weighted avg       0.99      0.98      0.99       300\n",
      "\n",
      " \n",
      "[[288   5]\n",
      " [  0   7]]\n"
     ]
    }
   ],
   "source": [
    "Crash_Expert1_Pred = Crash_Model_Expert1.predict(X1_test)\n",
    "\n",
    "print(classification_report(Y1_test,Crash_Expert1_Pred))\n",
    "print(\" \")\n",
    "print(confusion_matrix(Y1_test,Crash_Expert1_Pred))"
   ]
  },
  {
   "cell_type": "markdown",
   "metadata": {},
   "source": [
    "Finally, we will validate our model."
   ]
  },
  {
   "cell_type": "code",
   "execution_count": 30,
   "metadata": {},
   "outputs": [
    {
     "name": "stdout",
     "output_type": "stream",
     "text": [
      "              precision    recall  f1-score   support\n",
      "\n",
      "           0       1.00      0.99      0.99       247\n",
      "           1       0.73      1.00      0.84         8\n",
      "\n",
      "    accuracy                           0.99       255\n",
      "   macro avg       0.86      0.99      0.92       255\n",
      "weighted avg       0.99      0.99      0.99       255\n",
      "\n",
      " \n",
      "[[244   3]\n",
      " [  0   8]]\n"
     ]
    }
   ],
   "source": [
    "Crash_Expert1_Val = Crash_Model_Expert1.predict(X1_Val)\n",
    "\n",
    "print(classification_report(Y1_Val,Crash_Expert1_Val))\n",
    "print(\" \")\n",
    "print(confusion_matrix(Y1_Val,Crash_Expert1_Val))"
   ]
  },
  {
   "cell_type": "markdown",
   "metadata": {},
   "source": [
    "As it is observable, Expert 1 tips made the model more accurate and unable crash! Although it still has some issues when classifying normal cases.\n",
    "One cause for this behaviour might be related to the sequenciality of data. When not performing shuffle, it can prevent the model from being trained with all possible behaviours."
   ]
  },
  {
   "cell_type": "markdown",
   "metadata": {},
   "source": [
    "# <font color='green'><b> 4) Expert 2 in Data Analysis </b></font>\n"
   ]
  },
  {
   "cell_type": "markdown",
   "metadata": {},
   "source": [
    "<b> 1 - </b> “The problem with these Gateways, is that they were not originally developed to perform heavy computations for long periods of time. However, using them exclusively to process simple routing requests is a waste of processing power. So it makes sense to take advantage of them in some other ways, and it’s natural to assign them for some edge processing tasks. \n",
    "\n",
    "That being said, when some jobs are carelessly assigned to the Gateway, the system can overload which may result in subsequent crashes. Usually, this is caused by jobs that hog some of the system’s resources for too long. When that happens, the Gateway often starts refusing regular requests for no apparent reason. Such requests are usually repeated until they are accepted. After a while, the processor starts overworking, heat builds up, and the system crashes. \n",
    "\n",
    "In order to detect when this is about to happen, we looked for an abnormal amount of requests in the period before the processor load gets noticeably high.”"
   ]
  },
  {
   "cell_type": "markdown",
   "metadata": {},
   "source": [
    "<b> Idea: </b> Make the mean of the 1h20 request of a consequent load. And drop the other features and train the model."
   ]
  },
  {
   "cell_type": "markdown",
   "metadata": {},
   "source": [
    "#### Point 1"
   ]
  },
  {
   "cell_type": "code",
   "execution_count": 31,
   "metadata": {},
   "outputs": [],
   "source": [
    "df_expert1.head()\n",
    "df_expert2 = df_expert1.copy()"
   ]
  },
  {
   "cell_type": "markdown",
   "metadata": {},
   "source": [
    "Let's insert the previous requests in the dataframe."
   ]
  },
  {
   "cell_type": "code",
   "execution_count": 32,
   "metadata": {},
   "outputs": [],
   "source": [
    "df_expert2['Number_of_Requests_3'] = df['Requests'].shift(3)\n",
    "df_expert2['Number_of_Requests_4'] = df['Requests'].shift(4)\n",
    "\n",
    "df_expert2 = df_expert2.dropna()"
   ]
  },
  {
   "cell_type": "markdown",
   "metadata": {},
   "source": [
    "Now let's compute the new feature, which computes the mean of the previous four requests for a given load processor."
   ]
  },
  {
   "cell_type": "code",
   "execution_count": 33,
   "metadata": {},
   "outputs": [],
   "source": [
    "df_expert2['Sum_Previous_Requests'] = (df_expert2['Number_of_Requests_1'] + df_expert2['Number_of_Requests_2'] + df_expert2['Number_of_Requests_3'] + df_expert2['Number_of_Requests_4'])/4"
   ]
  },
  {
   "cell_type": "markdown",
   "metadata": {},
   "source": [
    "Let's now search for when a Failure occurs, to see the mean of the previous requests."
   ]
  },
  {
   "cell_type": "code",
   "execution_count": 34,
   "metadata": {},
   "outputs": [
    {
     "data": {
      "text/plain": [
       "0.5672826086956522"
      ]
     },
     "execution_count": 34,
     "metadata": {},
     "output_type": "execute_result"
    }
   ],
   "source": [
    "df_expert2[df_expert2['Falha']==1]['Sum_Previous_Requests'].mean()"
   ]
  },
  {
   "cell_type": "markdown",
   "metadata": {},
   "source": [
    "Finally, it is time to analyze what happens in normal conditions regarding the mean of previous requests."
   ]
  },
  {
   "cell_type": "code",
   "execution_count": 35,
   "metadata": {},
   "outputs": [
    {
     "data": {
      "text/plain": [
       "0.15254617752693736"
      ]
     },
     "execution_count": 35,
     "metadata": {},
     "output_type": "execute_result"
    }
   ],
   "source": [
    "df_expert2[df_expert2['Falha']==0]['Sum_Previous_Requests'].mean()"
   ]
  },
  {
   "cell_type": "code",
   "execution_count": 36,
   "metadata": {},
   "outputs": [],
   "source": [
    "df_expert2 = df_expert2.drop([\n",
    "                               'Number_of_Requests_1',\n",
    "                               'Number_of_Requests_2',\n",
    "                               'Number_of_Requests_3',\n",
    "                               'Number_of_Requests_4'],\n",
    "                                axis = 1\n",
    "                             )"
   ]
  },
  {
   "cell_type": "markdown",
   "metadata": {},
   "source": [
    "## Implementation Of The Model (MLP)"
   ]
  },
  {
   "cell_type": "code",
   "execution_count": 37,
   "metadata": {},
   "outputs": [],
   "source": [
    "X2 = df_expert2.drop('Falha', axis = 1)\n",
    "Y2 = df_expert2['Falha']"
   ]
  },
  {
   "cell_type": "markdown",
   "metadata": {},
   "source": [
    "First, train, test and validation split (taking the order in consideration)."
   ]
  },
  {
   "cell_type": "code",
   "execution_count": 38,
   "metadata": {},
   "outputs": [],
   "source": [
    "X2_train, X2_test, Y2_train, Y2_test = train_test_split(X2,Y2,test_size=0.15, random_state = 1, shuffle = False)\n",
    "X2_train, X2_Val, Y2_train, Y2_Val = train_test_split(X2_train,Y2_train,test_size=0.15, random_state = 1, shuffle = False)"
   ]
  },
  {
   "cell_type": "markdown",
   "metadata": {},
   "source": [
    "Second, balance the training data."
   ]
  },
  {
   "cell_type": "code",
   "execution_count": 39,
   "metadata": {},
   "outputs": [],
   "source": [
    "X2_train_balanced, Y2_train_balanced = SMOTE().fit_resample(X2_train, Y2_train)"
   ]
  },
  {
   "cell_type": "markdown",
   "metadata": {},
   "source": [
    "Third, scaling the data."
   ]
  },
  {
   "cell_type": "code",
   "execution_count": 40,
   "metadata": {},
   "outputs": [],
   "source": [
    "X2_train_balanced = scaler.fit_transform(X2_train_balanced)\n",
    "X2_test = scaler.transform(X2_test)\n",
    "X2_Val = scaler.transform(X2_Val)"
   ]
  },
  {
   "cell_type": "markdown",
   "metadata": {},
   "source": [
    "Finally, the model can be implemented."
   ]
  },
  {
   "cell_type": "code",
   "execution_count": 41,
   "metadata": {},
   "outputs": [
    {
     "data": {
      "text/plain": [
       "MLPClassifier(hidden_layer_sizes=(8, 2), max_iter=20000, random_state=1)"
      ]
     },
     "execution_count": 41,
     "metadata": {},
     "output_type": "execute_result"
    }
   ],
   "source": [
    "Crash_Model_Expert2 = MLPClassifier(\n",
    "                                        hidden_layer_sizes = (8,2),\n",
    "                                        activation ='relu',\n",
    "                                        solver = 'adam',\n",
    "                                        max_iter=20000,\n",
    "                                        random_state = 1\n",
    "                                        \n",
    "                                    )\n",
    "\n",
    "Crash_Model_Expert2.fit(X2_train_balanced,np.ravel(Y2_train_balanced))"
   ]
  },
  {
   "cell_type": "markdown",
   "metadata": {},
   "source": [
    "Now, it is possible to make predictions, so as to further adjust the model parameters."
   ]
  },
  {
   "cell_type": "code",
   "execution_count": 42,
   "metadata": {},
   "outputs": [],
   "source": [
    "Crash_Expert2_Pred = Crash_Model_Expert2.predict(X2_test)"
   ]
  },
  {
   "cell_type": "code",
   "execution_count": 43,
   "metadata": {},
   "outputs": [
    {
     "name": "stdout",
     "output_type": "stream",
     "text": [
      "              precision    recall  f1-score   support\n",
      "\n",
      "           0       1.00      0.99      0.99       293\n",
      "           1       0.64      1.00      0.78         7\n",
      "\n",
      "    accuracy                           0.99       300\n",
      "   macro avg       0.82      0.99      0.89       300\n",
      "weighted avg       0.99      0.99      0.99       300\n",
      "\n",
      " \n",
      "[[289   4]\n",
      " [  0   7]]\n"
     ]
    }
   ],
   "source": [
    "print(classification_report(Y2_test,Crash_Expert2_Pred))\n",
    "print(\" \")\n",
    "print(confusion_matrix(Y2_test,Crash_Expert2_Pred))"
   ]
  },
  {
   "cell_type": "markdown",
   "metadata": {},
   "source": [
    "Finally, the model is ready to be validated."
   ]
  },
  {
   "cell_type": "code",
   "execution_count": 44,
   "metadata": {},
   "outputs": [],
   "source": [
    "Crash_Expert2_Val = Crash_Model_Expert2.predict(X2_Val)"
   ]
  },
  {
   "cell_type": "code",
   "execution_count": 45,
   "metadata": {},
   "outputs": [
    {
     "name": "stdout",
     "output_type": "stream",
     "text": [
      "              precision    recall  f1-score   support\n",
      "\n",
      "           0       1.00      1.00      1.00       247\n",
      "           1       0.89      1.00      0.94         8\n",
      "\n",
      "    accuracy                           1.00       255\n",
      "   macro avg       0.94      1.00      0.97       255\n",
      "weighted avg       1.00      1.00      1.00       255\n",
      "\n",
      " \n",
      "[[246   1]\n",
      " [  0   8]]\n"
     ]
    }
   ],
   "source": [
    "print(classification_report(Y2_Val,Crash_Expert2_Val))\n",
    "print(\" \")\n",
    "print(confusion_matrix(Y2_Val,Crash_Expert2_Val))"
   ]
  },
  {
   "cell_type": "markdown",
   "metadata": {},
   "source": [
    "Upon validating our model we see with the complement of the expert 2 it is working better. It considerably reduced the misclassifications."
   ]
  },
  {
   "cell_type": "markdown",
   "metadata": {},
   "source": [
    "## <font color='Blue'><b> Evaluation with the provided DataSet </b></font>"
   ]
  },
  {
   "cell_type": "code",
   "execution_count": 46,
   "metadata": {},
   "outputs": [
    {
     "name": "stdout",
     "output_type": "stream",
     "text": [
      "              precision    recall  f1-score   support\n",
      "\n",
      "           0       0.99      0.93      0.96       192\n",
      "           1       0.32      0.75      0.44         8\n",
      "\n",
      "    accuracy                           0.93       200\n",
      "   macro avg       0.65      0.84      0.70       200\n",
      "weighted avg       0.96      0.93      0.94       200\n",
      "\n",
      " \n",
      "[[179  13]\n",
      " [  2   6]]\n"
     ]
    }
   ],
   "source": [
    "X_final = eval_df.drop('Falha', axis = 1)\n",
    "Y_final = eval_df['Falha']\n",
    "\n",
    "X_final = scaler.transform(X_final)\n",
    "Final_Predictions = Crash_Model_Expert2.predict(X_final)\n",
    "\n",
    "print(classification_report(Y_final,Final_Predictions))\n",
    "print(\" \")\n",
    "print(confusion_matrix(Y_final,Final_Predictions))"
   ]
  },
  {
   "cell_type": "markdown",
   "metadata": {},
   "source": [
    "## <font color='Blue'><b> ----------------------------------------------------------------------- </b></font>"
   ]
  },
  {
   "cell_type": "markdown",
   "metadata": {},
   "source": [
    "# <font color='green'><b> 5) Fuzzy Rule Based Expert System </b></font>\n"
   ]
  },
  {
   "cell_type": "code",
   "execution_count": 47,
   "metadata": {},
   "outputs": [],
   "source": [
    "import skfuzzy as fuzz\n",
    "from skfuzzy import control as ctrl"
   ]
  },
  {
   "cell_type": "markdown",
   "metadata": {},
   "source": [
    "Upon analyising the final dataframe, it is noticeable that it only contains 2 input features (\"Processor load\" and \"Sum of requests\") and one output (\"Falhas). Currently, in terms of fuzzy language, there are 2 Antecedents and 1 Consequent. Firstly, the antecedents and consequents will be computed."
   ]
  },
  {
   "cell_type": "code",
   "execution_count": 48,
   "metadata": {},
   "outputs": [],
   "source": [
    "# New Antecedent/Consequent\n",
    "Proc_Load = ctrl.Antecedent(np.arange(0, 0.98, 0.01), 'Proc_Load')\n",
    "Sum_Requests = ctrl.Antecedent(np.arange(0, 0.7, 0.001), 'Sum_Requests')\n",
    "Falhas = ctrl.Consequent(np.arange(-0.1, 1.1, 0.00001), 'Falhas')\n",
    "\n",
    "# Membership Functions\n",
    "Falhas['Normal'] = fuzz.trimf(Falhas.universe, [-0.00001, 0, 0.00001])\n",
    "Falhas['Fail'] = fuzz.trimf(Falhas.universe, [0.99999, 1, 1])\n",
    "\n",
    "Proc_Load['Slow'] = fuzz.trimf(Proc_Load.universe, [0, 0, 0.5])\n",
    "Proc_Load['Medium'] = fuzz.trimf(Proc_Load.universe, [0.4, 0.5, 0.6])\n",
    "Proc_Load['Fast'] = fuzz.trimf(Proc_Load.universe, [0.5, 0.98, 0.98])\n",
    "\n",
    "Sum_Requests['Low'] = fuzz.trimf(Sum_Requests.universe, [0, 0, 0.3])\n",
    "Sum_Requests['Medium'] = fuzz.trimf(Sum_Requests.universe, [0.25, 0.35, 0.45])\n",
    "Sum_Requests['Higher'] = fuzz.trimf(Sum_Requests.universe, [0.4, 0.7, 0.7])"
   ]
  },
  {
   "cell_type": "code",
   "execution_count": 49,
   "metadata": {},
   "outputs": [
    {
     "data": {
      "image/png": "[encoded data removed]",
      "text/plain": [
       "<Figure size 432x288 with 1 Axes>"
      ]
     },
     "metadata": {
      "needs_background": "light"
     },
     "output_type": "display_data"
    }
   ],
   "source": [
    "Proc_Load.view()"
   ]
  },
  {
   "cell_type": "code",
   "execution_count": 50,
   "metadata": {},
   "outputs": [
    {
     "data": {
      "image/png": "[encoded data removed]",
      "text/plain": [
       "<Figure size 432x288 with 1 Axes>"
      ]
     },
     "metadata": {
      "needs_background": "light"
     },
     "output_type": "display_data"
    }
   ],
   "source": [
    "Sum_Requests.view()"
   ]
  },
  {
   "cell_type": "code",
   "execution_count": 51,
   "metadata": {},
   "outputs": [
    {
     "data": {
      "image/png": "[encoded data removed]",
      "text/plain": [
       "<Figure size 432x288 with 1 Axes>"
      ]
     },
     "metadata": {
      "needs_background": "light"
     },
     "output_type": "display_data"
    }
   ],
   "source": [
    "Falhas.view()"
   ]
  },
  {
   "cell_type": "markdown",
   "metadata": {},
   "source": [
    "After a detailed data analysis, it is perceivable that when both the processor load is above 0.5 and the sum of requests is superior to 2, a faillure takes place. Taking that into consideration, a table was built according to what was reasonable for this problem. Futher, this table helped us to form the following rules:"
   ]
  },
  {
   "cell_type": "markdown",
   "metadata": {},
   "source": [
    "1) If Processor Load is <b> Slow </b> and Request Sum is <b>Low</b>, then Falha is <b>Normal</b>.\n",
    "\n",
    "2) If Processor Load is <b> Slow </b> and Request Sum is <b>Medium</b>, then Falha is <b>Normal</b>.\n",
    "\n",
    "3) If Processor Load is <b> Slow </b> and Request Sum is <b>Higher</b>, then Falha is <b>Normal</b>.\n",
    "\n",
    "4) If Processor Load is <b> Medium </b> and Request Sum is <b>Low</b>, then Falha is <b>Normal</b>.\n",
    "\n",
    "5) If Processor Load is <b> Medium </b> and Request Sum is <b>Medium</b>, then Falha is <b>Normal</b>.\n",
    "\n",
    "6) If Processor Load is <b> Medium </b> and Request Sum is <b>Higher</b>, then Falha is <b>Normal</b>.\n",
    "\n",
    "7) If Processor Load is <b> Fast </b> and Request Sum is <b>Low</b>, then Falha is <b>Normal</b>.\n",
    "\n",
    "8) If Processor Load is <b> Fast </b> and Request Sum is <b>Medium</b>, then Falha is <b>Normal</b>.\n",
    "\n",
    "9) If Processor Load is <b> Fast </b> and Request Sum is <b>Higher</b>, then Falha is <b>Fail</b>."
   ]
  },
  {
   "cell_type": "code",
   "execution_count": 52,
   "metadata": {},
   "outputs": [],
   "source": [
    "rule1 = ctrl.Rule(Proc_Load['Slow'] & Sum_Requests['Low'], Falhas['Normal'])\n",
    "rule2 = ctrl.Rule(Proc_Load['Slow'] & Sum_Requests['Medium'], Falhas['Normal'])\n",
    "rule3 = ctrl.Rule(Proc_Load['Slow'] & Sum_Requests['Higher'], Falhas['Normal'])\n",
    "rule4 = ctrl.Rule(Proc_Load['Medium'] & Sum_Requests['Low'], Falhas['Normal'])\n",
    "rule5 = ctrl.Rule(Proc_Load['Medium'] & Sum_Requests['Medium'], Falhas['Normal'])\n",
    "rule6 = ctrl.Rule(Proc_Load['Medium'] & Sum_Requests['Higher'], Falhas['Normal'])\n",
    "rule7 = ctrl.Rule(Proc_Load['Fast'] & Sum_Requests['Low'], Falhas['Normal'])\n",
    "rule8 = ctrl.Rule(Proc_Load['Fast'] & Sum_Requests['Medium'], Falhas['Normal'])\n",
    "rule9 = ctrl.Rule(Proc_Load['Fast'] & Sum_Requests['Higher'], Falhas['Fail'])"
   ]
  },
  {
   "cell_type": "markdown",
   "metadata": {},
   "source": [
    "Now, it is necessary to proceed to the aggregation of the rules."
   ]
  },
  {
   "cell_type": "code",
   "execution_count": 53,
   "metadata": {},
   "outputs": [],
   "source": [
    "tipping_ctrl = ctrl.ControlSystem([rule1, rule2, rule3, rule4, rule5, rule6, rule7, rule8, rule9])\n",
    "Fuzzy_System = ctrl.ControlSystemSimulation(tipping_ctrl)"
   ]
  },
  {
   "cell_type": "markdown",
   "metadata": {},
   "source": [
    "Here we can see some testing values."
   ]
  },
  {
   "cell_type": "code",
   "execution_count": 54,
   "metadata": {},
   "outputs": [],
   "source": [
    "Fuzzy_System.input['Proc_Load'] = 0.07\n",
    "Fuzzy_System.input['Sum_Requests'] = 0.0575\n",
    "\n",
    "# Crunch the numbers\n",
    "Fuzzy_System.compute()"
   ]
  },
  {
   "cell_type": "code",
   "execution_count": 55,
   "metadata": {},
   "outputs": [
    {
     "data": {
      "image/png": "[encoded data removed]",
      "text/plain": [
       "<Figure size 432x288 with 1 Axes>"
      ]
     },
     "metadata": {
      "needs_background": "light"
     },
     "output_type": "display_data"
    }
   ],
   "source": [
    "Falhas.view(sim=Fuzzy_System)"
   ]
  },
  {
   "cell_type": "markdown",
   "metadata": {},
   "source": [
    "# <font color='green'><b> Extra) Fuzzy Rule Based Expert System Evaluation </b></font>"
   ]
  },
  {
   "cell_type": "markdown",
   "metadata": {},
   "source": [
    "### <font color='red'><b> Warning: Since we have 2 inputs with around 3200 rows joining this with the fact we are evaluting a fuzzy system the code is time consuming, so only run this in case of realy necessity. That is why we implemented this feature in another jupiter notebook file. </b></font>"
   ]
  },
  {
   "cell_type": "markdown",
   "metadata": {},
   "source": [
    "Go the the notebook called <b>\"Fuzzy_System_Evaluation\"</b> to evaluate this method."
   ]
  },
  {
   "cell_type": "markdown",
   "metadata": {},
   "source": [
    "# <font color='green'><b> 6) Conclusions </b></font>"
   ]
  },
  {
   "cell_type": "markdown",
   "metadata": {},
   "source": [
    "Upon completing the assignment at hand, several conclusions were reached.\n",
    "\n",
    "First of all, it is clear that using raw data in a neural network model is not a good idea since the model will crash, not providing the correct predictions. It is also worth mentioning that the model which crashed with raw data has a good accuracy, so, it is obvious that accuracy itself, without any further measurements, is not a good evaluation parameter. Furthermore, when predicting crashes earlier on, the model got a f-1 score of 0 when predicting crashes. It also got the same score (0), in both precision and recall, which means it is unable to predict crashes using the trainning set at hand. The macro average is also quite low, being about 0.5, which further confirms the lack of quality associated with this type of model.\n",
    "\n",
    "When dealing with time series problems, it is important to pay atention, since the previous measurements are of relative importance to the future ones. So, it is of great importance to keep the data with its original sequential order, and that is one aspect to have in mind when spliting any given data. Balancing the minority class also needs to be done taking into account that it is not meant to repeat a line that has faillures, however, it is desirable to reproduce the antecedent behaviour and consequent faillure, since they are related.\n",
    "\n",
    "The suggestion provided by the first Expert improves the model substantially. The data was unbalanced at first but, upon applying the SMOTE method, the problem was greatly improved. The model, which was a result of the application of the suggestions provided by Expert 1, performed very well, having a very high accuracy score, f-1 score, and recall. All implemented suggestions made the model more accurate and no longer able to crash, though it still has some problems when classifying data as \"Normal\". One possible cause that was earlier dicussed might be the data order. Since the shuffle method is not performed, the model is maybe being prevented from being trained using all possible combinations of data, leading to a few misclassifications.\n",
    "\n",
    "The Expert 2 made the model training available with less features, by compiling the already existent ones into a sole feature. In doing that, it was possible to identify a specific pattern in the data. For instance, when the normalized request mean was above 2 and the processor load was above 0.5, there was a detection of faillure. This pattern became the origin of the idea to apply a Fuzzy Based Rule System.\n",
    "\n",
    "When applying the Fuzzy System, we realized that we were facing a Sugeno Fuzzy Inference Systems where the consequents are Fuzzy Sets and the antecedents are Crisp sets.\n",
    "\n",
    "Comparing the Neural Network approach with the Fuzzy one:\n",
    "\n",
    "1) The Neural network approach failed in classifying about one or two elements.\n",
    "    \n",
    "2) The Fuzzy Systems approach, when the processor load is between 0.5 and 0.6 and the Sum of requests surpasses 2, may not succeed in detecting a faillure, which may not necessarily translate in bad behaviour regarding the model, because faillure detection is associated with sensitivity\n",
    "\n",
    "3) About the evaluation method implemented to the fuzzy system it shows some errors in classification due to the \"gray area\" where for example the Medium and Higher sobrepose each other. Possible with an exaustive try error or adjust of the rules a better result could be achieved.\n",
    "\n",
    "4) An future idea that could be implemented to obtain the ideal membership functions for our dataset is to use a Neural-Fuzzy Network such as Adaptive Neural Inference System, the so called ANFIS. This neural network would pick our training data and train our fuzzy system returning the best approach for the membership functions."
   ]
  },
  {
   "cell_type": "code",
   "execution_count": null,
   "metadata": {},
   "outputs": [],
   "source": []
  }
 ],
 "metadata": {
  "kernelspec": {
   "display_name": "Python 3",
   "language": "python",
   "name": "python3"
  },
  "language_info": {
   "codemirror_mode": {
    "name": "ipython",
    "version": 3
   },
   "file_extension": ".py",
   "mimetype": "text/x-python",
   "name": "python",
   "nbconvert_exporter": "python",
   "pygments_lexer": "ipython3",
   "version": "3.8.3"
  }
 },
 "nbformat": 4,
 "nbformat_minor": 4
}
