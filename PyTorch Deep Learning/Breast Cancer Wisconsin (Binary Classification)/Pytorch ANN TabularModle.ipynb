{
 "cells": [
  {
   "cell_type": "code",
   "execution_count": 1,
   "metadata": {},
   "outputs": [],
   "source": [
    "import torch\n",
    "import torch.nn as nn\n",
    "\n",
    "import numpy as np\n",
    "import pandas as pd\n",
    "import matplotlib.pyplot as plt\n",
    "from sklearn.utils import shuffle\n",
    "%matplotlib inline\n",
    "\n",
    "df = pd.read_csv('data.csv')"
   ]
  },
  {
   "cell_type": "markdown",
   "metadata": {},
   "source": [
    "# Feature Engeneering"
   ]
  },
  {
   "cell_type": "code",
   "execution_count": 2,
   "metadata": {},
   "outputs": [],
   "source": [
    "df = df.drop('Unnamed: 32', axis=1)"
   ]
  },
  {
   "cell_type": "code",
   "execution_count": 3,
   "metadata": {},
   "outputs": [],
   "source": [
    "df = df.drop('id', axis = 1)"
   ]
  },
  {
   "cell_type": "code",
   "execution_count": 4,
   "metadata": {},
   "outputs": [],
   "source": [
    "df['diagnosis'] = df['diagnosis'].replace(['M', 'B'], [1,0])"
   ]
  },
  {
   "cell_type": "code",
   "execution_count": 5,
   "metadata": {},
   "outputs": [],
   "source": [
    "df['BigOrSmall'] = np.where(df['area_mean']>555, 'Big', 'Small')"
   ]
  },
  {
   "cell_type": "code",
   "execution_count": 6,
   "metadata": {},
   "outputs": [
    {
     "data": {
      "text/html": [
       "<div>\n",
       "<style scoped>\n",
       "    .dataframe tbody tr th:only-of-type {\n",
       "        vertical-align: middle;\n",
       "    }\n",
       "\n",
       "    .dataframe tbody tr th {\n",
       "        vertical-align: top;\n",
       "    }\n",
       "\n",
       "    .dataframe thead th {\n",
       "        text-align: right;\n",
       "    }\n",
       "</style>\n",
       "<table border=\"1\" class=\"dataframe\">\n",
       "  <thead>\n",
       "    <tr style=\"text-align: right;\">\n",
       "      <th></th>\n",
       "      <th>diagnosis</th>\n",
       "      <th>radius_mean</th>\n",
       "      <th>texture_mean</th>\n",
       "      <th>perimeter_mean</th>\n",
       "      <th>area_mean</th>\n",
       "      <th>smoothness_mean</th>\n",
       "      <th>compactness_mean</th>\n",
       "      <th>concavity_mean</th>\n",
       "      <th>concave points_mean</th>\n",
       "      <th>symmetry_mean</th>\n",
       "      <th>...</th>\n",
       "      <th>texture_worst</th>\n",
       "      <th>perimeter_worst</th>\n",
       "      <th>area_worst</th>\n",
       "      <th>smoothness_worst</th>\n",
       "      <th>compactness_worst</th>\n",
       "      <th>concavity_worst</th>\n",
       "      <th>concave points_worst</th>\n",
       "      <th>symmetry_worst</th>\n",
       "      <th>fractal_dimension_worst</th>\n",
       "      <th>BigOrSmall</th>\n",
       "    </tr>\n",
       "  </thead>\n",
       "  <tbody>\n",
       "    <tr>\n",
       "      <th>0</th>\n",
       "      <td>1</td>\n",
       "      <td>17.99</td>\n",
       "      <td>10.38</td>\n",
       "      <td>122.80</td>\n",
       "      <td>1001.0</td>\n",
       "      <td>0.11840</td>\n",
       "      <td>0.27760</td>\n",
       "      <td>0.3001</td>\n",
       "      <td>0.14710</td>\n",
       "      <td>0.2419</td>\n",
       "      <td>...</td>\n",
       "      <td>17.33</td>\n",
       "      <td>184.60</td>\n",
       "      <td>2019.0</td>\n",
       "      <td>0.1622</td>\n",
       "      <td>0.6656</td>\n",
       "      <td>0.7119</td>\n",
       "      <td>0.2654</td>\n",
       "      <td>0.4601</td>\n",
       "      <td>0.11890</td>\n",
       "      <td>Big</td>\n",
       "    </tr>\n",
       "    <tr>\n",
       "      <th>1</th>\n",
       "      <td>1</td>\n",
       "      <td>20.57</td>\n",
       "      <td>17.77</td>\n",
       "      <td>132.90</td>\n",
       "      <td>1326.0</td>\n",
       "      <td>0.08474</td>\n",
       "      <td>0.07864</td>\n",
       "      <td>0.0869</td>\n",
       "      <td>0.07017</td>\n",
       "      <td>0.1812</td>\n",
       "      <td>...</td>\n",
       "      <td>23.41</td>\n",
       "      <td>158.80</td>\n",
       "      <td>1956.0</td>\n",
       "      <td>0.1238</td>\n",
       "      <td>0.1866</td>\n",
       "      <td>0.2416</td>\n",
       "      <td>0.1860</td>\n",
       "      <td>0.2750</td>\n",
       "      <td>0.08902</td>\n",
       "      <td>Big</td>\n",
       "    </tr>\n",
       "    <tr>\n",
       "      <th>2</th>\n",
       "      <td>1</td>\n",
       "      <td>19.69</td>\n",
       "      <td>21.25</td>\n",
       "      <td>130.00</td>\n",
       "      <td>1203.0</td>\n",
       "      <td>0.10960</td>\n",
       "      <td>0.15990</td>\n",
       "      <td>0.1974</td>\n",
       "      <td>0.12790</td>\n",
       "      <td>0.2069</td>\n",
       "      <td>...</td>\n",
       "      <td>25.53</td>\n",
       "      <td>152.50</td>\n",
       "      <td>1709.0</td>\n",
       "      <td>0.1444</td>\n",
       "      <td>0.4245</td>\n",
       "      <td>0.4504</td>\n",
       "      <td>0.2430</td>\n",
       "      <td>0.3613</td>\n",
       "      <td>0.08758</td>\n",
       "      <td>Big</td>\n",
       "    </tr>\n",
       "    <tr>\n",
       "      <th>3</th>\n",
       "      <td>1</td>\n",
       "      <td>11.42</td>\n",
       "      <td>20.38</td>\n",
       "      <td>77.58</td>\n",
       "      <td>386.1</td>\n",
       "      <td>0.14250</td>\n",
       "      <td>0.28390</td>\n",
       "      <td>0.2414</td>\n",
       "      <td>0.10520</td>\n",
       "      <td>0.2597</td>\n",
       "      <td>...</td>\n",
       "      <td>26.50</td>\n",
       "      <td>98.87</td>\n",
       "      <td>567.7</td>\n",
       "      <td>0.2098</td>\n",
       "      <td>0.8663</td>\n",
       "      <td>0.6869</td>\n",
       "      <td>0.2575</td>\n",
       "      <td>0.6638</td>\n",
       "      <td>0.17300</td>\n",
       "      <td>Small</td>\n",
       "    </tr>\n",
       "    <tr>\n",
       "      <th>4</th>\n",
       "      <td>1</td>\n",
       "      <td>20.29</td>\n",
       "      <td>14.34</td>\n",
       "      <td>135.10</td>\n",
       "      <td>1297.0</td>\n",
       "      <td>0.10030</td>\n",
       "      <td>0.13280</td>\n",
       "      <td>0.1980</td>\n",
       "      <td>0.10430</td>\n",
       "      <td>0.1809</td>\n",
       "      <td>...</td>\n",
       "      <td>16.67</td>\n",
       "      <td>152.20</td>\n",
       "      <td>1575.0</td>\n",
       "      <td>0.1374</td>\n",
       "      <td>0.2050</td>\n",
       "      <td>0.4000</td>\n",
       "      <td>0.1625</td>\n",
       "      <td>0.2364</td>\n",
       "      <td>0.07678</td>\n",
       "      <td>Big</td>\n",
       "    </tr>\n",
       "  </tbody>\n",
       "</table>\n",
       "<p>5 rows × 32 columns</p>\n",
       "</div>"
      ],
      "text/plain": [
       "   diagnosis  radius_mean  texture_mean  perimeter_mean  area_mean  \\\n",
       "0          1        17.99         10.38          122.80     1001.0   \n",
       "1          1        20.57         17.77          132.90     1326.0   \n",
       "2          1        19.69         21.25          130.00     1203.0   \n",
       "3          1        11.42         20.38           77.58      386.1   \n",
       "4          1        20.29         14.34          135.10     1297.0   \n",
       "\n",
       "   smoothness_mean  compactness_mean  concavity_mean  concave points_mean  \\\n",
       "0          0.11840           0.27760          0.3001              0.14710   \n",
       "1          0.08474           0.07864          0.0869              0.07017   \n",
       "2          0.10960           0.15990          0.1974              0.12790   \n",
       "3          0.14250           0.28390          0.2414              0.10520   \n",
       "4          0.10030           0.13280          0.1980              0.10430   \n",
       "\n",
       "   symmetry_mean  ...  texture_worst  perimeter_worst  area_worst  \\\n",
       "0         0.2419  ...          17.33           184.60      2019.0   \n",
       "1         0.1812  ...          23.41           158.80      1956.0   \n",
       "2         0.2069  ...          25.53           152.50      1709.0   \n",
       "3         0.2597  ...          26.50            98.87       567.7   \n",
       "4         0.1809  ...          16.67           152.20      1575.0   \n",
       "\n",
       "   smoothness_worst  compactness_worst  concavity_worst  concave points_worst  \\\n",
       "0            0.1622             0.6656           0.7119                0.2654   \n",
       "1            0.1238             0.1866           0.2416                0.1860   \n",
       "2            0.1444             0.4245           0.4504                0.2430   \n",
       "3            0.2098             0.8663           0.6869                0.2575   \n",
       "4            0.1374             0.2050           0.4000                0.1625   \n",
       "\n",
       "   symmetry_worst  fractal_dimension_worst  BigOrSmall  \n",
       "0          0.4601                  0.11890         Big  \n",
       "1          0.2750                  0.08902         Big  \n",
       "2          0.3613                  0.08758         Big  \n",
       "3          0.6638                  0.17300       Small  \n",
       "4          0.2364                  0.07678         Big  \n",
       "\n",
       "[5 rows x 32 columns]"
      ]
     },
     "execution_count": 6,
     "metadata": {},
     "output_type": "execute_result"
    }
   ],
   "source": [
    "df.head()"
   ]
  },
  {
   "cell_type": "code",
   "execution_count": 7,
   "metadata": {},
   "outputs": [
    {
     "data": {
      "text/plain": [
       "Index(['diagnosis', 'radius_mean', 'texture_mean', 'perimeter_mean',\n",
       "       'area_mean', 'smoothness_mean', 'compactness_mean', 'concavity_mean',\n",
       "       'concave points_mean', 'symmetry_mean', 'fractal_dimension_mean',\n",
       "       'radius_se', 'texture_se', 'perimeter_se', 'area_se', 'smoothness_se',\n",
       "       'compactness_se', 'concavity_se', 'concave points_se', 'symmetry_se',\n",
       "       'fractal_dimension_se', 'radius_worst', 'texture_worst',\n",
       "       'perimeter_worst', 'area_worst', 'smoothness_worst',\n",
       "       'compactness_worst', 'concavity_worst', 'concave points_worst',\n",
       "       'symmetry_worst', 'fractal_dimension_worst', 'BigOrSmall'],\n",
       "      dtype='object')"
      ]
     },
     "execution_count": 7,
     "metadata": {},
     "output_type": "execute_result"
    }
   ],
   "source": [
    "df.columns"
   ]
  },
  {
   "cell_type": "code",
   "execution_count": 8,
   "metadata": {},
   "outputs": [],
   "source": [
    "df = df[['diagnosis', 'radius_mean', 'texture_mean','BigOrSmall', 'smoothness_mean', 'texture_se', 'texture_worst']]"
   ]
  },
  {
   "cell_type": "code",
   "execution_count": 9,
   "metadata": {},
   "outputs": [
    {
     "data": {
      "text/html": [
       "<div>\n",
       "<style scoped>\n",
       "    .dataframe tbody tr th:only-of-type {\n",
       "        vertical-align: middle;\n",
       "    }\n",
       "\n",
       "    .dataframe tbody tr th {\n",
       "        vertical-align: top;\n",
       "    }\n",
       "\n",
       "    .dataframe thead th {\n",
       "        text-align: right;\n",
       "    }\n",
       "</style>\n",
       "<table border=\"1\" class=\"dataframe\">\n",
       "  <thead>\n",
       "    <tr style=\"text-align: right;\">\n",
       "      <th></th>\n",
       "      <th>diagnosis</th>\n",
       "      <th>radius_mean</th>\n",
       "      <th>texture_mean</th>\n",
       "      <th>BigOrSmall</th>\n",
       "      <th>smoothness_mean</th>\n",
       "      <th>texture_se</th>\n",
       "      <th>texture_worst</th>\n",
       "    </tr>\n",
       "  </thead>\n",
       "  <tbody>\n",
       "    <tr>\n",
       "      <th>0</th>\n",
       "      <td>1</td>\n",
       "      <td>17.99</td>\n",
       "      <td>10.38</td>\n",
       "      <td>Big</td>\n",
       "      <td>0.11840</td>\n",
       "      <td>0.9053</td>\n",
       "      <td>17.33</td>\n",
       "    </tr>\n",
       "    <tr>\n",
       "      <th>1</th>\n",
       "      <td>1</td>\n",
       "      <td>20.57</td>\n",
       "      <td>17.77</td>\n",
       "      <td>Big</td>\n",
       "      <td>0.08474</td>\n",
       "      <td>0.7339</td>\n",
       "      <td>23.41</td>\n",
       "    </tr>\n",
       "    <tr>\n",
       "      <th>2</th>\n",
       "      <td>1</td>\n",
       "      <td>19.69</td>\n",
       "      <td>21.25</td>\n",
       "      <td>Big</td>\n",
       "      <td>0.10960</td>\n",
       "      <td>0.7869</td>\n",
       "      <td>25.53</td>\n",
       "    </tr>\n",
       "    <tr>\n",
       "      <th>3</th>\n",
       "      <td>1</td>\n",
       "      <td>11.42</td>\n",
       "      <td>20.38</td>\n",
       "      <td>Small</td>\n",
       "      <td>0.14250</td>\n",
       "      <td>1.1560</td>\n",
       "      <td>26.50</td>\n",
       "    </tr>\n",
       "    <tr>\n",
       "      <th>4</th>\n",
       "      <td>1</td>\n",
       "      <td>20.29</td>\n",
       "      <td>14.34</td>\n",
       "      <td>Big</td>\n",
       "      <td>0.10030</td>\n",
       "      <td>0.7813</td>\n",
       "      <td>16.67</td>\n",
       "    </tr>\n",
       "  </tbody>\n",
       "</table>\n",
       "</div>"
      ],
      "text/plain": [
       "   diagnosis  radius_mean  texture_mean BigOrSmall  smoothness_mean  \\\n",
       "0          1        17.99         10.38        Big          0.11840   \n",
       "1          1        20.57         17.77        Big          0.08474   \n",
       "2          1        19.69         21.25        Big          0.10960   \n",
       "3          1        11.42         20.38      Small          0.14250   \n",
       "4          1        20.29         14.34        Big          0.10030   \n",
       "\n",
       "   texture_se  texture_worst  \n",
       "0      0.9053          17.33  \n",
       "1      0.7339          23.41  \n",
       "2      0.7869          25.53  \n",
       "3      1.1560          26.50  \n",
       "4      0.7813          16.67  "
      ]
     },
     "execution_count": 9,
     "metadata": {},
     "output_type": "execute_result"
    }
   ],
   "source": [
    "df.head()"
   ]
  },
  {
   "cell_type": "markdown",
   "metadata": {},
   "source": [
    "# Pytorch ANN"
   ]
  },
  {
   "cell_type": "markdown",
   "metadata": {},
   "source": [
    "We want to predict the diagnosis. And we introduced a new categorical feature BigOrSmall. It will use a reduced dataframe as it is seen above."
   ]
  },
  {
   "cell_type": "markdown",
   "metadata": {},
   "source": [
    "1) Divide into categorical e continuous"
   ]
  },
  {
   "cell_type": "code",
   "execution_count": 10,
   "metadata": {},
   "outputs": [],
   "source": [
    "cat_cols = ['BigOrSmall']\n",
    "cont_cols = ['radius_mean', 'texture_mean', 'smoothness_mean', 'texture_se', 'texture_worst']\n",
    "y_col = ['diagnosis']"
   ]
  },
  {
   "cell_type": "markdown",
   "metadata": {},
   "source": [
    "2) Assign the Categorical type"
   ]
  },
  {
   "cell_type": "code",
   "execution_count": 11,
   "metadata": {},
   "outputs": [],
   "source": [
    "for cat in cat_cols:\n",
    "    df[cat] = df[cat].astype('category')"
   ]
  },
  {
   "cell_type": "code",
   "execution_count": 12,
   "metadata": {},
   "outputs": [
    {
     "data": {
      "text/plain": [
       "0      Big\n",
       "1      Big\n",
       "2      Big\n",
       "3    Small\n",
       "4      Big\n",
       "Name: BigOrSmall, dtype: category\n",
       "Categories (2, object): ['Big', 'Small']"
      ]
     },
     "execution_count": 12,
     "metadata": {},
     "output_type": "execute_result"
    }
   ],
   "source": [
    "df['BigOrSmall'].head()"
   ]
  },
  {
   "cell_type": "markdown",
   "metadata": {},
   "source": [
    "3) Stack into an array the categorical features"
   ]
  },
  {
   "cell_type": "code",
   "execution_count": 13,
   "metadata": {},
   "outputs": [],
   "source": [
    "BS = df['BigOrSmall'].cat.codes.values\n",
    "cats = np.stack([BS], 1)\n",
    "\n",
    "# Convert to tensor\n",
    "cats = torch.tensor(cats, dtype=torch.int64)"
   ]
  },
  {
   "cell_type": "markdown",
   "metadata": {},
   "source": [
    "4) Stack into an array the continuous features"
   ]
  },
  {
   "cell_type": "code",
   "execution_count": 14,
   "metadata": {},
   "outputs": [],
   "source": [
    "conts = np.stack([df[col].values for col in cont_cols], 1)\n",
    "\n",
    "# Convert to tensor\n",
    "conts = torch.tensor(conts, dtype=torch.float)"
   ]
  },
  {
   "cell_type": "markdown",
   "metadata": {},
   "source": [
    "5) Create Label Tensor"
   ]
  },
  {
   "cell_type": "code",
   "execution_count": 15,
   "metadata": {},
   "outputs": [],
   "source": [
    "y = torch.tensor(df[y_col].values).flatten()"
   ]
  },
  {
   "cell_type": "markdown",
   "metadata": {},
   "source": [
    "6) Embedding Size"
   ]
  },
  {
   "cell_type": "code",
   "execution_count": 16,
   "metadata": {},
   "outputs": [
    {
     "data": {
      "text/plain": [
       "[(2, 1)]"
      ]
     },
     "execution_count": 16,
     "metadata": {},
     "output_type": "execute_result"
    }
   ],
   "source": [
    "# This will set embedding sizes for Hours, AMvsPM and Weekdays\n",
    "cat_szs = [len(df[col].cat.categories) for col in cat_cols]\n",
    "emb_szs = [(size, min(50, (size+1)//2)) for size in cat_szs]\n",
    "emb_szs"
   ]
  },
  {
   "cell_type": "markdown",
   "metadata": {},
   "source": [
    "7) Train and test Split"
   ]
  },
  {
   "cell_type": "code",
   "execution_count": 17,
   "metadata": {},
   "outputs": [],
   "source": [
    "# CODE HERE\n",
    "b = 569# suggested batch size\n",
    "t = 300  # suggested test size\n",
    "\n",
    "cat_train = cats[:b-t]\n",
    "cat_test = cats[b-t:b]\n",
    "con_train = conts[:b-t]\n",
    "con_test = conts[b-t:b]\n",
    "y_train = y[:b-t]\n",
    "y_test = y[b-t:b]"
   ]
  },
  {
   "cell_type": "markdown",
   "metadata": {},
   "source": [
    "8) Tabular Module"
   ]
  },
  {
   "cell_type": "code",
   "execution_count": 18,
   "metadata": {},
   "outputs": [],
   "source": [
    "class TabularModel(nn.Module):\n",
    "\n",
    "    def __init__(self, emb_szs, n_cont, out_sz, layers, p=0.5):\n",
    "        super().__init__()\n",
    "        self.embeds = nn.ModuleList([nn.Embedding(ni, nf) for ni,nf in emb_szs])\n",
    "        self.emb_drop = nn.Dropout(p)\n",
    "        self.bn_cont = nn.BatchNorm1d(n_cont)\n",
    "        \n",
    "        layerlist = []\n",
    "        n_emb = sum((nf for ni,nf in emb_szs))\n",
    "        n_in = n_emb + n_cont\n",
    "        \n",
    "        for i in layers:\n",
    "            layerlist.append(nn.Linear(n_in,i)) \n",
    "            layerlist.append(nn.ReLU(inplace=True))\n",
    "            layerlist.append(nn.BatchNorm1d(i))\n",
    "            layerlist.append(nn.Dropout(p))\n",
    "            n_in = i\n",
    "        layerlist.append(nn.Linear(layers[-1],out_sz))\n",
    "            \n",
    "        self.layers = nn.Sequential(*layerlist)\n",
    "    \n",
    "    def forward(self, x_cat, x_cont):\n",
    "        embeddings = []\n",
    "        for i,e in enumerate(self.embeds):\n",
    "            embeddings.append(e(x_cat[:,i]))\n",
    "        x = torch.cat(embeddings, 1)\n",
    "        x = self.emb_drop(x)\n",
    "        \n",
    "        x_cont = self.bn_cont(x_cont)\n",
    "        x = torch.cat([x, x_cont], 1)\n",
    "        x = self.layers(x)\n",
    "        return x"
   ]
  },
  {
   "cell_type": "markdown",
   "metadata": {},
   "source": [
    "7) Instanciate the Model"
   ]
  },
  {
   "cell_type": "code",
   "execution_count": 19,
   "metadata": {},
   "outputs": [],
   "source": [
    "model = TabularModel(emb_szs, conts.shape[1], 2, [50, 20], p=0.65) # out_sz = 2"
   ]
  },
  {
   "cell_type": "code",
   "execution_count": 20,
   "metadata": {},
   "outputs": [
    {
     "data": {
      "text/plain": [
       "TabularModel(\n",
       "  (embeds): ModuleList(\n",
       "    (0): Embedding(2, 1)\n",
       "  )\n",
       "  (emb_drop): Dropout(p=0.65, inplace=False)\n",
       "  (bn_cont): BatchNorm1d(5, eps=1e-05, momentum=0.1, affine=True, track_running_stats=True)\n",
       "  (layers): Sequential(\n",
       "    (0): Linear(in_features=6, out_features=50, bias=True)\n",
       "    (1): ReLU(inplace=True)\n",
       "    (2): BatchNorm1d(50, eps=1e-05, momentum=0.1, affine=True, track_running_stats=True)\n",
       "    (3): Dropout(p=0.65, inplace=False)\n",
       "    (4): Linear(in_features=50, out_features=20, bias=True)\n",
       "    (5): ReLU(inplace=True)\n",
       "    (6): BatchNorm1d(20, eps=1e-05, momentum=0.1, affine=True, track_running_stats=True)\n",
       "    (7): Dropout(p=0.65, inplace=False)\n",
       "    (8): Linear(in_features=20, out_features=2, bias=True)\n",
       "  )\n",
       ")"
      ]
     },
     "execution_count": 20,
     "metadata": {},
     "output_type": "execute_result"
    }
   ],
   "source": [
    "model"
   ]
  },
  {
   "cell_type": "markdown",
   "metadata": {},
   "source": [
    "8) Define Loss function and optimizer"
   ]
  },
  {
   "cell_type": "code",
   "execution_count": 21,
   "metadata": {},
   "outputs": [],
   "source": [
    "criterion = nn.CrossEntropyLoss()\n",
    "optimizer = torch.optim.Adam(model.parameters(), lr=0.001)"
   ]
  },
  {
   "cell_type": "markdown",
   "metadata": {},
   "source": [
    "9) Train the Model"
   ]
  },
  {
   "cell_type": "code",
   "execution_count": 22,
   "metadata": {},
   "outputs": [
    {
     "name": "stdout",
     "output_type": "stream",
     "text": [
      "epoch:   1  loss: 0.82527632\n",
      "epoch:  26  loss: 0.53958052\n",
      "epoch:  51  loss: 0.49031311\n",
      "epoch:  76  loss: 0.36736631\n",
      "epoch: 101  loss: 0.28193927\n",
      "epoch: 126  loss: 0.27715251\n",
      "epoch: 151  loss: 0.26507416\n",
      "epoch: 176  loss: 0.22014228\n",
      "epoch: 201  loss: 0.21375619\n",
      "epoch: 226  loss: 0.17763563\n",
      "epoch: 251  loss: 0.17699653\n",
      "epoch: 276  loss: 0.17265297\n",
      "epoch: 300  loss: 0.18977384\n",
      "\n",
      "Duration: 2 seconds\n"
     ]
    }
   ],
   "source": [
    "import time\n",
    "start_time = time.time()\n",
    "\n",
    "epochs = 300\n",
    "losses = []\n",
    "\n",
    "for i in range(epochs):\n",
    "    i+=1\n",
    "    y_pred = model(cat_train, con_train)\n",
    "    loss = criterion(y_pred, y_train)\n",
    "    losses.append(loss)\n",
    "    \n",
    "    # a neat trick to save screen space:\n",
    "    if i%25 == 1:\n",
    "        print(f'epoch: {i:3}  loss: {loss.item():10.8f}')\n",
    "\n",
    "    optimizer.zero_grad()\n",
    "    loss.backward()\n",
    "    optimizer.step()\n",
    "\n",
    "print(f'epoch: {i:3}  loss: {loss.item():10.8f}') # print the last line\n",
    "print(f'\\nDuration: {time.time() - start_time:.0f} seconds') # print the time elapsed"
   ]
  },
  {
   "cell_type": "markdown",
   "metadata": {},
   "source": [
    "10) Plot the Losses"
   ]
  },
  {
   "cell_type": "code",
   "execution_count": 23,
   "metadata": {},
   "outputs": [
    {
     "name": "stdout",
     "output_type": "stream",
     "text": [
      "tensor(0.1898, grad_fn=<NllLossBackward>)\n"
     ]
    },
    {
     "data": {
      "image/png": "[encoded data removed]",
      "text/plain": [
       "<Figure size 432x288 with 1 Axes>"
      ]
     },
     "metadata": {
      "needs_background": "light"
     },
     "output_type": "display_data"
    }
   ],
   "source": [
    "# CODE HERE\n",
    "plt.plot(range(epochs),losses)\n",
    "plt.ylabel('Cross Entropy Loss')\n",
    "plt.xlabel('epoch');\n",
    "print(losses[-1])"
   ]
  },
  {
   "cell_type": "markdown",
   "metadata": {},
   "source": [
    "### Evaluate on Test Set"
   ]
  },
  {
   "cell_type": "code",
   "execution_count": 24,
   "metadata": {},
   "outputs": [
    {
     "name": "stdout",
     "output_type": "stream",
     "text": [
      "CE Loss: 0.67494678\n"
     ]
    }
   ],
   "source": [
    "with torch.no_grad():\n",
    "    y_val = model(cat_test,con_test)\n",
    "    loss = criterion(y_val,y_test)\n",
    "\n",
    "# RUN THIS CODE TO COMPARE RESULTS\n",
    "print(f'CE Loss: {loss:.8f}')"
   ]
  },
  {
   "cell_type": "markdown",
   "metadata": {},
   "source": [
    "Lets obtain the accuracy!"
   ]
  },
  {
   "cell_type": "code",
   "execution_count": 25,
   "metadata": {},
   "outputs": [
    {
     "name": "stdout",
     "output_type": "stream",
     "text": [
      "MODEL OUTPUT               ARGMAX  Y_TEST\n",
      "tensor([ 2.3360, -0.5690])    0      0   \n",
      "tensor([ 4.2680, -2.0070])    0      0   \n",
      "tensor([ 2.5722, -5.9588])    0      0   \n",
      "tensor([-2.4543,  3.2955])    1      1   \n",
      "tensor([  5.1016, -10.2323])    0      0   \n",
      "tensor([-3.4690,  1.6169])    1      1   \n",
      "tensor([ 1.7432, -2.3684])    0      0   \n",
      "tensor([ 1.6082, -2.1396])    0      0   \n",
      "tensor([-4.0682,  1.9223])    1      1   \n",
      "tensor([0.2699, 1.1710])      1      0   \n",
      "tensor([-0.3228,  1.1777])    1      0   \n",
      "tensor([-3.2891,  1.8991])    1      1   \n",
      "tensor([ 3.3507, -3.3620])    0      0   \n",
      "tensor([-3.8901,  2.0883])    1      1   \n",
      "tensor([-1.6349,  1.4571])    1      1   \n",
      "tensor([ 1.1770, -0.8714])    0      0   \n",
      "tensor([ 2.9277, -3.9986])    0      0   \n",
      "tensor([ 1.6590, -0.5759])    0      0   \n",
      "tensor([ 0.7578, -1.0583])    0      0   \n",
      "tensor([ 4.4131, -3.1266])    0      0   \n",
      "tensor([ 3.0584, -2.9737])    0      0   \n",
      "tensor([ 0.7703, -0.3200])    0      0   \n",
      "tensor([-1.6683,  1.2470])    1      0   \n",
      "tensor([ 1.4144, -0.7071])    0      0   \n",
      "tensor([ 0.9321, -0.5675])    0      0   \n",
      "tensor([ 3.2933, -2.6096])    0      0   \n",
      "tensor([ 2.9525, -5.3868])    0      0   \n",
      "tensor([ 3.1448, -2.6280])    0      0   \n",
      "tensor([ 2.4446, -1.1568])    0      1   \n",
      "tensor([-0.0367, -0.0693])    0      0   \n",
      "tensor([ 0.8496, -0.9012])    0      0   \n",
      "tensor([-3.8346,  3.1508])    1      1   \n",
      "tensor([0.2958, 0.3796])      1      0   \n",
      "tensor([-4.6787,  3.8198])    1      1   \n",
      "tensor([ 1.5296, -1.0664])    0      0   \n",
      "tensor([ 2.2080, -1.9530])    0      0   \n",
      "tensor([-0.6333,  0.4397])    1      0   \n",
      "tensor([ 0.8994, -0.6423])    0      0   \n",
      "tensor([ 2.4532, -3.8675])    0      0   \n",
      "tensor([ 2.3649, -4.2027])    0      0   \n",
      "tensor([ 2.2936, -4.5560])    0      0   \n",
      "tensor([ 2.6071, -2.2041])    0      0   \n",
      "tensor([ 2.6406, -2.5868])    0      0   \n",
      "tensor([ 1.8241, -2.1338])    0      0   \n",
      "tensor([ 3.9551, -1.4633])    0      0   \n",
      "tensor([ 2.7001, -0.2500])    0      0   \n",
      "tensor([ 2.2099, -0.6045])    0      0   \n",
      "tensor([ 1.1609, -2.3699])    0      0   \n",
      "tensor([-9.8091,  1.1032])    1      1   \n",
      "tensor([ 2.4359, -3.8716])    0      0   \n",
      "tensor([ 1.0978, -2.2468])    0      0   \n",
      "tensor([ 2.7128, -1.6810])    0      0   \n",
      "tensor([-2.6686,  0.7459])    1      1   \n",
      "tensor([-1.3103,  1.4814])    1      0   \n",
      "tensor([-7.6712,  7.5691])    1      1   \n",
      "tensor([ 0.8168, -1.1360])    0      0   \n",
      "tensor([-0.0024,  0.8661])    1      0   \n",
      "tensor([ 1.2344, -2.4890])    0      0   \n",
      "tensor([ 3.7379, -4.1052])    0      0   \n",
      "tensor([-0.9990,  2.5719])    1      1   \n",
      "tensor([-0.7282,  3.2871])    1      1   \n",
      "tensor([-1.5845,  1.6896])    1      1   \n",
      "tensor([ 0.6969, -0.9438])    0      0   \n",
      "tensor([ 0.1499, -0.5273])    0      0   \n",
      "tensor([ 4.9024, -2.7246])    0      0   \n",
      "tensor([ 1.2510, -0.3041])    0      0   \n",
      "tensor([-4.6858,  3.2349])    1      1   \n",
      "tensor([ 1.3000, -1.5313])    0      0   \n",
      "tensor([-3.2824,  3.6582])    1      1   \n",
      "tensor([ 3.7353, -1.8311])    0      0   \n",
      "tensor([-3.3034,  1.3293])    1      1   \n",
      "tensor([-0.1727,  1.2642])    1      0   \n",
      "tensor([ 3.2301, -4.1023])    0      0   \n",
      "tensor([ 3.0024, -1.4887])    0      0   \n",
      "tensor([-1.5861,  1.9800])    1      1   \n",
      "tensor([ 0.9030, -0.6106])    0      0   \n",
      "tensor([ 6.9898, -7.4644])    0      0   \n",
      "tensor([ 0.3174, -0.1037])    0      0   \n",
      "tensor([-1.2783,  3.0073])    1      0   \n",
      "tensor([ 3.7538, -3.0053])    0      0   \n",
      "tensor([1.0342, 0.6500])      0      0   \n",
      "tensor([ 1.1910, -3.1976])    0      0   \n",
      "tensor([-3.4576,  3.5884])    1      1   \n",
      "tensor([-2.9026,  5.3641])    1      1   \n",
      "tensor([-1.0042,  0.8958])    1      1   \n",
      "tensor([ 3.6618, -1.2542])    0      0   \n",
      "tensor([ 1.3053, -2.6118])    0      0   \n",
      "tensor([-0.2909,  0.7270])    1      0   \n",
      "tensor([-0.1886,  0.1818])    1      0   \n",
      "tensor([ 5.1332, -5.9513])    0      0   \n",
      "tensor([ 0.9662, -2.2698])    0      0   \n",
      "tensor([1.1190, 0.7203])      0      0   \n",
      "tensor([0.1794, 0.0325])      0      0   \n",
      "tensor([-2.1386,  1.5790])    1      0   \n",
      "tensor([-3.3379,  3.0597])    1      0   \n",
      "tensor([ 1.6592, -0.7920])    0      0   \n",
      "tensor([-7.1366,  5.0808])    1      1   \n",
      "tensor([-4.6860,  2.1985])    1      1   \n",
      "tensor([ 1.4915, -1.3676])    0      0   \n",
      "tensor([-5.2435,  1.8899])    1      1   \n",
      "tensor([-9.3655,  3.4133])    1      1   \n",
      "tensor([-2.0674,  1.6379])    1      1   \n",
      "tensor([ 0.7461, -0.7124])    0      0   \n",
      "tensor([-3.2658,  1.3960])    1      1   \n",
      "tensor([-1.9990,  2.0678])    1      1   \n",
      "tensor([ 1.2491, -0.6676])    0      0   \n",
      "tensor([-1.6231,  1.3305])    1      0   \n",
      "tensor([ 1.2074, -1.5975])    0      0   \n",
      "tensor([-0.0755,  2.1172])    1      0   \n",
      "tensor([0.6569, 0.1546])      0      0   \n",
      "tensor([-4.8203,  1.8295])    1      1   \n",
      "tensor([-0.5821, -1.0180])    0      0   \n",
      "tensor([ 3.0613, -3.4539])    0      0   \n",
      "tensor([ 4.5343, -1.0581])    0      0   \n",
      "tensor([ 0.1957, -0.3675])    0      0   \n",
      "tensor([ 3.4293, -3.2485])    0      0   \n",
      "tensor([-2.4834,  2.0279])    1      1   \n",
      "tensor([ 3.0840, -3.9300])    0      0   \n",
      "tensor([ 3.2305, -1.2693])    0      0   \n",
      "tensor([ 2.2910, -4.9775])    0      0   \n",
      "tensor([-4.7454,  5.0716])    1      1   \n",
      "tensor([ 3.1898, -3.6496])    0      0   \n",
      "tensor([ 2.8270, -6.2458])    0      0   \n",
      "tensor([-3.5898,  3.1504])    1      1   \n",
      "tensor([-3.1178,  2.2182])    1      1   \n",
      "tensor([0.3077, 0.5251])      1      0   \n",
      "tensor([-0.1972,  1.3636])    1      0   \n",
      "tensor([-1.8652,  1.3458])    1      0   \n",
      "tensor([ 1.9684, -1.5284])    0      0   \n",
      "tensor([ 2.7863, -2.7676])    0      0   \n",
      "tensor([0.4333, 0.0398])      0      0   \n",
      "tensor([-6.4109,  4.6129])    1      1   \n",
      "tensor([ 1.3010, -1.1536])    0      0   \n",
      "tensor([ 0.2818, -0.5459])    0      0   \n",
      "tensor([-0.8025,  0.5504])    1      0   \n",
      "tensor([ 0.7076, -0.6236])    0      0   \n",
      "tensor([ 1.4493, -1.3453])    0      0   \n",
      "tensor([-1.1286,  1.9461])    1      0   \n",
      "tensor([ 3.1438, -1.9241])    0      0   \n",
      "tensor([-4.1817,  2.5365])    1      1   \n",
      "tensor([ 1.2858, -0.5175])    0      0   \n",
      "tensor([-0.9709,  1.7510])    1      0   \n",
      "tensor([ 1.8085, -0.7966])    0      0   \n",
      "tensor([ 2.4738, -2.0470])    0      0   \n",
      "tensor([-1.4542,  2.5624])    1      0   \n",
      "tensor([-2.0103,  2.3998])    1      1   \n",
      "tensor([ 0.5664, -0.5895])    0      0   \n",
      "tensor([ 3.8279, -0.9981])    0      0   \n",
      "tensor([-2.0176,  2.9323])    1      1   \n",
      "tensor([ 1.3420, -0.3670])    0      0   \n",
      "tensor([-0.7321,  0.7463])    1      0   \n",
      "tensor([ 0.3908, -1.6945])    0      0   \n",
      "tensor([-0.5353,  1.6677])    1      0   \n",
      "tensor([ 2.3978, -0.9568])    0      0   \n",
      "tensor([ 0.3377, -0.3043])    0      0   \n",
      "tensor([ 4.7988, -5.0331])    0      0   \n",
      "tensor([ 2.3364, -1.6529])    0      0   \n",
      "tensor([ 1.3108, -1.7752])    0      0   \n",
      "tensor([-0.3464,  0.1297])    1      0   \n",
      "tensor([ 5.3062, -2.7758])    0      0   \n",
      "tensor([ 3.1479, -1.7195])    0      0   \n",
      "tensor([-1.5988,  1.6805])    1      1   \n",
      "tensor([0.0278, 0.3125])      1      0   \n",
      "tensor([-7.8126,  5.2290])    1      1   \n",
      "tensor([-4.6470,  3.0805])    1      1   \n",
      "tensor([-0.3225,  0.4685])    1      0   \n",
      "tensor([-4.6370,  5.5649])    1      1   \n",
      "tensor([-0.0803,  0.1125])    1      0   \n",
      "tensor([ 0.9516, -0.6972])    0      0   \n",
      "tensor([-0.9079,  1.2106])    1      0   \n",
      "tensor([0.0481, 0.0868])      1      0   \n",
      "tensor([ 2.4143, -1.9444])    0      0   \n",
      "tensor([-1.7692,  1.7357])    1      1   \n",
      "tensor([ 2.0401, -3.3679])    0      0   \n",
      "tensor([ 2.8366, -8.1432])    0      0   \n",
      "tensor([-4.3378,  3.3340])    1      1   \n",
      "tensor([-0.9010,  0.8050])    1      0   \n",
      "tensor([-3.1581,  2.0328])    1      1   \n",
      "tensor([-3.4497,  2.9226])    1      0   \n",
      "tensor([-1.8765,  1.6945])    1      0   \n",
      "tensor([-9.1430,  3.5683])    1      1   \n",
      "tensor([ 2.6320, -5.5697])    0      0   \n",
      "tensor([-5.0667,  4.1292])    1      1   \n",
      "tensor([-0.2768, -0.2633])    1      0   \n",
      "tensor([1.1953, 0.3730])      0      0   \n",
      "tensor([ 1.2648, -0.0446])    0      0   \n",
      "tensor([-1.1274,  1.6467])    1      0   \n",
      "tensor([-0.1878, -0.4713])    0      0   \n",
      "tensor([-0.8987,  1.7180])    1      0   \n",
      "tensor([-0.5635,  0.6942])    1      0   \n",
      "tensor([ 0.2432, -2.4271])    0      0   \n",
      "tensor([-1.4543,  2.4676])    1      1   \n",
      "tensor([-6.8622,  4.9834])    1      1   \n",
      "tensor([-1.2291,  1.2807])    1      0   \n",
      "tensor([ 1.0200, -1.9224])    0      0   \n",
      "tensor([ 2.4445, -1.0249])    0      0   \n",
      "tensor([0.3060, 0.3347])      1      0   \n",
      "tensor([-0.5527,  0.2754])    1      0   \n",
      "tensor([ 3.4211, -5.8447])    0      0   \n",
      "tensor([-3.3386,  1.9456])    1      1   \n",
      "tensor([-0.5925,  1.7549])    1      0   \n",
      "tensor([ 1.5654, -2.4962])    0      0   \n",
      "tensor([0.2153, 0.2130])      0      0   \n",
      "tensor([ 0.5612, -0.3606])    0      0   \n",
      "tensor([1.0230, 0.3524])      0      0   \n",
      "tensor([ 0.7240, -2.2760])    0      0   \n",
      "tensor([ 0.6774, -0.8097])    0      0   \n",
      "tensor([-2.4865,  1.4914])    1      0   \n",
      "tensor([ 0.9123, -0.8004])    0      0   \n",
      "tensor([ 1.2685, -1.1795])    0      0   \n",
      "tensor([-1.8406,  2.3709])    1      1   \n",
      "tensor([-0.7126,  1.3024])    1      0   \n",
      "tensor([-0.5419,  0.8591])    1      0   \n",
      "tensor([-0.8015,  0.3891])    1      0   \n",
      "tensor([-0.7072,  2.2514])    1      0   \n",
      "tensor([0.0174, 0.7934])      1      0   \n",
      "tensor([ 1.4264, -0.9849])    0      0   \n",
      "tensor([-1.9061,  2.2291])    1      0   \n",
      "tensor([-0.9518,  1.5185])    1      1   \n",
      "tensor([ 1.1950, -0.4576])    0      0   \n",
      "tensor([-5.1975,  4.8585])    1      1   \n",
      "tensor([-0.5386,  1.9881])    1      0   \n",
      "tensor([-2.4115,  2.3257])    1      0   \n",
      "tensor([-1.2843,  2.4122])    1      1   \n",
      "tensor([ 2.0192, -2.1994])    0      0   \n",
      "tensor([1.1350, 0.0620])      0      0   \n",
      "tensor([-2.5279,  1.1956])    1      0   \n",
      "tensor([-0.8234,  1.2179])    1      0   \n",
      "tensor([ 0.1835, -0.9729])    0      0   \n",
      "tensor([-1.7074,  3.3906])    1      1   \n",
      "tensor([-3.9063,  3.8334])    1      1   \n",
      "tensor([-0.4233,  0.4662])    1      0   \n",
      "tensor([-1.8579,  1.4090])    1      1   \n",
      "tensor([0.6112, 0.7361])      1      0   \n",
      "tensor([-9.1106,  7.9712])    1      1   \n",
      "tensor([ 0.2877, -0.7476])    0      0   \n",
      "tensor([ 3.5009, -3.1515])    0      0   \n",
      "tensor([-0.2756, -0.3552])    0      0   \n",
      "tensor([ 1.0420, -0.9656])    0      0   \n",
      "tensor([-0.6804,  1.7136])    1      0   \n",
      "tensor([-4.3275,  0.2607])    1      1   \n",
      "tensor([ 1.4639, -2.6720])    0      0   \n",
      "tensor([0.6082, 0.0150])      0      0   \n",
      "tensor([-2.2730,  3.1536])    1      1   \n",
      "tensor([-0.0743, -0.3509])    0      0   \n",
      "tensor([-3.5590,  3.6957])    1      1   \n",
      "tensor([-0.5390,  0.4694])    1      0   \n",
      "tensor([-4.5726,  2.1639])    1      1   \n",
      "tensor([-5.4414,  2.7900])    1      1   \n",
      "tensor([-0.1955,  2.4223])    1      0   \n",
      "tensor([-0.7793,  0.8008])    1      0   \n",
      "tensor([ 0.2062, -0.0168])    0      0   \n",
      "tensor([-12.1057,   7.0742])    1      1   \n",
      "tensor([ 1.0145, -2.6840])    0      0   \n",
      "tensor([-0.8125,  1.1398])    1      0   \n",
      "tensor([ 3.6607, -3.0753])    0      0   \n",
      "tensor([ 1.0636, -1.2394])    0      0   \n",
      "tensor([-1.2799,  0.3935])    1      0   \n",
      "tensor([ 2.7611, -3.3846])    0      0   \n",
      "tensor([-0.1190,  1.6590])    1      0   \n",
      "tensor([ 2.7589, -1.0696])    0      0   \n",
      "tensor([-0.0255,  0.5398])    1      0   \n",
      "tensor([-1.1309,  1.6740])    1      0   \n",
      "tensor([ 0.3955, -0.8130])    0      0   \n",
      "tensor([-2.4140,  3.0631])    1      1   \n",
      "tensor([ 1.8175, -0.9083])    0      0   \n",
      "tensor([-8.2646,  5.0049])    1      1   \n",
      "tensor([-2.0553,  2.7651])    1      1   \n",
      "tensor([-0.7481,  1.6939])    1      0   \n",
      "tensor([ 3.1678, -3.7451])    0      0   \n",
      "tensor([ 0.6656, -0.5378])    0      0   \n",
      "tensor([ 3.5163, -1.8727])    0      0   \n",
      "tensor([-2.3303,  1.1859])    1      0   \n",
      "tensor([-4.8849,  3.4446])    1      0   \n",
      "tensor([-1.9345,  1.2522])    1      0   \n",
      "tensor([-1.8561,  1.6029])    1      0   \n",
      "tensor([-0.9791,  1.1909])    1      0   \n",
      "tensor([ 1.5766, -2.9321])    0      0   \n",
      "tensor([ 3.5745, -5.1681])    0      0   \n",
      "tensor([ 2.2168, -3.8473])    0      0   \n",
      "tensor([1.7024, 0.2956])      0      0   \n",
      "tensor([ 4.3723, -7.4719])    0      0   \n",
      "tensor([ 1.5158, -2.5734])    0      0   \n",
      "tensor([-0.6611,  1.7748])    1      0   \n",
      "tensor([ 2.9774, -4.1697])    0      0   \n",
      "tensor([-1.5138,  0.7156])    1      0   \n",
      "tensor([-0.0574, -0.4158])    0      0   \n",
      "tensor([ 3.3595, -1.5681])    0      0   \n",
      "tensor([ 3.9529, -1.3886])    0      0   \n",
      "tensor([-1.6745,  2.0445])    1      0   \n",
      "tensor([ 1.4097, -0.0839])    0      0   \n",
      "tensor([-3.1643,  2.6435])    1      0   \n",
      "tensor([ 2.0253, -3.8700])    0      0   \n",
      "tensor([-3.1383,  4.9056])    1      1   \n",
      "tensor([-8.8676,  5.0180])    1      1   \n",
      "tensor([-1.4572,  1.2070])    1      1   \n",
      "tensor([-3.7381,  3.3625])    1      1   \n",
      "tensor([-3.7108,  2.9151])    1      1   \n",
      "tensor([-2.6633,  6.5355])    1      1   \n",
      "tensor([ 1.3506, -3.7494])    0      0   \n",
      "\n",
      "226 out of 300 = 75.33% correct\n"
     ]
    }
   ],
   "source": [
    "rows = 300\n",
    "correct = 0\n",
    "print(f'{\"MODEL OUTPUT\":26} ARGMAX  Y_TEST')\n",
    "for i in range(rows):\n",
    "    print(f'{str(y_val[i]):26} {y_val[i].argmax():^7}{y_test[i]:^7}')\n",
    "    if y_val[i].argmax().item() == y_test[i]:\n",
    "        correct += 1\n",
    "print(f'\\n{correct} out of {rows} = {100*correct/rows:.2f}% correct')"
   ]
  },
  {
   "cell_type": "code",
   "execution_count": null,
   "metadata": {},
   "outputs": [],
   "source": []
  }
 ],
 "metadata": {
  "kernelspec": {
   "display_name": "Python 3",
   "language": "python",
   "name": "python3"
  },
  "language_info": {
   "codemirror_mode": {
    "name": "ipython",
    "version": 3
   },
   "file_extension": ".py",
   "mimetype": "text/x-python",
   "name": "python",
   "nbconvert_exporter": "python",
   "pygments_lexer": "ipython3",
   "version": "3.8.3"
  }
 },
 "nbformat": 4,
 "nbformat_minor": 4
}
