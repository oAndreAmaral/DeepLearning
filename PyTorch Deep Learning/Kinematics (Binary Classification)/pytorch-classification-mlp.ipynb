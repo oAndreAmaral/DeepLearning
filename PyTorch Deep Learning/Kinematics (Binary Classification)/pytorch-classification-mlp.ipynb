{
 "cells": [
  {
   "cell_type": "code",
   "execution_count": 1,
   "id": "1913f19c",
   "metadata": {
    "_cell_guid": "b1076dfc-b9ad-4769-8c92-a6c4dae69d19",
    "_uuid": "8f2839f25d086af736a60e9eeb907d3b93b6e0e5",
    "execution": {
     "iopub.execute_input": "2022-01-06T20:07:12.175168Z",
     "iopub.status.busy": "2022-01-06T20:07:12.174487Z",
     "iopub.status.idle": "2022-01-06T20:07:14.326630Z",
     "shell.execute_reply": "2022-01-06T20:07:14.325869Z",
     "shell.execute_reply.started": "2022-01-06T20:05:40.717619Z"
    },
    "papermill": {
     "duration": 2.187311,
     "end_time": "2022-01-06T20:07:14.326809",
     "exception": false,
     "start_time": "2022-01-06T20:07:12.139498",
     "status": "completed"
    },
    "tags": []
   },
   "outputs": [
    {
     "name": "stdout",
     "output_type": "stream",
     "text": [
      "/kaggle/input/kinematics-motion-data/Kinematics_Data.csv\n"
     ]
    }
   ],
   "source": [
    "# This Python 3 environment comes with many helpful analytics libraries installed\n",
    "# It is defined by the kaggle/python Docker image: https://github.com/kaggle/docker-python\n",
    "# For example, here's several helpful packages to load\n",
    "\n",
    "import numpy as np # linear algebra\n",
    "import pandas as pd # data processing, CSV file I/O (e.g. pd.read_csv)\n",
    "from sklearn.model_selection import train_test_split\n",
    "from sklearn.metrics import confusion_matrix, classification_report\n",
    "from sklearn.preprocessing import MinMaxScaler\n",
    "import torch\n",
    "import torch.nn as nn\n",
    "import torch.nn.functional as F\n",
    "import matplotlib.pyplot as plt\n",
    "%matplotlib inline\n",
    "\n",
    "# Input data files are available in the read-only \"../input/\" directory\n",
    "# For example, running this (by clicking run or pressing Shift+Enter) will list all files under the input directory\n",
    "\n",
    "import os\n",
    "for dirname, _, filenames in os.walk('/kaggle/input'):\n",
    "    for filename in filenames:\n",
    "        print(os.path.join(dirname, filename))\n",
    "\n",
    "# You can write up to 20GB to the current directory (/kaggle/working/) that gets preserved as output when you create a version using \"Save & Run All\" \n",
    "# You can also write temporary files to /kaggle/temp/, but they won't be saved outside of the current session"
   ]
  },
  {
   "cell_type": "code",
   "execution_count": 2,
   "id": "524b0b6a",
   "metadata": {
    "execution": {
     "iopub.execute_input": "2022-01-06T20:07:14.371640Z",
     "iopub.status.busy": "2022-01-06T20:07:14.370874Z",
     "iopub.status.idle": "2022-01-06T20:07:14.686111Z",
     "shell.execute_reply": "2022-01-06T20:07:14.685483Z",
     "shell.execute_reply.started": "2022-01-06T20:05:40.732417Z"
    },
    "papermill": {
     "duration": 0.339561,
     "end_time": "2022-01-06T20:07:14.686280",
     "exception": false,
     "start_time": "2022-01-06T20:07:14.346719",
     "status": "completed"
    },
    "tags": []
   },
   "outputs": [],
   "source": [
    "df = pd.read_csv('/kaggle/input/kinematics-motion-data/Kinematics_Data.csv')"
   ]
  },
  {
   "cell_type": "markdown",
   "id": "6298ccb9",
   "metadata": {
    "papermill": {
     "duration": 0.019249,
     "end_time": "2022-01-06T20:07:14.725262",
     "exception": false,
     "start_time": "2022-01-06T20:07:14.706013",
     "status": "completed"
    },
    "tags": []
   },
   "source": [
    "# Data Analysis"
   ]
  },
  {
   "cell_type": "code",
   "execution_count": 3,
   "id": "356757ea",
   "metadata": {
    "execution": {
     "iopub.execute_input": "2022-01-06T20:07:14.774852Z",
     "iopub.status.busy": "2022-01-06T20:07:14.773785Z",
     "iopub.status.idle": "2022-01-06T20:07:14.797373Z",
     "shell.execute_reply": "2022-01-06T20:07:14.797889Z",
     "shell.execute_reply.started": "2022-01-06T20:05:40.924132Z"
    },
    "papermill": {
     "duration": 0.052844,
     "end_time": "2022-01-06T20:07:14.798086",
     "exception": false,
     "start_time": "2022-01-06T20:07:14.745242",
     "status": "completed"
    },
    "tags": []
   },
   "outputs": [
    {
     "data": {
      "text/html": [
       "<div>\n",
       "<style scoped>\n",
       "    .dataframe tbody tr th:only-of-type {\n",
       "        vertical-align: middle;\n",
       "    }\n",
       "\n",
       "    .dataframe tbody tr th {\n",
       "        vertical-align: top;\n",
       "    }\n",
       "\n",
       "    .dataframe thead th {\n",
       "        text-align: right;\n",
       "    }\n",
       "</style>\n",
       "<table border=\"1\" class=\"dataframe\">\n",
       "  <thead>\n",
       "    <tr style=\"text-align: right;\">\n",
       "      <th></th>\n",
       "      <th>date</th>\n",
       "      <th>time</th>\n",
       "      <th>username</th>\n",
       "      <th>wrist</th>\n",
       "      <th>activity</th>\n",
       "      <th>acceleration_x</th>\n",
       "      <th>acceleration_y</th>\n",
       "      <th>acceleration_z</th>\n",
       "      <th>gyro_x</th>\n",
       "      <th>gyro_y</th>\n",
       "      <th>gyro_z</th>\n",
       "    </tr>\n",
       "  </thead>\n",
       "  <tbody>\n",
       "    <tr>\n",
       "      <th>0</th>\n",
       "      <td>2017-6-30</td>\n",
       "      <td>13:51:15:847724020</td>\n",
       "      <td>viktor</td>\n",
       "      <td>0</td>\n",
       "      <td>0</td>\n",
       "      <td>0.2650</td>\n",
       "      <td>-0.7814</td>\n",
       "      <td>-0.0076</td>\n",
       "      <td>-0.0590</td>\n",
       "      <td>0.0325</td>\n",
       "      <td>-2.9296</td>\n",
       "    </tr>\n",
       "    <tr>\n",
       "      <th>1</th>\n",
       "      <td>2017-6-30</td>\n",
       "      <td>13:51:16:246945023</td>\n",
       "      <td>viktor</td>\n",
       "      <td>0</td>\n",
       "      <td>0</td>\n",
       "      <td>0.6722</td>\n",
       "      <td>-1.1233</td>\n",
       "      <td>-0.2344</td>\n",
       "      <td>-0.1757</td>\n",
       "      <td>0.0208</td>\n",
       "      <td>0.1269</td>\n",
       "    </tr>\n",
       "    <tr>\n",
       "      <th>2</th>\n",
       "      <td>2017-6-30</td>\n",
       "      <td>13:51:16:446233987</td>\n",
       "      <td>viktor</td>\n",
       "      <td>0</td>\n",
       "      <td>0</td>\n",
       "      <td>0.4399</td>\n",
       "      <td>-1.4817</td>\n",
       "      <td>0.0722</td>\n",
       "      <td>-0.9105</td>\n",
       "      <td>0.1063</td>\n",
       "      <td>-2.4367</td>\n",
       "    </tr>\n",
       "    <tr>\n",
       "      <th>3</th>\n",
       "      <td>2017-6-30</td>\n",
       "      <td>13:51:16:646117985</td>\n",
       "      <td>viktor</td>\n",
       "      <td>0</td>\n",
       "      <td>0</td>\n",
       "      <td>0.3031</td>\n",
       "      <td>-0.8125</td>\n",
       "      <td>0.0888</td>\n",
       "      <td>0.1199</td>\n",
       "      <td>-0.4099</td>\n",
       "      <td>-2.9336</td>\n",
       "    </tr>\n",
       "    <tr>\n",
       "      <th>4</th>\n",
       "      <td>2017-6-30</td>\n",
       "      <td>13:51:16:846738994</td>\n",
       "      <td>viktor</td>\n",
       "      <td>0</td>\n",
       "      <td>0</td>\n",
       "      <td>0.4814</td>\n",
       "      <td>-0.9312</td>\n",
       "      <td>0.0359</td>\n",
       "      <td>0.0527</td>\n",
       "      <td>0.4379</td>\n",
       "      <td>2.4922</td>\n",
       "    </tr>\n",
       "  </tbody>\n",
       "</table>\n",
       "</div>"
      ],
      "text/plain": [
       "        date                time username  wrist  activity  acceleration_x  \\\n",
       "0  2017-6-30  13:51:15:847724020   viktor      0         0          0.2650   \n",
       "1  2017-6-30  13:51:16:246945023   viktor      0         0          0.6722   \n",
       "2  2017-6-30  13:51:16:446233987   viktor      0         0          0.4399   \n",
       "3  2017-6-30  13:51:16:646117985   viktor      0         0          0.3031   \n",
       "4  2017-6-30  13:51:16:846738994   viktor      0         0          0.4814   \n",
       "\n",
       "   acceleration_y  acceleration_z  gyro_x  gyro_y  gyro_z  \n",
       "0         -0.7814         -0.0076 -0.0590  0.0325 -2.9296  \n",
       "1         -1.1233         -0.2344 -0.1757  0.0208  0.1269  \n",
       "2         -1.4817          0.0722 -0.9105  0.1063 -2.4367  \n",
       "3         -0.8125          0.0888  0.1199 -0.4099 -2.9336  \n",
       "4         -0.9312          0.0359  0.0527  0.4379  2.4922  "
      ]
     },
     "execution_count": 3,
     "metadata": {},
     "output_type": "execute_result"
    }
   ],
   "source": [
    "df.head()"
   ]
  },
  {
   "cell_type": "markdown",
   "id": "9ae61878",
   "metadata": {
    "papermill": {
     "duration": 0.02065,
     "end_time": "2022-01-06T20:07:14.838820",
     "exception": false,
     "start_time": "2022-01-06T20:07:14.818170",
     "status": "completed"
    },
    "tags": []
   },
   "source": [
    "Time, date are input features that are not relevant to define the activity of motion taken by the user so they can be droped, along with the username since it is always the same as we can see below."
   ]
  },
  {
   "cell_type": "code",
   "execution_count": 4,
   "id": "d1a68f73",
   "metadata": {
    "execution": {
     "iopub.execute_input": "2022-01-06T20:07:14.900967Z",
     "iopub.status.busy": "2022-01-06T20:07:14.900213Z",
     "iopub.status.idle": "2022-01-06T20:07:14.905527Z",
     "shell.execute_reply": "2022-01-06T20:07:14.906076Z",
     "shell.execute_reply.started": "2022-01-06T20:05:40.943762Z"
    },
    "papermill": {
     "duration": 0.047456,
     "end_time": "2022-01-06T20:07:14.906371",
     "exception": false,
     "start_time": "2022-01-06T20:07:14.858915",
     "status": "completed"
    },
    "tags": []
   },
   "outputs": [
    {
     "data": {
      "text/plain": [
       "viktor    88588\n",
       "Name: username, dtype: int64"
      ]
     },
     "execution_count": 4,
     "metadata": {},
     "output_type": "execute_result"
    }
   ],
   "source": [
    "df['username'].value_counts()"
   ]
  },
  {
   "cell_type": "code",
   "execution_count": 5,
   "id": "f396ace1",
   "metadata": {
    "execution": {
     "iopub.execute_input": "2022-01-06T20:07:14.952850Z",
     "iopub.status.busy": "2022-01-06T20:07:14.952173Z",
     "iopub.status.idle": "2022-01-06T20:07:14.964173Z",
     "shell.execute_reply": "2022-01-06T20:07:14.964719Z",
     "shell.execute_reply.started": "2022-01-06T20:05:40.964180Z"
    },
    "papermill": {
     "duration": 0.037817,
     "end_time": "2022-01-06T20:07:14.964917",
     "exception": false,
     "start_time": "2022-01-06T20:07:14.927100",
     "status": "completed"
    },
    "tags": []
   },
   "outputs": [],
   "source": [
    "df.drop(['date', 'time', 'username'], axis = 1, inplace = True)"
   ]
  },
  {
   "cell_type": "code",
   "execution_count": 6,
   "id": "ce2c5505",
   "metadata": {
    "execution": {
     "iopub.execute_input": "2022-01-06T20:07:15.018217Z",
     "iopub.status.busy": "2022-01-06T20:07:15.017530Z",
     "iopub.status.idle": "2022-01-06T20:07:15.025792Z",
     "shell.execute_reply": "2022-01-06T20:07:15.026340Z",
     "shell.execute_reply.started": "2022-01-06T20:05:40.977856Z"
    },
    "papermill": {
     "duration": 0.0416,
     "end_time": "2022-01-06T20:07:15.026520",
     "exception": false,
     "start_time": "2022-01-06T20:07:14.984920",
     "status": "completed"
    },
    "tags": []
   },
   "outputs": [
    {
     "data": {
      "text/html": [
       "<div>\n",
       "<style scoped>\n",
       "    .dataframe tbody tr th:only-of-type {\n",
       "        vertical-align: middle;\n",
       "    }\n",
       "\n",
       "    .dataframe tbody tr th {\n",
       "        vertical-align: top;\n",
       "    }\n",
       "\n",
       "    .dataframe thead th {\n",
       "        text-align: right;\n",
       "    }\n",
       "</style>\n",
       "<table border=\"1\" class=\"dataframe\">\n",
       "  <thead>\n",
       "    <tr style=\"text-align: right;\">\n",
       "      <th></th>\n",
       "      <th>wrist</th>\n",
       "      <th>activity</th>\n",
       "      <th>acceleration_x</th>\n",
       "      <th>acceleration_y</th>\n",
       "      <th>acceleration_z</th>\n",
       "      <th>gyro_x</th>\n",
       "      <th>gyro_y</th>\n",
       "      <th>gyro_z</th>\n",
       "    </tr>\n",
       "  </thead>\n",
       "  <tbody>\n",
       "    <tr>\n",
       "      <th>0</th>\n",
       "      <td>0</td>\n",
       "      <td>0</td>\n",
       "      <td>0.2650</td>\n",
       "      <td>-0.7814</td>\n",
       "      <td>-0.0076</td>\n",
       "      <td>-0.0590</td>\n",
       "      <td>0.0325</td>\n",
       "      <td>-2.9296</td>\n",
       "    </tr>\n",
       "    <tr>\n",
       "      <th>1</th>\n",
       "      <td>0</td>\n",
       "      <td>0</td>\n",
       "      <td>0.6722</td>\n",
       "      <td>-1.1233</td>\n",
       "      <td>-0.2344</td>\n",
       "      <td>-0.1757</td>\n",
       "      <td>0.0208</td>\n",
       "      <td>0.1269</td>\n",
       "    </tr>\n",
       "    <tr>\n",
       "      <th>2</th>\n",
       "      <td>0</td>\n",
       "      <td>0</td>\n",
       "      <td>0.4399</td>\n",
       "      <td>-1.4817</td>\n",
       "      <td>0.0722</td>\n",
       "      <td>-0.9105</td>\n",
       "      <td>0.1063</td>\n",
       "      <td>-2.4367</td>\n",
       "    </tr>\n",
       "    <tr>\n",
       "      <th>3</th>\n",
       "      <td>0</td>\n",
       "      <td>0</td>\n",
       "      <td>0.3031</td>\n",
       "      <td>-0.8125</td>\n",
       "      <td>0.0888</td>\n",
       "      <td>0.1199</td>\n",
       "      <td>-0.4099</td>\n",
       "      <td>-2.9336</td>\n",
       "    </tr>\n",
       "    <tr>\n",
       "      <th>4</th>\n",
       "      <td>0</td>\n",
       "      <td>0</td>\n",
       "      <td>0.4814</td>\n",
       "      <td>-0.9312</td>\n",
       "      <td>0.0359</td>\n",
       "      <td>0.0527</td>\n",
       "      <td>0.4379</td>\n",
       "      <td>2.4922</td>\n",
       "    </tr>\n",
       "  </tbody>\n",
       "</table>\n",
       "</div>"
      ],
      "text/plain": [
       "   wrist  activity  acceleration_x  acceleration_y  acceleration_z  gyro_x  \\\n",
       "0      0         0          0.2650         -0.7814         -0.0076 -0.0590   \n",
       "1      0         0          0.6722         -1.1233         -0.2344 -0.1757   \n",
       "2      0         0          0.4399         -1.4817          0.0722 -0.9105   \n",
       "3      0         0          0.3031         -0.8125          0.0888  0.1199   \n",
       "4      0         0          0.4814         -0.9312          0.0359  0.0527   \n",
       "\n",
       "   gyro_y  gyro_z  \n",
       "0  0.0325 -2.9296  \n",
       "1  0.0208  0.1269  \n",
       "2  0.1063 -2.4367  \n",
       "3 -0.4099 -2.9336  \n",
       "4  0.4379  2.4922  "
      ]
     },
     "execution_count": 6,
     "metadata": {},
     "output_type": "execute_result"
    }
   ],
   "source": [
    "df.head()"
   ]
  },
  {
   "cell_type": "code",
   "execution_count": 7,
   "id": "13e2d923",
   "metadata": {
    "execution": {
     "iopub.execute_input": "2022-01-06T20:07:15.074120Z",
     "iopub.status.busy": "2022-01-06T20:07:15.073161Z",
     "iopub.status.idle": "2022-01-06T20:07:15.080899Z",
     "shell.execute_reply": "2022-01-06T20:07:15.081447Z",
     "shell.execute_reply.started": "2022-01-06T20:05:40.997387Z"
    },
    "papermill": {
     "duration": 0.034056,
     "end_time": "2022-01-06T20:07:15.081623",
     "exception": false,
     "start_time": "2022-01-06T20:07:15.047567",
     "status": "completed"
    },
    "tags": []
   },
   "outputs": [
    {
     "data": {
      "text/plain": [
       "wrist             0\n",
       "activity          0\n",
       "acceleration_x    0\n",
       "acceleration_y    0\n",
       "acceleration_z    0\n",
       "gyro_x            0\n",
       "gyro_y            0\n",
       "gyro_z            0\n",
       "dtype: int64"
      ]
     },
     "execution_count": 7,
     "metadata": {},
     "output_type": "execute_result"
    }
   ],
   "source": [
    "df.isnull().sum()"
   ]
  },
  {
   "cell_type": "markdown",
   "id": "c63e1400",
   "metadata": {
    "papermill": {
     "duration": 0.020436,
     "end_time": "2022-01-06T20:07:15.123547",
     "exception": false,
     "start_time": "2022-01-06T20:07:15.103111",
     "status": "completed"
    },
    "tags": []
   },
   "source": [
    "As we also see we have no missing value to take care of!"
   ]
  },
  {
   "cell_type": "markdown",
   "id": "eaca2218",
   "metadata": {
    "papermill": {
     "duration": 0.021004,
     "end_time": "2022-01-06T20:07:15.165524",
     "exception": false,
     "start_time": "2022-01-06T20:07:15.144520",
     "status": "completed"
    },
    "tags": []
   },
   "source": [
    "# Data Train Test Split"
   ]
  },
  {
   "cell_type": "code",
   "execution_count": 8,
   "id": "11321773",
   "metadata": {
    "execution": {
     "iopub.execute_input": "2022-01-06T20:07:15.215844Z",
     "iopub.status.busy": "2022-01-06T20:07:15.215184Z",
     "iopub.status.idle": "2022-01-06T20:07:15.271162Z",
     "shell.execute_reply": "2022-01-06T20:07:15.271760Z",
     "shell.execute_reply.started": "2022-01-06T20:05:41.013451Z"
    },
    "papermill": {
     "duration": 0.085598,
     "end_time": "2022-01-06T20:07:15.271957",
     "exception": false,
     "start_time": "2022-01-06T20:07:15.186359",
     "status": "completed"
    },
    "tags": []
   },
   "outputs": [],
   "source": [
    "X = df.drop('activity',axis=1).values\n",
    "y = df['activity'].values\n",
    "\n",
    "X_train, X_test, y_train, y_test = train_test_split(X,y,test_size=0.3,random_state=33)\n",
    "\n",
    "scaler = MinMaxScaler()\n",
    "X_train= scaler.fit_transform(X_train)\n",
    "X_test = scaler.transform(X_test)\n",
    "\n",
    "X_train = torch.FloatTensor(X_train)\n",
    "X_test = torch.FloatTensor(X_test)\n",
    "#y_train = F.one_hot(torch.LongTensor(y_train))  # not needed with Cross Entropy Loss\n",
    "#y_test = F.one_hot(torch.LongTensor(y_test))\n",
    "y_train = torch.LongTensor(y_train)\n",
    "y_test = torch.LongTensor(y_test)"
   ]
  },
  {
   "cell_type": "markdown",
   "id": "32287d82",
   "metadata": {
    "execution": {
     "iopub.execute_input": "2022-01-06T19:44:03.36453Z",
     "iopub.status.busy": "2022-01-06T19:44:03.363998Z",
     "iopub.status.idle": "2022-01-06T19:44:03.368208Z",
     "shell.execute_reply": "2022-01-06T19:44:03.367419Z",
     "shell.execute_reply.started": "2022-01-06T19:44:03.364482Z"
    },
    "papermill": {
     "duration": 0.020675,
     "end_time": "2022-01-06T20:07:15.313484",
     "exception": false,
     "start_time": "2022-01-06T20:07:15.292809",
     "status": "completed"
    },
    "tags": []
   },
   "source": [
    "# Define The Model"
   ]
  },
  {
   "cell_type": "code",
   "execution_count": 9,
   "id": "8f5fe83b",
   "metadata": {
    "execution": {
     "iopub.execute_input": "2022-01-06T20:07:15.360599Z",
     "iopub.status.busy": "2022-01-06T20:07:15.359625Z",
     "iopub.status.idle": "2022-01-06T20:07:15.368036Z",
     "shell.execute_reply": "2022-01-06T20:07:15.367450Z",
     "shell.execute_reply.started": "2022-01-06T20:05:41.046188Z"
    },
    "papermill": {
     "duration": 0.032588,
     "end_time": "2022-01-06T20:07:15.368181",
     "exception": false,
     "start_time": "2022-01-06T20:07:15.335593",
     "status": "completed"
    },
    "tags": []
   },
   "outputs": [],
   "source": [
    "class Model(nn.Module):\n",
    "    def __init__(self, in_features=7, h1=10, h2=9, out_features=2):\n",
    "        super().__init__()\n",
    "        \n",
    "        # input layer -> 1 hidden -> 2 hidden -> output \n",
    "        self.fc1 = nn.Linear(in_features,h1)    # input layer\n",
    "        self.fc2 = nn.Linear(h1, h2)            # hidden layer\n",
    "        self.out = nn.Linear(h2, out_features)  # output layer\n",
    "        \n",
    "    def forward(self, x):\n",
    "        # Pass the neuron input through its activation function to obtain the output of the neuron\n",
    "        x = F.relu(self.fc1(x))\n",
    "        x = F.relu(self.fc2(x))\n",
    "        x = self.out(x)\n",
    "        return x"
   ]
  },
  {
   "cell_type": "code",
   "execution_count": 10,
   "id": "ae9a8939",
   "metadata": {
    "execution": {
     "iopub.execute_input": "2022-01-06T20:07:15.414797Z",
     "iopub.status.busy": "2022-01-06T20:07:15.414116Z",
     "iopub.status.idle": "2022-01-06T20:07:15.436181Z",
     "shell.execute_reply": "2022-01-06T20:07:15.436678Z",
     "shell.execute_reply.started": "2022-01-06T20:05:41.053545Z"
    },
    "papermill": {
     "duration": 0.047695,
     "end_time": "2022-01-06T20:07:15.436864",
     "exception": false,
     "start_time": "2022-01-06T20:07:15.389169",
     "status": "completed"
    },
    "tags": []
   },
   "outputs": [],
   "source": [
    "torch.manual_seed(4)\n",
    "model = Model()"
   ]
  },
  {
   "cell_type": "code",
   "execution_count": 11,
   "id": "f535e621",
   "metadata": {
    "execution": {
     "iopub.execute_input": "2022-01-06T20:07:15.482791Z",
     "iopub.status.busy": "2022-01-06T20:07:15.482142Z",
     "iopub.status.idle": "2022-01-06T20:07:15.486035Z",
     "shell.execute_reply": "2022-01-06T20:07:15.486524Z",
     "shell.execute_reply.started": "2022-01-06T20:05:41.072005Z"
    },
    "papermill": {
     "duration": 0.028971,
     "end_time": "2022-01-06T20:07:15.486702",
     "exception": false,
     "start_time": "2022-01-06T20:07:15.457731",
     "status": "completed"
    },
    "tags": []
   },
   "outputs": [],
   "source": [
    "criterion = nn.CrossEntropyLoss()\n",
    "optimizer = torch.optim.Adam(model.parameters(), lr=0.01)"
   ]
  },
  {
   "cell_type": "markdown",
   "id": "49c3ce0d",
   "metadata": {
    "papermill": {
     "duration": 0.020678,
     "end_time": "2022-01-06T20:07:15.528792",
     "exception": false,
     "start_time": "2022-01-06T20:07:15.508114",
     "status": "completed"
    },
    "tags": []
   },
   "source": [
    "# Train the Model"
   ]
  },
  {
   "cell_type": "code",
   "execution_count": 12,
   "id": "e283114e",
   "metadata": {
    "execution": {
     "iopub.execute_input": "2022-01-06T20:07:15.579901Z",
     "iopub.status.busy": "2022-01-06T20:07:15.579240Z",
     "iopub.status.idle": "2022-01-06T20:07:24.244290Z",
     "shell.execute_reply": "2022-01-06T20:07:24.245076Z",
     "shell.execute_reply.started": "2022-01-06T20:05:41.083318Z"
    },
    "papermill": {
     "duration": 8.695641,
     "end_time": "2022-01-06T20:07:24.245336",
     "exception": false,
     "start_time": "2022-01-06T20:07:15.549695",
     "status": "completed"
    },
    "tags": []
   },
   "outputs": [
    {
     "name": "stdout",
     "output_type": "stream",
     "text": [
      "epoch:  1  loss: 0.69131511\n",
      "epoch: 11  loss: 0.66810387\n",
      "epoch: 21  loss: 0.60499859\n",
      "epoch: 31  loss: 0.47455353\n",
      "epoch: 41  loss: 0.34843293\n",
      "epoch: 51  loss: 0.28557786\n",
      "epoch: 61  loss: 0.25532621\n",
      "epoch: 71  loss: 0.23842455\n",
      "epoch: 81  loss: 0.22505544\n",
      "epoch: 91  loss: 0.21202309\n",
      "epoch: 101  loss: 0.19992615\n",
      "epoch: 111  loss: 0.18831246\n",
      "epoch: 121  loss: 0.17779274\n",
      "epoch: 131  loss: 0.16816962\n",
      "epoch: 141  loss: 0.15844426\n",
      "epoch: 151  loss: 0.14955160\n",
      "epoch: 161  loss: 0.14199583\n",
      "epoch: 171  loss: 0.13656706\n",
      "epoch: 181  loss: 0.13029936\n",
      "epoch: 191  loss: 0.12521356\n",
      "epoch: 201  loss: 0.12089445\n",
      "epoch: 211  loss: 0.11720345\n",
      "epoch: 221  loss: 0.11389735\n",
      "epoch: 231  loss: 0.11119810\n",
      "epoch: 241  loss: 0.10973215\n",
      "epoch: 251  loss: 0.10712312\n",
      "epoch: 261  loss: 0.10528143\n",
      "epoch: 271  loss: 0.10332728\n",
      "epoch: 281  loss: 0.10286519\n",
      "epoch: 291  loss: 0.10083362\n",
      "epoch: 301  loss: 0.09941188\n",
      "epoch: 311  loss: 0.09849538\n",
      "epoch: 321  loss: 0.09726483\n",
      "epoch: 331  loss: 0.09977455\n",
      "epoch: 341  loss: 0.09567650\n",
      "epoch: 351  loss: 0.09528324\n",
      "epoch: 361  loss: 0.09435045\n",
      "epoch: 371  loss: 0.09347411\n",
      "epoch: 381  loss: 0.09273776\n",
      "epoch: 391  loss: 0.09215128\n",
      "epoch: 401  loss: 0.09152777\n",
      "epoch: 411  loss: 0.09093679\n",
      "epoch: 421  loss: 0.09103637\n",
      "epoch: 431  loss: 0.09248671\n",
      "epoch: 441  loss: 0.09008140\n",
      "epoch: 451  loss: 0.08899614\n",
      "epoch: 461  loss: 0.08825202\n",
      "epoch: 471  loss: 0.08770515\n",
      "epoch: 481  loss: 0.08728736\n",
      "epoch: 491  loss: 0.08674841\n"
     ]
    }
   ],
   "source": [
    "epochs = 500 # number of runs through the training data\n",
    "losses = []\n",
    "\n",
    "for i in range(epochs):\n",
    "    i+=1\n",
    "    y_pred = model.forward(X_train)\n",
    "    loss = criterion(y_pred, y_train)\n",
    "    losses.append(loss)\n",
    "    \n",
    "    # a neat trick to save screen space:\n",
    "    if i%10 == 1:\n",
    "        print(f'epoch: {i:2}  loss: {loss.item():10.8f}')\n",
    "\n",
    "    optimizer.zero_grad() #zero-grad to not accomulate the gradient over the epochs\n",
    "    loss.backward()\n",
    "    optimizer.step()"
   ]
  },
  {
   "cell_type": "code",
   "execution_count": 13,
   "id": "5dd35923",
   "metadata": {
    "execution": {
     "iopub.execute_input": "2022-01-06T20:07:24.332337Z",
     "iopub.status.busy": "2022-01-06T20:07:24.331582Z",
     "iopub.status.idle": "2022-01-06T20:07:24.730375Z",
     "shell.execute_reply": "2022-01-06T20:07:24.731012Z",
     "shell.execute_reply.started": "2022-01-06T20:05:47.872110Z"
    },
    "papermill": {
     "duration": 0.446147,
     "end_time": "2022-01-06T20:07:24.731252",
     "exception": false,
     "start_time": "2022-01-06T20:07:24.285105",
     "status": "completed"
    },
    "tags": []
   },
   "outputs": [
    {
     "data": {
      "image/png": "[encoded data removed]",
      "text/plain": [
       "<Figure size 432x288 with 1 Axes>"
      ]
     },
     "metadata": {
      "needs_background": "light"
     },
     "output_type": "display_data"
    }
   ],
   "source": [
    "plt.plot(range(epochs), losses)\n",
    "plt.ylabel('Loss')\n",
    "plt.xlabel('epoch');"
   ]
  },
  {
   "cell_type": "code",
   "execution_count": 14,
   "id": "ca3db408",
   "metadata": {
    "execution": {
     "iopub.execute_input": "2022-01-06T20:07:24.802193Z",
     "iopub.status.busy": "2022-01-06T20:07:24.801419Z",
     "iopub.status.idle": "2022-01-06T20:07:24.818023Z",
     "shell.execute_reply": "2022-01-06T20:07:24.818641Z",
     "shell.execute_reply.started": "2022-01-06T20:05:48.067680Z"
    },
    "papermill": {
     "duration": 0.054206,
     "end_time": "2022-01-06T20:07:24.818904",
     "exception": false,
     "start_time": "2022-01-06T20:07:24.764698",
     "status": "completed"
    },
    "tags": []
   },
   "outputs": [
    {
     "name": "stdout",
     "output_type": "stream",
     "text": [
      "tensor([0, 1, 0,  ..., 0, 0, 0])\n"
     ]
    }
   ],
   "source": [
    "Test_Predictions = torch.max(y_pred,1)[1]\n",
    "print(Test_Predictions)"
   ]
  },
  {
   "cell_type": "markdown",
   "id": "c6f9fa55",
   "metadata": {
    "papermill": {
     "duration": 0.032292,
     "end_time": "2022-01-06T20:07:24.884951",
     "exception": false,
     "start_time": "2022-01-06T20:07:24.852659",
     "status": "completed"
    },
    "tags": []
   },
   "source": [
    "# Evaluate The Model"
   ]
  },
  {
   "cell_type": "code",
   "execution_count": 15,
   "id": "5983bdd3",
   "metadata": {
    "execution": {
     "iopub.execute_input": "2022-01-06T20:07:24.957224Z",
     "iopub.status.busy": "2022-01-06T20:07:24.956059Z",
     "iopub.status.idle": "2022-01-06T20:07:24.963650Z",
     "shell.execute_reply": "2022-01-06T20:07:24.964948Z",
     "shell.execute_reply.started": "2022-01-06T20:05:48.075703Z"
    },
    "papermill": {
     "duration": 0.046652,
     "end_time": "2022-01-06T20:07:24.965197",
     "exception": false,
     "start_time": "2022-01-06T20:07:24.918545",
     "status": "completed"
    },
    "tags": []
   },
   "outputs": [],
   "source": [
    "with torch.no_grad():\n",
    "    y_test_pred = model.forward(X_test)"
   ]
  },
  {
   "cell_type": "code",
   "execution_count": 16,
   "id": "e513b7cc",
   "metadata": {
    "execution": {
     "iopub.execute_input": "2022-01-06T20:07:25.038486Z",
     "iopub.status.busy": "2022-01-06T20:07:25.037348Z",
     "iopub.status.idle": "2022-01-06T20:07:25.040388Z",
     "shell.execute_reply": "2022-01-06T20:07:25.041049Z",
     "shell.execute_reply.started": "2022-01-06T20:05:48.089583Z"
    },
    "papermill": {
     "duration": 0.041772,
     "end_time": "2022-01-06T20:07:25.041345",
     "exception": false,
     "start_time": "2022-01-06T20:07:24.999573",
     "status": "completed"
    },
    "tags": []
   },
   "outputs": [],
   "source": [
    "y_test_pred = torch.max(y_test_pred,1)[1]"
   ]
  },
  {
   "cell_type": "code",
   "execution_count": 17,
   "id": "d88ab18b",
   "metadata": {
    "execution": {
     "iopub.execute_input": "2022-01-06T20:07:25.114572Z",
     "iopub.status.busy": "2022-01-06T20:07:25.113527Z",
     "iopub.status.idle": "2022-01-06T20:07:25.218560Z",
     "shell.execute_reply": "2022-01-06T20:07:25.219312Z",
     "shell.execute_reply.started": "2022-01-06T20:05:48.097905Z"
    },
    "papermill": {
     "duration": 0.143063,
     "end_time": "2022-01-06T20:07:25.219566",
     "exception": false,
     "start_time": "2022-01-06T20:07:25.076503",
     "status": "completed"
    },
    "tags": []
   },
   "outputs": [
    {
     "name": "stdout",
     "output_type": "stream",
     "text": [
      "[[13008   180]\n",
      " [  594 12795]]\n",
      "---------------------------------------------------------\n",
      "              precision    recall  f1-score   support\n",
      "\n",
      "           0       0.96      0.99      0.97     13188\n",
      "           1       0.99      0.96      0.97     13389\n",
      "\n",
      "    accuracy                           0.97     26577\n",
      "   macro avg       0.97      0.97      0.97     26577\n",
      "weighted avg       0.97      0.97      0.97     26577\n",
      "\n"
     ]
    }
   ],
   "source": [
    "print(confusion_matrix(y_test, y_test_pred))\n",
    "print('---------------------------------------------------------')\n",
    "print(classification_report(y_test, y_test_pred))"
   ]
  },
  {
   "cell_type": "code",
   "execution_count": null,
   "id": "2fff4648",
   "metadata": {
    "papermill": {
     "duration": 0.031501,
     "end_time": "2022-01-06T20:07:25.282298",
     "exception": false,
     "start_time": "2022-01-06T20:07:25.250797",
     "status": "completed"
    },
    "tags": []
   },
   "outputs": [],
   "source": []
  }
 ],
 "metadata": {
  "kernelspec": {
   "display_name": "Python 3",
   "language": "python",
   "name": "python3"
  },
  "language_info": {
   "codemirror_mode": {
    "name": "ipython",
    "version": 3
   },
   "file_extension": ".py",
   "mimetype": "text/x-python",
   "name": "python",
   "nbconvert_exporter": "python",
   "pygments_lexer": "ipython3",
   "version": "3.7.12"
  },
  "papermill": {
   "default_parameters": {},
   "duration": 24.36263,
   "end_time": "2022-01-06T20:07:26.428401",
   "environment_variables": {},
   "exception": null,
   "input_path": "__notebook__.ipynb",
   "output_path": "__notebook__.ipynb",
   "parameters": {},
   "start_time": "2022-01-06T20:07:02.065771",
   "version": "2.3.3"
  }
 },
 "nbformat": 4,
 "nbformat_minor": 5
}
